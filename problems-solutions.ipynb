{
 "cells": [
  {
   "cell_type": "markdown",
   "metadata": {},
   "source": [
    "# Problems and Solutions\n",
    "## Loading issues\n",
    "### Module from the current folder cannot be loaded\n",
    "![Drag Racing](data/img/p&s/import-error.png)\n",
    "\n",
    "Call directly from the location where the above files are present. Before importing the file, \"hello.py\" import the path: \n",
    "\n",
    "```python\n",
    "import sys, os \n",
    "sys.path.append('.') \n",
    "Import hello \n",
    "```"
   ]
  }
 ],
 "metadata": {
  "kernelspec": {
   "display_name": "Python 3",
   "language": "python",
   "name": "python3"
  },
  "language_info": {
   "codemirror_mode": {
    "name": "ipython",
    "version": 3
   },
   "file_extension": ".py",
   "mimetype": "text/x-python",
   "name": "python",
   "nbconvert_exporter": "python",
   "pygments_lexer": "ipython3",
   "version": "3.7.3"
  }
 },
 "nbformat": 4,
 "nbformat_minor": 2
}
