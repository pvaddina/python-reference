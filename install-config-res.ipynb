{
 "cells": [
  {
   "cell_type": "markdown",
   "metadata": {},
   "source": [
    "# Installation and configuration\n",
    "\n",
    "## Install PIP \n",
    "\n",
    "1. Go to this [link](https://pip.pypa.io/en/stable/installing/) \n",
    "2. Download the file, \"get-pip.py\" \n",
    "3. Installation behind a proxy:\n",
    "   *  ``` python get-pip.py --proxy=\"http://<user-name>:<password>@<proxy>:<proxy-port>\" ```"
   ]
  },
  {
   "cell_type": "markdown",
   "metadata": {},
   "source": [
    "## Installing modules behind a proxy\n",
    "\n",
    "### With PIP\n",
    "1. ```pip --proxy=\"http://<user-name>:<password>@<proxy>:<proxy-port>\" install colorama```\n"
   ]
  },
  {
   "cell_type": "markdown",
   "metadata": {},
   "source": [
    "# Resources\n",
    "\n",
    "1. [Tutorial on Python Requests](http://zetcode.com/python/requests/) - Python Requests tutorial introduces the Python Requests module. We grab data, post data, stream data, and connect to secure web pages."
   ]
  }
 ],
 "metadata": {
  "kernelspec": {
   "display_name": "Python 3",
   "language": "python",
   "name": "python3"
  },
  "language_info": {
   "codemirror_mode": {
    "name": "ipython",
    "version": 3
   },
   "file_extension": ".py",
   "mimetype": "text/x-python",
   "name": "python",
   "nbconvert_exporter": "python",
   "pygments_lexer": "ipython3",
   "version": "3.7.3"
  }
 },
 "nbformat": 4,
 "nbformat_minor": 2
}
