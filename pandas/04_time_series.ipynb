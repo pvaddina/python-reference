{
 "cells": [
  {
   "cell_type": "code",
   "execution_count": 1,
   "metadata": {},
   "outputs": [],
   "source": [
    "import pandas as pd\n",
    "import numpy as np\n",
    "import matplotlib.pyplot as plt\n",
    "import seaborn as sns\n",
    "%matplotlib inline \n",
    "sns.set()"
   ]
  },
  {
   "cell_type": "markdown",
   "metadata": {},
   "source": [
    "Simple datatime operations"
   ]
  },
  {
   "cell_type": "code",
   "execution_count": 2,
   "metadata": {},
   "outputs": [
    {
     "data": {
      "text/plain": [
       "Timestamp('2017-09-26 00:00:00')"
      ]
     },
     "execution_count": 2,
     "metadata": {},
     "output_type": "execute_result"
    }
   ],
   "source": [
    "date = pd.to_datetime(\"26th September 2017\")\n",
    "date"
   ]
  },
  {
   "cell_type": "code",
   "execution_count": 17,
   "metadata": {},
   "outputs": [
    {
     "data": {
      "text/plain": [
       "DatetimeIndex(['2017-09-26', '2017-09-27'], dtype='datetime64[ns]', freq=None)"
      ]
     },
     "execution_count": 17,
     "metadata": {},
     "output_type": "execute_result"
    }
   ],
   "source": [
    "date + pd.to_timedelta(np.arange(2), 'D')"
   ]
  },
  {
   "cell_type": "code",
   "execution_count": 4,
   "metadata": {},
   "outputs": [
    {
     "data": {
      "text/plain": [
       "DatetimeIndex(['2017-09-26 00:00:00', '2017-10-26 10:29:06',\n",
       "               '2017-11-25 20:58:12', '2017-12-26 07:27:18',\n",
       "               '2018-01-25 17:56:24', '2018-02-25 04:25:30',\n",
       "               '2018-03-27 14:54:36', '2018-04-27 01:23:42',\n",
       "               '2018-05-27 11:52:48', '2018-06-26 22:21:54'],\n",
       "              dtype='datetime64[ns]', freq=None)"
      ]
     },
     "execution_count": 4,
     "metadata": {},
     "output_type": "execute_result"
    }
   ],
   "source": [
    "date + pd.to_timedelta(np.arange(10), 'M')"
   ]
  },
  {
   "cell_type": "code",
   "execution_count": 20,
   "metadata": {},
   "outputs": [
    {
     "data": {
      "text/plain": [
       "Timestamp('2017-10-06 00:00:00')"
      ]
     },
     "execution_count": 20,
     "metadata": {},
     "output_type": "execute_result"
    }
   ],
   "source": [
    "date + pd.Timedelta(days=10)"
   ]
  },
  {
   "cell_type": "markdown",
   "metadata": {},
   "source": [
    "Indexing pandas series or dataframes with time"
   ]
  },
  {
   "cell_type": "code",
   "execution_count": 5,
   "metadata": {},
   "outputs": [
    {
     "data": {
      "text/html": [
       "<div>\n",
       "<style scoped>\n",
       "    .dataframe tbody tr th:only-of-type {\n",
       "        vertical-align: middle;\n",
       "    }\n",
       "\n",
       "    .dataframe tbody tr th {\n",
       "        vertical-align: top;\n",
       "    }\n",
       "\n",
       "    .dataframe thead th {\n",
       "        text-align: right;\n",
       "    }\n",
       "</style>\n",
       "<table border=\"1\" class=\"dataframe\">\n",
       "  <thead>\n",
       "    <tr style=\"text-align: right;\">\n",
       "      <th></th>\n",
       "      <th>Temperature</th>\n",
       "    </tr>\n",
       "  </thead>\n",
       "  <tbody>\n",
       "    <tr>\n",
       "      <th>2020-05-01</th>\n",
       "      <td>45.0</td>\n",
       "    </tr>\n",
       "    <tr>\n",
       "      <th>2020-05-02</th>\n",
       "      <td>45.3</td>\n",
       "    </tr>\n",
       "    <tr>\n",
       "      <th>2020-05-03</th>\n",
       "      <td>45.8</td>\n",
       "    </tr>\n",
       "    <tr>\n",
       "      <th>2020-05-04</th>\n",
       "      <td>44.8</td>\n",
       "    </tr>\n",
       "    <tr>\n",
       "      <th>2020-05-05</th>\n",
       "      <td>47.0</td>\n",
       "    </tr>\n",
       "    <tr>\n",
       "      <th>2020-05-06</th>\n",
       "      <td>48.0</td>\n",
       "    </tr>\n",
       "    <tr>\n",
       "      <th>2020-05-07</th>\n",
       "      <td>49.0</td>\n",
       "    </tr>\n",
       "    <tr>\n",
       "      <th>2020-05-08</th>\n",
       "      <td>47.0</td>\n",
       "    </tr>\n",
       "    <tr>\n",
       "      <th>2020-05-09</th>\n",
       "      <td>45.0</td>\n",
       "    </tr>\n",
       "    <tr>\n",
       "      <th>2020-05-10</th>\n",
       "      <td>47.0</td>\n",
       "    </tr>\n",
       "    <tr>\n",
       "      <th>2020-05-11</th>\n",
       "      <td>46.0</td>\n",
       "    </tr>\n",
       "    <tr>\n",
       "      <th>2020-05-12</th>\n",
       "      <td>49.0</td>\n",
       "    </tr>\n",
       "    <tr>\n",
       "      <th>2020-05-13</th>\n",
       "      <td>50.0</td>\n",
       "    </tr>\n",
       "    <tr>\n",
       "      <th>2020-05-14</th>\n",
       "      <td>45.0</td>\n",
       "    </tr>\n",
       "    <tr>\n",
       "      <th>2020-05-15</th>\n",
       "      <td>44.0</td>\n",
       "    </tr>\n",
       "    <tr>\n",
       "      <th>2020-05-16</th>\n",
       "      <td>47.0</td>\n",
       "    </tr>\n",
       "    <tr>\n",
       "      <th>2020-05-17</th>\n",
       "      <td>49.0</td>\n",
       "    </tr>\n",
       "    <tr>\n",
       "      <th>2020-05-18</th>\n",
       "      <td>50.0</td>\n",
       "    </tr>\n",
       "  </tbody>\n",
       "</table>\n",
       "</div>"
      ],
      "text/plain": [
       "            Temperature\n",
       "2020-05-01         45.0\n",
       "2020-05-02         45.3\n",
       "2020-05-03         45.8\n",
       "2020-05-04         44.8\n",
       "2020-05-05         47.0\n",
       "2020-05-06         48.0\n",
       "2020-05-07         49.0\n",
       "2020-05-08         47.0\n",
       "2020-05-09         45.0\n",
       "2020-05-10         47.0\n",
       "2020-05-11         46.0\n",
       "2020-05-12         49.0\n",
       "2020-05-13         50.0\n",
       "2020-05-14         45.0\n",
       "2020-05-15         44.0\n",
       "2020-05-16         47.0\n",
       "2020-05-17         49.0\n",
       "2020-05-18         50.0"
      ]
     },
     "execution_count": 5,
     "metadata": {},
     "output_type": "execute_result"
    }
   ],
   "source": [
    "temp = [45,45.3,45.8,44.8,47,48,49,47,45,47,46,49,50,45,44,47,49,50]\n",
    "startDate = pd.to_datetime(\"01th May 2020\")\n",
    "dates = startDate + pd.to_timedelta(np.arange(len(temp)), 'D')\n",
    "pd.DataFrame(temp, index=dates, columns=['Temperature'])"
   ]
  },
  {
   "cell_type": "code",
   "execution_count": 6,
   "metadata": {},
   "outputs": [
    {
     "data": {
      "text/html": [
       "<div>\n",
       "<style scoped>\n",
       "    .dataframe tbody tr th:only-of-type {\n",
       "        vertical-align: middle;\n",
       "    }\n",
       "\n",
       "    .dataframe tbody tr th {\n",
       "        vertical-align: top;\n",
       "    }\n",
       "\n",
       "    .dataframe thead th {\n",
       "        text-align: right;\n",
       "    }\n",
       "</style>\n",
       "<table border=\"1\" class=\"dataframe\">\n",
       "  <thead>\n",
       "    <tr style=\"text-align: right;\">\n",
       "      <th></th>\n",
       "      <th>Temperature</th>\n",
       "    </tr>\n",
       "    <tr>\n",
       "      <th>Day</th>\n",
       "      <th></th>\n",
       "    </tr>\n",
       "  </thead>\n",
       "  <tbody>\n",
       "    <tr>\n",
       "      <th>2020-05-01</th>\n",
       "      <td>45.0</td>\n",
       "    </tr>\n",
       "    <tr>\n",
       "      <th>2020-05-02</th>\n",
       "      <td>45.3</td>\n",
       "    </tr>\n",
       "    <tr>\n",
       "      <th>2020-05-03</th>\n",
       "      <td>45.8</td>\n",
       "    </tr>\n",
       "    <tr>\n",
       "      <th>2020-05-04</th>\n",
       "      <td>44.8</td>\n",
       "    </tr>\n",
       "    <tr>\n",
       "      <th>2020-05-05</th>\n",
       "      <td>47.0</td>\n",
       "    </tr>\n",
       "    <tr>\n",
       "      <th>2020-05-06</th>\n",
       "      <td>48.0</td>\n",
       "    </tr>\n",
       "    <tr>\n",
       "      <th>2020-05-07</th>\n",
       "      <td>49.0</td>\n",
       "    </tr>\n",
       "    <tr>\n",
       "      <th>2020-05-08</th>\n",
       "      <td>47.0</td>\n",
       "    </tr>\n",
       "    <tr>\n",
       "      <th>2020-05-09</th>\n",
       "      <td>45.0</td>\n",
       "    </tr>\n",
       "    <tr>\n",
       "      <th>2020-05-10</th>\n",
       "      <td>47.0</td>\n",
       "    </tr>\n",
       "    <tr>\n",
       "      <th>2020-05-11</th>\n",
       "      <td>46.0</td>\n",
       "    </tr>\n",
       "    <tr>\n",
       "      <th>2020-05-12</th>\n",
       "      <td>49.0</td>\n",
       "    </tr>\n",
       "    <tr>\n",
       "      <th>2020-05-13</th>\n",
       "      <td>50.0</td>\n",
       "    </tr>\n",
       "    <tr>\n",
       "      <th>2020-05-14</th>\n",
       "      <td>45.0</td>\n",
       "    </tr>\n",
       "    <tr>\n",
       "      <th>2020-05-15</th>\n",
       "      <td>44.0</td>\n",
       "    </tr>\n",
       "    <tr>\n",
       "      <th>2020-05-16</th>\n",
       "      <td>47.0</td>\n",
       "    </tr>\n",
       "    <tr>\n",
       "      <th>2020-05-17</th>\n",
       "      <td>49.0</td>\n",
       "    </tr>\n",
       "    <tr>\n",
       "      <th>2020-05-18</th>\n",
       "      <td>50.0</td>\n",
       "    </tr>\n",
       "  </tbody>\n",
       "</table>\n",
       "</div>"
      ],
      "text/plain": [
       "            Temperature\n",
       "Day                    \n",
       "2020-05-01         45.0\n",
       "2020-05-02         45.3\n",
       "2020-05-03         45.8\n",
       "2020-05-04         44.8\n",
       "2020-05-05         47.0\n",
       "2020-05-06         48.0\n",
       "2020-05-07         49.0\n",
       "2020-05-08         47.0\n",
       "2020-05-09         45.0\n",
       "2020-05-10         47.0\n",
       "2020-05-11         46.0\n",
       "2020-05-12         49.0\n",
       "2020-05-13         50.0\n",
       "2020-05-14         45.0\n",
       "2020-05-15         44.0\n",
       "2020-05-16         47.0\n",
       "2020-05-17         49.0\n",
       "2020-05-18         50.0"
      ]
     },
     "execution_count": 6,
     "metadata": {},
     "output_type": "execute_result"
    }
   ],
   "source": [
    "# Note: Passing the 'dates' object as a list is important without which there will be an error\n",
    "mayTemps = pd.DataFrame(temp, index=pd.MultiIndex.from_arrays([dates], names=['Day'])\n",
    "                            , columns=['Temperature'])\n",
    "mayTemps"
   ]
  },
  {
   "cell_type": "code",
   "execution_count": 7,
   "metadata": {},
   "outputs": [
    {
     "data": {
      "text/plain": [
       "2020-05-01    45.0\n",
       "2020-05-02    45.3\n",
       "2020-05-03    45.8\n",
       "2020-05-04    44.8\n",
       "2020-05-05    47.0\n",
       "2020-05-06    48.0\n",
       "2020-05-07    49.0\n",
       "2020-05-08    47.0\n",
       "2020-05-09    45.0\n",
       "2020-05-10    47.0\n",
       "2020-05-11    46.0\n",
       "2020-05-12    49.0\n",
       "2020-05-13    50.0\n",
       "2020-05-14    45.0\n",
       "2020-05-15    44.0\n",
       "2020-05-16    47.0\n",
       "2020-05-17    49.0\n",
       "2020-05-18    50.0\n",
       "dtype: float64"
      ]
     },
     "execution_count": 7,
     "metadata": {},
     "output_type": "execute_result"
    }
   ],
   "source": [
    "pd.Series(temp, index=dates)"
   ]
  },
  {
   "cell_type": "code",
   "execution_count": 8,
   "metadata": {},
   "outputs": [
    {
     "data": {
      "text/html": [
       "<div>\n",
       "<style scoped>\n",
       "    .dataframe tbody tr th:only-of-type {\n",
       "        vertical-align: middle;\n",
       "    }\n",
       "\n",
       "    .dataframe tbody tr th {\n",
       "        vertical-align: top;\n",
       "    }\n",
       "\n",
       "    .dataframe thead th {\n",
       "        text-align: right;\n",
       "    }\n",
       "</style>\n",
       "<table border=\"1\" class=\"dataframe\">\n",
       "  <thead>\n",
       "    <tr style=\"text-align: right;\">\n",
       "      <th></th>\n",
       "      <th>Temperature</th>\n",
       "    </tr>\n",
       "    <tr>\n",
       "      <th>Day</th>\n",
       "      <th></th>\n",
       "    </tr>\n",
       "  </thead>\n",
       "  <tbody>\n",
       "    <tr>\n",
       "      <th>2020-05-13</th>\n",
       "      <td>50.0</td>\n",
       "    </tr>\n",
       "    <tr>\n",
       "      <th>2020-05-14</th>\n",
       "      <td>45.0</td>\n",
       "    </tr>\n",
       "    <tr>\n",
       "      <th>2020-05-15</th>\n",
       "      <td>44.0</td>\n",
       "    </tr>\n",
       "  </tbody>\n",
       "</table>\n",
       "</div>"
      ],
      "text/plain": [
       "            Temperature\n",
       "Day                    \n",
       "2020-05-13         50.0\n",
       "2020-05-14         45.0\n",
       "2020-05-15         44.0"
      ]
     },
     "execution_count": 8,
     "metadata": {},
     "output_type": "execute_result"
    }
   ],
   "source": [
    "mayTemps['13 may 2020': 'may 15 2020']"
   ]
  },
  {
   "cell_type": "markdown",
   "metadata": {},
   "source": [
    "# DateRange"
   ]
  },
  {
   "cell_type": "code",
   "execution_count": 9,
   "metadata": {},
   "outputs": [
    {
     "data": {
      "text/plain": [
       "DatetimeIndex(['2020-05-13', '2020-05-14', '2020-05-15'], dtype='datetime64[ns]', freq='D')"
      ]
     },
     "execution_count": 9,
     "metadata": {},
     "output_type": "execute_result"
    }
   ],
   "source": [
    "pd.date_range('13 may 2020', 'may 15 2020')"
   ]
  },
  {
   "cell_type": "code",
   "execution_count": 10,
   "metadata": {},
   "outputs": [
    {
     "data": {
      "text/plain": [
       "DatetimeIndex(['2020-05-17', '2020-05-24'], dtype='datetime64[ns]', freq='W-SUN')"
      ]
     },
     "execution_count": 10,
     "metadata": {},
     "output_type": "execute_result"
    }
   ],
   "source": [
    "pd.date_range('13 may 2020', 'may 29 2020', freq='W')"
   ]
  },
  {
   "cell_type": "code",
   "execution_count": 11,
   "metadata": {},
   "outputs": [
    {
     "data": {
      "text/plain": [
       "DatetimeIndex(['2020-05-13', '2020-05-14', '2020-05-15'], dtype='datetime64[ns]', freq='D')"
      ]
     },
     "execution_count": 11,
     "metadata": {},
     "output_type": "execute_result"
    }
   ],
   "source": [
    "# Get three different dates starting from the first argument, with a frequency of a 'day'\n",
    "pd.date_range('13 may 2020', periods=3, freq='D')"
   ]
  },
  {
   "cell_type": "code",
   "execution_count": 12,
   "metadata": {},
   "outputs": [
    {
     "data": {
      "text/plain": [
       "DatetimeIndex(['2020-05-13', '2020-05-21', '2020-05-29'], dtype='datetime64[ns]', freq=None)"
      ]
     },
     "execution_count": 12,
     "metadata": {},
     "output_type": "execute_result"
    }
   ],
   "source": [
    "# This will give exactly 3 days spread equally between 13.05.2020 and 29.05.2020\n",
    "pd.date_range('13 may 2020', 'may 29 2020', periods=3)"
   ]
  },
  {
   "cell_type": "markdown",
   "metadata": {},
   "source": [
    "# Resamling, Shifting "
   ]
  },
  {
   "cell_type": "code",
   "execution_count": 13,
   "metadata": {},
   "outputs": [
    {
     "data": {
      "text/html": [
       "<div>\n",
       "<style scoped>\n",
       "    .dataframe tbody tr th:only-of-type {\n",
       "        vertical-align: middle;\n",
       "    }\n",
       "\n",
       "    .dataframe tbody tr th {\n",
       "        vertical-align: top;\n",
       "    }\n",
       "\n",
       "    .dataframe thead th {\n",
       "        text-align: right;\n",
       "    }\n",
       "</style>\n",
       "<table border=\"1\" class=\"dataframe\">\n",
       "  <thead>\n",
       "    <tr style=\"text-align: right;\">\n",
       "      <th></th>\n",
       "      <th>High</th>\n",
       "      <th>Low</th>\n",
       "      <th>Open</th>\n",
       "      <th>Close</th>\n",
       "      <th>Volume</th>\n",
       "      <th>Adj Close</th>\n",
       "    </tr>\n",
       "    <tr>\n",
       "      <th>Date</th>\n",
       "      <th></th>\n",
       "      <th></th>\n",
       "      <th></th>\n",
       "      <th></th>\n",
       "      <th></th>\n",
       "      <th></th>\n",
       "    </tr>\n",
       "  </thead>\n",
       "  <tbody>\n",
       "    <tr>\n",
       "      <th>2019-12-24</th>\n",
       "      <td>425.470001</td>\n",
       "      <td>412.690002</td>\n",
       "      <td>418.359985</td>\n",
       "      <td>425.250000</td>\n",
       "      <td>8054700</td>\n",
       "      <td>425.250000</td>\n",
       "    </tr>\n",
       "    <tr>\n",
       "      <th>2019-12-26</th>\n",
       "      <td>433.480011</td>\n",
       "      <td>426.350006</td>\n",
       "      <td>427.910004</td>\n",
       "      <td>430.940002</td>\n",
       "      <td>10633900</td>\n",
       "      <td>430.940002</td>\n",
       "    </tr>\n",
       "    <tr>\n",
       "      <th>2019-12-27</th>\n",
       "      <td>435.309998</td>\n",
       "      <td>426.109985</td>\n",
       "      <td>435.000000</td>\n",
       "      <td>430.380005</td>\n",
       "      <td>9945700</td>\n",
       "      <td>430.380005</td>\n",
       "    </tr>\n",
       "    <tr>\n",
       "      <th>2019-12-30</th>\n",
       "      <td>429.000000</td>\n",
       "      <td>409.260010</td>\n",
       "      <td>428.790009</td>\n",
       "      <td>414.700012</td>\n",
       "      <td>12586400</td>\n",
       "      <td>414.700012</td>\n",
       "    </tr>\n",
       "    <tr>\n",
       "      <th>2019-12-31</th>\n",
       "      <td>421.290009</td>\n",
       "      <td>402.079987</td>\n",
       "      <td>405.000000</td>\n",
       "      <td>418.329987</td>\n",
       "      <td>10285700</td>\n",
       "      <td>418.329987</td>\n",
       "    </tr>\n",
       "  </tbody>\n",
       "</table>\n",
       "</div>"
      ],
      "text/plain": [
       "                  High         Low        Open       Close    Volume  \\\n",
       "Date                                                                   \n",
       "2019-12-24  425.470001  412.690002  418.359985  425.250000   8054700   \n",
       "2019-12-26  433.480011  426.350006  427.910004  430.940002  10633900   \n",
       "2019-12-27  435.309998  426.109985  435.000000  430.380005   9945700   \n",
       "2019-12-30  429.000000  409.260010  428.790009  414.700012  12586400   \n",
       "2019-12-31  421.290009  402.079987  405.000000  418.329987  10285700   \n",
       "\n",
       "             Adj Close  \n",
       "Date                    \n",
       "2019-12-24  425.250000  \n",
       "2019-12-26  430.940002  \n",
       "2019-12-27  430.380005  \n",
       "2019-12-30  414.700012  \n",
       "2019-12-31  418.329987  "
      ]
     },
     "execution_count": 13,
     "metadata": {},
     "output_type": "execute_result"
    }
   ],
   "source": [
    "from pandas_datareader import data\n",
    "tesla = data.DataReader('TSLA', start='2016', end='2020', data_source='yahoo')\n",
    "tesla.tail()"
   ]
  },
  {
   "cell_type": "code",
   "execution_count": 14,
   "metadata": {
    "scrolled": true
   },
   "outputs": [
    {
     "data": {
      "text/plain": [
       "<matplotlib.axes._subplots.AxesSubplot at 0x2b6d8d61908>"
      ]
     },
     "execution_count": 14,
     "metadata": {},
     "output_type": "execute_result"
    },
    {
     "data": {
      "image/png": "[encoded data removed]",
      "text/plain": [
       "<Figure size 432x288 with 1 Axes>"
      ]
     },
     "metadata": {
      "needs_background": "light"
     },
     "output_type": "display_data"
    }
   ],
   "source": [
    "tesla = tesla['High']\n",
    "tesla.plot()"
   ]
  },
  {
   "cell_type": "code",
   "execution_count": 15,
   "metadata": {},
   "outputs": [
    {
     "data": {
      "text/plain": [
       "<matplotlib.axes._subplots.AxesSubplot at 0x2b6d9dc3da0>"
      ]
     },
     "execution_count": 15,
     "metadata": {},
     "output_type": "execute_result"
    },
    {
     "data": {
      "image/png": "[encoded data removed]",
      "text/plain": [
       "<Figure size 432x288 with 1 Axes>"
      ]
     },
     "metadata": {
      "needs_background": "light"
     },
     "output_type": "display_data"
    }
   ],
   "source": [
    "# Plot all the date (Every single datapoint)\n",
    "tesla.plot(alpha=0.5)\n",
    "# Resample the data on a Monthly basis, take the average of it and plot\n",
    "tesla.resample('M').mean().plot(style=':')\n",
    "# Resample the data on a Monthly basis, take the median of all the monthly values, and plot\n",
    "tesla.resample('M').median().plot(style=':')\n",
    "# Resample the data on a Monthly basis, take the last value of the month and plot\n",
    "tesla.asfreq('M').plot(style=\"--\")"
   ]
  },
  {
   "cell_type": "code",
   "execution_count": 21,
   "metadata": {},
   "outputs": [
    {
     "data": {
      "text/plain": [
       "<matplotlib.lines.Line2D at 0x2b6d9f217f0>"
      ]
     },
     "execution_count": 21,
     "metadata": {},
     "output_type": "execute_result"
    },
    {
     "data": {
      "image/png": "[encoded data removed]",
      "text/plain": [
       "<Figure size 432x288 with 3 Axes>"
      ]
     },
     "metadata": {
      "needs_background": "light"
     },
     "output_type": "display_data"
    }
   ],
   "source": [
    "fig, ax = plt.subplots(3, sharey=True)\n",
    "tesla = tesla.asfreq('D', method='pad')\n",
    "tesla.plot(ax=ax[0])\n",
    "tesla.shift(400).plot(ax=ax[1])\n",
    "tesla.tshift(400).plot(ax=ax[2])\n",
    "\n",
    "lowest = pd.to_datetime('16.06.2018')\n",
    "#changelblft = lambda l: l.set_fontsize(300)\n",
    "\n",
    "ax[0].set_xticklabels(ax[0].get_xticklabels(), fontdict={'fontsize':20})\n",
    "ax[0].axvline(lowest, color='purple', alpha=0.9)\n",
    "ax[1].set_xticklabels(ax[1].get_xticklabels(), fontdict={'fontsize':20})\n",
    "ax[1].axvline(lowest+pd.Timedelta(days=400), color='purple', alpha=0.9)\n",
    "ax[2].set_xticklabels(ax[1].get_xticklabels(), fontdict={'fontsize':20})\n",
    "ax[2].axvline(lowest, color='purple', alpha=0.9)"
   ]
  },
  {
   "cell_type": "code",
   "execution_count": 23,
   "metadata": {},
   "outputs": [
    {
     "data": {
      "text/plain": [
       "<matplotlib.axes._subplots.AxesSubplot at 0x2b6da34efd0>"
      ]
     },
     "execution_count": 23,
     "metadata": {},
     "output_type": "execute_result"
    },
    {
     "data": {
      "image/png": "[encoded data removed]",
      "text/plain": [
       "<Figure size 432x288 with 1 Axes>"
      ]
     },
     "metadata": {
      "needs_background": "light"
     },
     "output_type": "display_data"
    }
   ],
   "source": [
    "# Calculate the return of investment for the stock in a one year period. \n",
    "ROI = 100 * (tesla.tshift(-365) / tesla-1)\n",
    "ROI.plot()"
   ]
  },
  {
   "cell_type": "markdown",
   "metadata": {},
   "source": [
    "As can be seen in the graph during the period of 04.2017 and near the end of 2019, the ROI for tesla stock that is bought one year earlier is negative. Meaning it would always have been at a loss."
   ]
  },
  {
   "cell_type": "code",
   "execution_count": 39,
   "metadata": {},
   "outputs": [
    {
     "data": {
      "text/plain": [
       "Date\n",
       "2015-12-31    AxesSubplot(0.125,0.125;0.775x0.755)\n",
       "2016-12-31    AxesSubplot(0.125,0.125;0.775x0.755)\n",
       "2017-12-31    AxesSubplot(0.125,0.125;0.775x0.755)\n",
       "2018-12-31    AxesSubplot(0.125,0.125;0.775x0.755)\n",
       "2019-12-31    AxesSubplot(0.125,0.125;0.775x0.755)\n",
       "Freq: A-DEC, Name: High, dtype: object"
      ]
     },
     "execution_count": 39,
     "metadata": {},
     "output_type": "execute_result"
    },
    {
     "data": {
      "image/png": "[encoded data removed]",
      "text/plain": [
       "<Figure size 432x288 with 1 Axes>"
      ]
     },
     "metadata": {
      "needs_background": "light"
     },
     "output_type": "display_data"
    }
   ],
   "source": [
    "ROI.resample('A').plot()"
   ]
  },
  {
   "cell_type": "code",
   "execution_count": 42,
   "metadata": {},
   "outputs": [
    {
     "data": {
      "text/plain": [
       "<matplotlib.axes._subplots.AxesSubplot at 0x2b6df8f6048>"
      ]
     },
     "execution_count": 42,
     "metadata": {},
     "output_type": "execute_result"
    },
    {
     "data": {
      "image/png": "[encoded data removed]",
      "text/plain": [
       "<Figure size 432x288 with 1 Axes>"
      ]
     },
     "metadata": {
      "needs_background": "light"
     },
     "output_type": "display_data"
    }
   ],
   "source": [
    "ROI.asfreq('W').plot()"
   ]
  },
  {
   "cell_type": "markdown",
   "metadata": {},
   "source": [
    "## Example-2"
   ]
  },
  {
   "cell_type": "code",
   "execution_count": 54,
   "metadata": {},
   "outputs": [
    {
     "data": {
      "text/plain": [
       "DatetimeIndex([          '2020-01-20 00:00:00',\n",
       "               '2020-01-27 01:28:09.795918367',\n",
       "               '2020-02-03 02:56:19.591836734',\n",
       "               '2020-02-10 04:24:29.387755102',\n",
       "               '2020-02-17 05:52:39.183673469',\n",
       "               '2020-02-24 07:20:48.979591837',\n",
       "               '2020-03-02 08:48:58.775510204',\n",
       "               '2020-03-09 10:17:08.571428571',\n",
       "               '2020-03-16 11:45:18.367346939',\n",
       "               '2020-03-23 13:13:28.163265306',\n",
       "               '2020-03-30 14:41:37.959183674',\n",
       "               '2020-04-06 16:09:47.755102041',\n",
       "               '2020-04-13 17:37:57.551020408',\n",
       "               '2020-04-20 19:06:07.346938776',\n",
       "               '2020-04-27 20:34:17.142857143',\n",
       "               '2020-05-04 22:02:26.938775510',\n",
       "               '2020-05-11 23:30:36.734693878',\n",
       "               '2020-05-19 00:58:46.530612246',\n",
       "               '2020-05-26 02:26:56.326530612',\n",
       "               '2020-06-02 03:55:06.122448980',\n",
       "               '2020-06-09 05:23:15.918367348',\n",
       "               '2020-06-16 06:51:25.714285714',\n",
       "               '2020-06-23 08:19:35.510204082',\n",
       "               '2020-06-30 09:47:45.306122450',\n",
       "               '2020-07-07 11:15:55.102040816',\n",
       "               '2020-07-14 12:44:04.897959184',\n",
       "               '2020-07-21 14:12:14.693877552',\n",
       "               '2020-07-28 15:40:24.489795920',\n",
       "               '2020-08-04 17:08:34.285714286',\n",
       "               '2020-08-11 18:36:44.081632654',\n",
       "               '2020-08-18 20:04:53.877551020',\n",
       "               '2020-08-25 21:33:03.673469388',\n",
       "               '2020-09-01 23:01:13.469387756',\n",
       "               '2020-09-09 00:29:23.265306124',\n",
       "               '2020-09-16 01:57:33.061224492',\n",
       "               '2020-09-23 03:25:42.857142860',\n",
       "               '2020-09-30 04:53:52.653061224',\n",
       "               '2020-10-07 06:22:02.448979592',\n",
       "               '2020-10-14 07:50:12.244897960',\n",
       "               '2020-10-21 09:18:22.040816328',\n",
       "               '2020-10-28 10:46:31.836734696',\n",
       "               '2020-11-04 12:14:41.632653064',\n",
       "               '2020-11-11 13:42:51.428571428',\n",
       "               '2020-11-18 15:11:01.224489796',\n",
       "               '2020-11-25 16:39:11.020408164',\n",
       "               '2020-12-02 18:07:20.816326532',\n",
       "               '2020-12-09 19:35:30.612244900',\n",
       "               '2020-12-16 21:03:40.408163268',\n",
       "               '2020-12-23 22:31:50.204081632',\n",
       "                         '2020-12-31 00:00:00'],\n",
       "              dtype='datetime64[ns]', freq=None)"
      ]
     },
     "execution_count": 54,
     "metadata": {},
     "output_type": "execute_result"
    }
   ],
   "source": [
    "temps = np.random.randint(40,50,50)\n",
    "days = pd.date_range('20th Jan 2020', '31.12.2020', periods=50)\n",
    "meas = pd.DataFrame(temps, index=)"
   ]
  }
 ],
 "metadata": {
  "kernelspec": {
   "display_name": "Python 3 (ipykernel)",
   "language": "python",
   "name": "python3"
  },
  "language_info": {
   "codemirror_mode": {
    "name": "ipython",
    "version": 3
   },
   "file_extension": ".py",
   "mimetype": "text/x-python",
   "name": "python",
   "nbconvert_exporter": "python",
   "pygments_lexer": "ipython3",
   "version": "3.9.7"
  }
 },
 "nbformat": 4,
 "nbformat_minor": 2
}
