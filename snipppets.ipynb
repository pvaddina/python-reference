{
 "cells": [
  {
   "cell_type": "markdown",
   "metadata": {},
   "source": [
    "# Do an operation on two lists and round off the result to 3 decimals"
   ]
  },
  {
   "cell_type": "code",
   "execution_count": 1,
   "metadata": {},
   "outputs": [
    {
     "data": {
      "text/plain": [
       "-3"
      ]
     },
     "execution_count": 1,
     "metadata": {},
     "output_type": "execute_result"
    }
   ],
   "source": [
    "coord = lambda x,y: round(x[0]*y[1] - x[1]*y[0], 3) \n",
    "p = [1, 2, 0, 3, 0, 0, 6 ] \n",
    "z = [4, 5, 6] \n",
    "coord(p,z) "
   ]
  },
  {
   "cell_type": "code",
   "execution_count": 2,
   "metadata": {},
   "outputs": [
    {
     "data": {
      "text/plain": [
       "-4.013"
      ]
     },
     "execution_count": 2,
     "metadata": {},
     "output_type": "execute_result"
    }
   ],
   "source": [
    "p = [1.45345, 2.3242543, 0, 3, 0, 0, 6 ] \n",
    "z = [4.9984831222, 5.23224113, 6] \n",
    "coord(p,z) "
   ]
  },
  {
   "cell_type": "markdown",
   "metadata": {},
   "source": [
    "# Variable number of arguments to a function"
   ]
  },
  {
   "cell_type": "code",
   "execution_count": 16,
   "metadata": {},
   "outputs": [
    {
     "name": "stdout",
     "output_type": "stream",
     "text": [
      "Frequently used interest rate=2.3\n",
      "Supported interest rates are:(2.3, 4.56, 8.2, 1.5)\n"
     ]
    }
   ],
   "source": [
    "def print_all_rates(*args):\n",
    "    print(\"Frequently used interest rate={}\".format(*args)) # Access the first item\n",
    "    print(\"Supported interest rates are:{}\".format(args)) # Prints all the passed arguments\n",
    "\n",
    "print_all_rates(2.3,4.56,8.2,1.5)"
   ]
  },
  {
   "cell_type": "code",
   "execution_count": 10,
   "metadata": {},
   "outputs": [
    {
     "name": "stdout",
     "output_type": "stream",
     "text": [
      "Current month=1\n",
      "upto_months=4\n",
      "interest=6.5\n"
     ]
    }
   ],
   "source": [
    "def print_interest(curMonth,**kargs):\n",
    "    print(\"Current month={}\".format(curMonth))\n",
    "    for m,i in kargs.items():\n",
    "        print(\"{}={}\".format(m,i))\n",
    "    \n",
    "print_interest(1,upto_months=4,interest=6.5)"
   ]
  },
  {
   "cell_type": "code",
   "execution_count": 20,
   "metadata": {},
   "outputs": [
    {
     "name": "stdout",
     "output_type": "stream",
     "text": [
      "3.4\n",
      "6.4\n",
      "-1\n"
     ]
    }
   ],
   "source": [
    "def get_applicable_interest(curMonth,*args):\n",
    "    for arg in args:\n",
    "        m = arg[0]\n",
    "        i = arg[1]\n",
    "        if curMonth <= m:\n",
    "            return i\n",
    "    return -1\n",
    "\n",
    "print(get_applicable_interest(3,[10,3.4], [20,3.8], [80,6.4]))\n",
    "print(get_applicable_interest(25,[10,3.4], [20,3.8], [80,6.4]))\n",
    "print(get_applicable_interest(97,[10,3.4], [20,3.8], [80,6.4]))"
   ]
  },
  {
   "cell_type": "code",
   "execution_count": 2,
   "metadata": {},
   "outputs": [
    {
     "name": "stdout",
     "output_type": "stream",
     "text": [
      "Interest for year 15 is 1\n",
      "Interest for year 15 is 2\n",
      "Interest for year 15 is 3\n",
      "Interest for year 15 is 4\n",
      "Interest for year 16 is 5\n",
      "Interest for year 16 is 6\n",
      "Interest for year 16 is 7\n",
      "Interest for year 20 is 8\n",
      "Interest for year 20 is 9\n",
      "Interest for year 20 is 10\n"
     ]
    }
   ],
   "source": [
    "def PRange(it, start, end):\n",
    "    for p in range(start,end+1):\n",
    "        print(\"Interest for year {} is {}\".format(it,p))\n",
    "        \n",
    "allIts = [[15,4],[16,7],[20,10]]\n",
    "\n",
    "start = 1\n",
    "for itConfig in allIts:\n",
    "    PRange(itConfig[0],start,itConfig[1])\n",
    "    start = itConfig[1]+1"
   ]
  },
  {
   "cell_type": "code",
   "execution_count": 5,
   "metadata": {},
   "outputs": [
    {
     "name": "stdout",
     "output_type": "stream",
     "text": [
      "Month=1, Interest=15\n",
      "Month=2, Interest=15\n",
      "Month=3, Interest=15\n",
      "Month=4, Interest=15\n",
      "Month=5, Interest=16\n",
      "Month=6, Interest=16\n",
      "Month=7, Interest=16\n",
      "Month=8, Interest=20\n",
      "Month=9, Interest=20\n",
      "Month=10, Interest=20\n"
     ]
    }
   ],
   "source": [
    "allIts = [[15,4],[16,7],[20,10]]\n",
    "def GetIt(mt):\n",
    "    for iConfig in allIts:\n",
    "        if mt <= iConfig[1]:\n",
    "            return iConfig[0]\n",
    "        \n",
    "for i in range(1,11):\n",
    "    print(\"Month={}, Interest={}\".format(i,GetIt(i)))"
   ]
  }
 ],
 "metadata": {
  "kernelspec": {
   "display_name": "Python 3 (ipykernel)",
   "language": "python",
   "name": "python3"
  },
  "language_info": {
   "codemirror_mode": {
    "name": "ipython",
    "version": 3
   },
   "file_extension": ".py",
   "mimetype": "text/x-python",
   "name": "python",
   "nbconvert_exporter": "python",
   "pygments_lexer": "ipython3",
   "version": "3.9.7"
  }
 },
 "nbformat": 4,
 "nbformat_minor": 2
}
