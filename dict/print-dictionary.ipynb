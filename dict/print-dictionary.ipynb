{
 "cells": [
  {
   "cell_type": "code",
   "execution_count": 44,
   "metadata": {},
   "outputs": [],
   "source": [
    "p = { \"bugfix\": {\n",
    "        \"BUILDMODE\": \"DEBUG\",\n",
    "        \"BUILD_DIR\": \"/bugfix\",\n",
    "        \"MMI_VERSION\": \"12345\",\n",
    "        \"REPO\": \"/repos/bugfix/wm\"\n",
    "    },\n",
    "    \"bugfix-yocto\": {\n",
    "        \"BUILDMODE\": \"RELEASE\",\n",
    "        \"BUILD_DIR\": \"/repos/builds/yocto/bugfix-rrh_ld_prework\",\n",
    "        \"MMI_VERSION\": \"12345\",\n",
    "        \"REPO\": \"/repos/bugfix/wm\"\n",
    "    },\n",
    "    \"base\": {\n",
    "        \"BUILDMODE\": \"DEBUG\",\n",
    "        \"BUILD_DIR\": \"/base\",\n",
    "        \"MMI_VERSION\": \"12345\",\n",
    "        \"REPO\": \"/repos/base/wm\"\n",
    "    },\n",
    "    \"base-yocto\": {\n",
    "        \"BUILDMODE\": \"RELEASE\",\n",
    "        \"BUILD_DIR\": \"/repos/builds/yocto/base\",\n",
    "        \"MMI_VERSION\": \"12345\",\n",
    "        \"REPO\": \"/repos/base/wm\"\n",
    "    },\n",
    "    \"ref\": {\n",
    "        \"BUILDMODE\": \"DEBUG\",\n",
    "        \"BUILD_DIR\": \"/ref\",\n",
    "        \"MMI_VERSION\": \"12345\",\n",
    "        \"REPO\": \"/repos/ref/wm\"\n",
    "    } }\n"
   ]
  },
  {
   "cell_type": "code",
   "execution_count": 45,
   "metadata": {},
   "outputs": [
    {
     "data": {
      "text/plain": [
       "dict_keys(['bugfix', 'bugfix-yocto', 'base', 'base-yocto', 'ref'])"
      ]
     },
     "execution_count": 45,
     "metadata": {},
     "output_type": "execute_result"
    }
   ],
   "source": [
    "p.keys()"
   ]
  },
  {
   "cell_type": "code",
   "execution_count": 46,
   "metadata": {},
   "outputs": [
    {
     "data": {
      "text/plain": [
       "dict_values([{'BUILDMODE': 'DEBUG', 'BUILD_DIR': '/bugfix', 'MMI_VERSION': '12345', 'REPO': '/repos/bugfix/wm'}, {'BUILDMODE': 'RELEASE', 'BUILD_DIR': '/repos/builds/yocto/bugfix-rrh_ld_prework', 'MMI_VERSION': '12345', 'REPO': '/repos/bugfix/wm'}, {'BUILDMODE': 'DEBUG', 'BUILD_DIR': '/base', 'MMI_VERSION': '12345', 'REPO': '/repos/base/wm'}, {'BUILDMODE': 'RELEASE', 'BUILD_DIR': '/repos/builds/yocto/base', 'MMI_VERSION': '12345', 'REPO': '/repos/base/wm'}, {'BUILDMODE': 'DEBUG', 'BUILD_DIR': '/ref', 'MMI_VERSION': '12345', 'REPO': '/repos/ref/wm'}])"
      ]
     },
     "execution_count": 46,
     "metadata": {},
     "output_type": "execute_result"
    }
   ],
   "source": [
    "p.values()"
   ]
  },
  {
   "cell_type": "markdown",
   "metadata": {},
   "source": [
    "# Option-1: Using yaml library"
   ]
  },
  {
   "cell_type": "code",
   "execution_count": 47,
   "metadata": {},
   "outputs": [
    {
     "name": "stdout",
     "output_type": "stream",
     "text": [
      "base:\n",
      "  BUILDMODE: DEBUG\n",
      "  BUILD_DIR: /base\n",
      "  MMI_VERSION: '12345'\n",
      "  REPO: /repos/base/wm\n",
      "base-yocto:\n",
      "  BUILDMODE: RELEASE\n",
      "  BUILD_DIR: /repos/builds/yocto/base\n",
      "  MMI_VERSION: '12345'\n",
      "  REPO: /repos/base/wm\n",
      "bugfix:\n",
      "  BUILDMODE: DEBUG\n",
      "  BUILD_DIR: /bugfix\n",
      "  MMI_VERSION: '12345'\n",
      "  REPO: /repos/bugfix/wm\n",
      "bugfix-yocto:\n",
      "  BUILDMODE: RELEASE\n",
      "  BUILD_DIR: /repos/builds/yocto/bugfix-rrh_ld_prework\n",
      "  MMI_VERSION: '12345'\n",
      "  REPO: /repos/bugfix/wm\n",
      "ref:\n",
      "  BUILDMODE: DEBUG\n",
      "  BUILD_DIR: /ref\n",
      "  MMI_VERSION: '12345'\n",
      "  REPO: /repos/ref/wm\n",
      "\n"
     ]
    }
   ],
   "source": [
    "import yaml\n",
    "print(yaml.dump(p))"
   ]
  },
  {
   "cell_type": "markdown",
   "metadata": {},
   "source": [
    "# Option-2: Pretty print"
   ]
  },
  {
   "cell_type": "code",
   "execution_count": 48,
   "metadata": {},
   "outputs": [
    {
     "name": "stdout",
     "output_type": "stream",
     "text": [
      "{   'base': {   'BUILDMODE': 'DEBUG',\n",
      "                'BUILD_DIR': '/base',\n",
      "                'MMI_VERSION': '12345',\n",
      "                'REPO': '/repos/base/wm'},\n",
      "    'base-yocto': {   'BUILDMODE': 'RELEASE',\n",
      "                      'BUILD_DIR': '/repos/builds/yocto/base',\n",
      "                      'MMI_VERSION': '12345',\n",
      "                      'REPO': '/repos/base/wm'},\n",
      "    'bugfix': {   'BUILDMODE': 'DEBUG',\n",
      "                  'BUILD_DIR': '/bugfix',\n",
      "                  'MMI_VERSION': '12345',\n",
      "                  'REPO': '/repos/bugfix/wm'},\n",
      "    'bugfix-yocto': {   'BUILDMODE': 'RELEASE',\n",
      "                        'BUILD_DIR': '/repos/builds/yocto/bugfix-rrh_ld_prework',\n",
      "                        'MMI_VERSION': '12345',\n",
      "                        'REPO': '/repos/bugfix/wm'},\n",
      "    'ref': {   'BUILDMODE': 'DEBUG',\n",
      "               'BUILD_DIR': '/ref',\n",
      "               'MMI_VERSION': '12345',\n",
      "               'REPO': '/repos/ref/wm'}}\n"
     ]
    }
   ],
   "source": [
    "import pprint\n",
    "pp = pprint.PrettyPrinter(indent=4)\n",
    "pp.pprint(p)"
   ]
  },
  {
   "cell_type": "markdown",
   "metadata": {},
   "source": [
    "# Option-3: Using Pandas"
   ]
  },
  {
   "cell_type": "code",
   "execution_count": 49,
   "metadata": {},
   "outputs": [
    {
     "data": {
      "text/html": [
       "<div>\n",
       "<style scoped>\n",
       "    .dataframe tbody tr th:only-of-type {\n",
       "        vertical-align: middle;\n",
       "    }\n",
       "\n",
       "    .dataframe tbody tr th {\n",
       "        vertical-align: top;\n",
       "    }\n",
       "\n",
       "    .dataframe thead th {\n",
       "        text-align: right;\n",
       "    }\n",
       "</style>\n",
       "<table border=\"1\" class=\"dataframe\">\n",
       "  <thead>\n",
       "    <tr style=\"text-align: right;\">\n",
       "      <th></th>\n",
       "      <th>bugfix</th>\n",
       "      <th>bugfix-yocto</th>\n",
       "      <th>base</th>\n",
       "      <th>base-yocto</th>\n",
       "      <th>ref</th>\n",
       "    </tr>\n",
       "  </thead>\n",
       "  <tbody>\n",
       "    <tr>\n",
       "      <th>BUILDMODE</th>\n",
       "      <td>DEBUG</td>\n",
       "      <td>RELEASE</td>\n",
       "      <td>DEBUG</td>\n",
       "      <td>RELEASE</td>\n",
       "      <td>DEBUG</td>\n",
       "    </tr>\n",
       "    <tr>\n",
       "      <th>BUILD_DIR</th>\n",
       "      <td>/bugfix</td>\n",
       "      <td>/repos/builds/yocto/bugfix-rrh_ld_prework</td>\n",
       "      <td>/base</td>\n",
       "      <td>/repos/builds/yocto/base</td>\n",
       "      <td>/ref</td>\n",
       "    </tr>\n",
       "    <tr>\n",
       "      <th>MMI_VERSION</th>\n",
       "      <td>12345</td>\n",
       "      <td>12345</td>\n",
       "      <td>12345</td>\n",
       "      <td>12345</td>\n",
       "      <td>12345</td>\n",
       "    </tr>\n",
       "    <tr>\n",
       "      <th>REPO</th>\n",
       "      <td>/repos/bugfix/wm</td>\n",
       "      <td>/repos/bugfix/wm</td>\n",
       "      <td>/repos/base/wm</td>\n",
       "      <td>/repos/base/wm</td>\n",
       "      <td>/repos/ref/wm</td>\n",
       "    </tr>\n",
       "  </tbody>\n",
       "</table>\n",
       "</div>"
      ],
      "text/plain": [
       "                       bugfix                               bugfix-yocto  \\\n",
       "BUILDMODE               DEBUG                                    RELEASE   \n",
       "BUILD_DIR             /bugfix  /repos/builds/yocto/bugfix-rrh_ld_prework   \n",
       "MMI_VERSION             12345                                      12345   \n",
       "REPO         /repos/bugfix/wm                           /repos/bugfix/wm   \n",
       "\n",
       "                       base                base-yocto            ref  \n",
       "BUILDMODE             DEBUG                   RELEASE          DEBUG  \n",
       "BUILD_DIR             /base  /repos/builds/yocto/base           /ref  \n",
       "MMI_VERSION           12345                     12345          12345  \n",
       "REPO         /repos/base/wm            /repos/base/wm  /repos/ref/wm  "
      ]
     },
     "execution_count": 49,
     "metadata": {},
     "output_type": "execute_result"
    }
   ],
   "source": [
    "import pandas as pd\n",
    "pd.DataFrame(p)"
   ]
  },
  {
   "cell_type": "code",
   "execution_count": 50,
   "metadata": {},
   "outputs": [
    {
     "data": {
      "text/html": [
       "<div>\n",
       "<style scoped>\n",
       "    .dataframe tbody tr th:only-of-type {\n",
       "        vertical-align: middle;\n",
       "    }\n",
       "\n",
       "    .dataframe tbody tr th {\n",
       "        vertical-align: top;\n",
       "    }\n",
       "\n",
       "    .dataframe thead th {\n",
       "        text-align: right;\n",
       "    }\n",
       "</style>\n",
       "<table border=\"1\" class=\"dataframe\">\n",
       "  <thead>\n",
       "    <tr style=\"text-align: right;\">\n",
       "      <th></th>\n",
       "      <th>BUILDMODE</th>\n",
       "      <th>BUILD_DIR</th>\n",
       "      <th>MMI_VERSION</th>\n",
       "      <th>REPO</th>\n",
       "    </tr>\n",
       "  </thead>\n",
       "  <tbody>\n",
       "    <tr>\n",
       "      <th>bugfix</th>\n",
       "      <td>DEBUG</td>\n",
       "      <td>/bugfix</td>\n",
       "      <td>12345</td>\n",
       "      <td>/repos/bugfix/wm</td>\n",
       "    </tr>\n",
       "    <tr>\n",
       "      <th>bugfix-yocto</th>\n",
       "      <td>RELEASE</td>\n",
       "      <td>/repos/builds/yocto/bugfix-rrh_ld_prework</td>\n",
       "      <td>12345</td>\n",
       "      <td>/repos/bugfix/wm</td>\n",
       "    </tr>\n",
       "    <tr>\n",
       "      <th>base</th>\n",
       "      <td>DEBUG</td>\n",
       "      <td>/base</td>\n",
       "      <td>12345</td>\n",
       "      <td>/repos/base/wm</td>\n",
       "    </tr>\n",
       "    <tr>\n",
       "      <th>base-yocto</th>\n",
       "      <td>RELEASE</td>\n",
       "      <td>/repos/builds/yocto/base</td>\n",
       "      <td>12345</td>\n",
       "      <td>/repos/base/wm</td>\n",
       "    </tr>\n",
       "    <tr>\n",
       "      <th>ref</th>\n",
       "      <td>DEBUG</td>\n",
       "      <td>/ref</td>\n",
       "      <td>12345</td>\n",
       "      <td>/repos/ref/wm</td>\n",
       "    </tr>\n",
       "  </tbody>\n",
       "</table>\n",
       "</div>"
      ],
      "text/plain": [
       "             BUILDMODE                                  BUILD_DIR MMI_VERSION  \\\n",
       "bugfix           DEBUG                                    /bugfix       12345   \n",
       "bugfix-yocto   RELEASE  /repos/builds/yocto/bugfix-rrh_ld_prework       12345   \n",
       "base             DEBUG                                      /base       12345   \n",
       "base-yocto     RELEASE                   /repos/builds/yocto/base       12345   \n",
       "ref              DEBUG                                       /ref       12345   \n",
       "\n",
       "                          REPO  \n",
       "bugfix        /repos/bugfix/wm  \n",
       "bugfix-yocto  /repos/bugfix/wm  \n",
       "base            /repos/base/wm  \n",
       "base-yocto      /repos/base/wm  \n",
       "ref              /repos/ref/wm  "
      ]
     },
     "execution_count": 50,
     "metadata": {},
     "output_type": "execute_result"
    }
   ],
   "source": [
    "pd.DataFrame(p).T"
   ]
  },
  {
   "cell_type": "code",
   "execution_count": 51,
   "metadata": {},
   "outputs": [
    {
     "data": {
      "text/html": [
       "<div>\n",
       "<style scoped>\n",
       "    .dataframe tbody tr th:only-of-type {\n",
       "        vertical-align: middle;\n",
       "    }\n",
       "\n",
       "    .dataframe tbody tr th {\n",
       "        vertical-align: top;\n",
       "    }\n",
       "\n",
       "    .dataframe thead th {\n",
       "        text-align: right;\n",
       "    }\n",
       "</style>\n",
       "<table border=\"1\" class=\"dataframe\">\n",
       "  <thead>\n",
       "    <tr style=\"text-align: right;\">\n",
       "      <th></th>\n",
       "      <th>BUILDMODE</th>\n",
       "      <th>BUILD_DIR</th>\n",
       "      <th>MMI_VERSION</th>\n",
       "      <th>REPO</th>\n",
       "    </tr>\n",
       "  </thead>\n",
       "  <tbody>\n",
       "    <tr>\n",
       "      <th>bugfix</th>\n",
       "      <td>DEBUG</td>\n",
       "      <td>/bugfix</td>\n",
       "      <td>12345</td>\n",
       "      <td>/repos/bugfix/wm</td>\n",
       "    </tr>\n",
       "    <tr>\n",
       "      <th>bugfix-yocto</th>\n",
       "      <td>RELEASE</td>\n",
       "      <td>/repos/builds/yocto/bugfix-rrh_ld_prework</td>\n",
       "      <td>12345</td>\n",
       "      <td>/repos/bugfix/wm</td>\n",
       "    </tr>\n",
       "    <tr>\n",
       "      <th>base</th>\n",
       "      <td>DEBUG</td>\n",
       "      <td>/base</td>\n",
       "      <td>12345</td>\n",
       "      <td>/repos/base/wm</td>\n",
       "    </tr>\n",
       "    <tr>\n",
       "      <th>base-yocto</th>\n",
       "      <td>RELEASE</td>\n",
       "      <td>/repos/builds/yocto/base</td>\n",
       "      <td>12345</td>\n",
       "      <td>/repos/base/wm</td>\n",
       "    </tr>\n",
       "    <tr>\n",
       "      <th>ref</th>\n",
       "      <td>DEBUG</td>\n",
       "      <td>/ref</td>\n",
       "      <td>12345</td>\n",
       "      <td>/repos/ref/wm</td>\n",
       "    </tr>\n",
       "  </tbody>\n",
       "</table>\n",
       "</div>"
      ],
      "text/plain": [
       "             BUILDMODE                                  BUILD_DIR MMI_VERSION  \\\n",
       "bugfix           DEBUG                                    /bugfix       12345   \n",
       "bugfix-yocto   RELEASE  /repos/builds/yocto/bugfix-rrh_ld_prework       12345   \n",
       "base             DEBUG                                      /base       12345   \n",
       "base-yocto     RELEASE                   /repos/builds/yocto/base       12345   \n",
       "ref              DEBUG                                       /ref       12345   \n",
       "\n",
       "                          REPO  \n",
       "bugfix        /repos/bugfix/wm  \n",
       "bugfix-yocto  /repos/bugfix/wm  \n",
       "base            /repos/base/wm  \n",
       "base-yocto      /repos/base/wm  \n",
       "ref              /repos/ref/wm  "
      ]
     },
     "execution_count": 51,
     "metadata": {},
     "output_type": "execute_result"
    }
   ],
   "source": [
    "pd.DataFrame.from_dict(p).T"
   ]
  }
 ],
 "metadata": {
  "kernelspec": {
   "display_name": "Python 3",
   "language": "python",
   "name": "python3"
  },
  "language_info": {
   "codemirror_mode": {
    "name": "ipython",
    "version": 3
   },
   "file_extension": ".py",
   "mimetype": "text/x-python",
   "name": "python",
   "nbconvert_exporter": "python",
   "pygments_lexer": "ipython3",
   "version": "3.7.3"
  }
 },
 "nbformat": 4,
 "nbformat_minor": 2
}
