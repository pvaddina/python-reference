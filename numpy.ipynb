{
 "cells": [
  {
   "cell_type": "code",
   "execution_count": 47,
   "metadata": {},
   "outputs": [],
   "source": [
    "import numpy as np"
   ]
  },
  {
   "cell_type": "markdown",
   "metadata": {},
   "source": [
    "# Initializing Arrays"
   ]
  },
  {
   "cell_type": "markdown",
   "metadata": {},
   "source": [
    "### Manual initialization"
   ]
  },
  {
   "cell_type": "code",
   "execution_count": 48,
   "metadata": {},
   "outputs": [
    {
     "name": "stdout",
     "output_type": "stream",
     "text": [
      "Array a1=[1 2 3 4 5]\n",
      "Array a2=[[ 1  2  3  4  5]\n",
      " [ 6  7  8  9 10]]\n",
      "a2[1]=[ 6  7  8  9 10]\n",
      "a2[1][2]=8\n",
      "Shape of a2=(2, 5)\n"
     ]
    }
   ],
   "source": [
    "a1 = np.array([1,2,3,4,5])\n",
    "a2 = np.array([[1,2,3,4,5],[6,7,8,9,10]])\n",
    "print(\"Array a1={}\".format(a1))\n",
    "print(\"Array a2={}\".format(a2))\n",
    "print(\"a2[1]={}\".format(a2[1]))\n",
    "print(\"a2[1][2]={}\".format(a2[1][2]))\n",
    "print(\"Shape of a2={}\".format(a2.shape))"
   ]
  },
  {
   "cell_type": "markdown",
   "metadata": {},
   "source": [
    "### Standard initialization"
   ]
  },
  {
   "cell_type": "code",
   "execution_count": 49,
   "metadata": {},
   "outputs": [
    {
     "name": "stdout",
     "output_type": "stream",
     "text": [
      "a3=[0. 0. 0. 0. 0. 0. 0. 0. 0. 0.]\n",
      "a4=[[0. 0. 0. 0. 0. 0.]\n",
      " [0. 0. 0. 0. 0. 0.]\n",
      " [0. 0. 0. 0. 0. 0.]\n",
      " [0. 0. 0. 0. 0. 0.]\n",
      " [0. 0. 0. 0. 0. 0.]]\n"
     ]
    }
   ],
   "source": [
    "a3 = np.zeros(10) # Initialize a (1x10) array with zeros\n",
    "print(\"a3={}\".format(a3))\n",
    "a4 = np.zeros((5,6)) # Initialize an (5x6) array with zeros\n",
    "print(\"a4={}\".format(a4))\n",
    "# print(\"np.zeros(1,2)={}\".format( np.zeros(1,2) )) # Error: Data type not understood"
   ]
  },
  {
   "cell_type": "code",
   "execution_count": 50,
   "metadata": {},
   "outputs": [
    {
     "name": "stdout",
     "output_type": "stream",
     "text": [
      "np.ones((6,2))=[[1. 1.]\n",
      " [1. 1.]\n",
      " [1. 1.]\n",
      " [1. 1.]\n",
      " [1. 1.]\n",
      " [1. 1.]]\n"
     ]
    }
   ],
   "source": [
    "print(\"np.ones((6,2))={}\".format(np.ones((6,2))))"
   ]
  },
  {
   "cell_type": "code",
   "execution_count": 51,
   "metadata": {},
   "outputs": [
    {
     "name": "stdout",
     "output_type": "stream",
     "text": [
      "np.full((6,2), 99)=[[99 99]\n",
      " [99 99]\n",
      " [99 99]\n",
      " [99 99]\n",
      " [99 99]\n",
      " [99 99]]\n"
     ]
    }
   ],
   "source": [
    "print(\"np.full((6,2), 99)={}\".format( np.full((6,2), 99) ))"
   ]
  },
  {
   "cell_type": "code",
   "execution_count": 52,
   "metadata": {},
   "outputs": [
    {
     "name": "stdout",
     "output_type": "stream",
     "text": [
      "np.array((4,5), dtype=np.int)=[4 5]\n"
     ]
    }
   ],
   "source": [
    "print(\"np.array((4,5), dtype=np.int)={}\".format(  np.array((4,5), dtype=np.int)  ))"
   ]
  },
  {
   "cell_type": "code",
   "execution_count": 53,
   "metadata": {},
   "outputs": [
    {
     "name": "stdout",
     "output_type": "stream",
     "text": [
      "a4_5 = [[0. 0. 0.]\n",
      " [0. 0. 0.]]\n",
      "a4_6 = [[0. 0. 0. 0. 0. 0.]\n",
      " [0. 0. 0. 0. 0. 0.]\n",
      " [0. 0. 0. 0. 0. 0.]\n",
      " [0. 0. 0. 0. 0. 0.]\n",
      " [0. 0. 0. 0. 0. 0.]]\n"
     ]
    }
   ],
   "source": [
    "a4_5,a4_6 = np.zeros((2,3)), np.zeros((5,6)) # Initialize multiple matrices at the same time\n",
    "print (\"a4_5 = {}\".format(a4_5))\n",
    "print (\"a4_6 = {}\".format(a4_6))"
   ]
  },
  {
   "cell_type": "code",
   "execution_count": 54,
   "metadata": {},
   "outputs": [
    {
     "name": "stdout",
     "output_type": "stream",
     "text": [
      "Between 1 and 20: np.linspace(1,20,17):[ 1.      2.1875  3.375   4.5625  5.75    6.9375  8.125   9.3125 10.5\n",
      " 11.6875 12.875  14.0625 15.25   16.4375 17.625  18.8125 20.    ]\n",
      "\n",
      "Between 2 and 20: np.linspace(2,20,10):[ 2.  4.  6.  8. 10. 12. 14. 16. 18. 20.]\n",
      "\n",
      "Between 0 and 20: np.linspace(0,20,10):[ 0.          2.22222222  4.44444444  6.66666667  8.88888889 11.11111111\n",
      " 13.33333333 15.55555556 17.77777778 20.        ]\n",
      "\n",
      "Between 1 and 5: np.linspace(1,5,5):[1. 2. 3. 4. 5.]\n",
      "\n",
      "Between 0 and 5: np.linspace(0,5,6):[0. 1. 2. 3. 4. 5.]\n"
     ]
    }
   ],
   "source": [
    "print(\"Between 1 and 20: np.linspace(1,20,17):{}\".format(np.linspace(1,20,17)))\n",
    "print(\"\\nBetween 2 and 20: np.linspace(2,20,10):{}\".format(np.linspace(2,20,10)))\n",
    "print(\"\\nBetween 0 and 20: np.linspace(0,20,10):{}\".format(np.linspace(0,20,10)))\n",
    "print(\"\\nBetween 1 and 5: np.linspace(1,5,5):{}\".format(np.linspace(1,5,5)))\n",
    "print(\"\\nBetween 0 and 5: np.linspace(0,5,6):{}\".format(np.linspace(0,5,6)))"
   ]
  },
  {
   "cell_type": "code",
   "execution_count": 55,
   "metadata": {},
   "outputs": [
    {
     "name": "stdout",
     "output_type": "stream",
     "text": [
      "I1.I20=[[1. 0. 0. 0.]\n",
      " [0. 1. 0. 0.]\n",
      " [0. 0. 1. 0.]\n",
      " [0. 0. 0. 1.]]\n",
      "\n"
     ]
    }
   ],
   "source": [
    "I1 = np.eye(4)\n",
    "I2 = np.eye(4)\n",
    "print(\"I1.I20={}\\n\".format(np.dot(I1,I2.T)))"
   ]
  },
  {
   "cell_type": "markdown",
   "metadata": {},
   "source": [
    "### Random initialization"
   ]
  },
  {
   "cell_type": "code",
   "execution_count": 56,
   "metadata": {},
   "outputs": [
    {
     "name": "stdout",
     "output_type": "stream",
     "text": [
      "np.random.randn(2,3)=\n",
      "[[-2.07800677  1.1724973   1.934351  ]\n",
      " [ 1.83880707  1.64528246 -0.5430453 ]]\n",
      "\n",
      "np.random.rand(2,3)=\n",
      "[[0.30173678 0.17606765 0.99590107]\n",
      " [0.23051862 0.29616663 0.07323056]]\n",
      "\n",
      "np.random.randint(23, size=(5,3))=\n",
      "[[ 9 22 17]\n",
      " [ 2 18  3]\n",
      " [16  0  6]\n",
      " [21 18 21]\n",
      " [17 18  3]]\n",
      "\n",
      "np.random.randint(10, 437, 23)=\n",
      "[293 283 397  40 193 172 125 406 303 112 146 412 406 369  96 307 159 291\n",
      " 308 105  64 172 369]\n",
      "\n",
      "\n",
      "np.random.random((5,5))=\n",
      "[[0.52364028 0.14363216 0.46049242 0.076577   0.10115818]\n",
      " [0.56136766 0.77813939 0.28480015 0.47117447 0.95224149]\n",
      " [0.52391882 0.77663788 0.62811241 0.14860888 0.55004793]\n",
      " [0.88541913 0.55977905 0.42242676 0.99106982 0.5354043 ]\n",
      " [0.11080192 0.98115022 0.73485026 0.19331022 0.90440982]]\n"
     ]
    }
   ],
   "source": [
    "print(\"np.random.randn(2,3)=\\n{}\\n\".format(np.random.randn(2,3) ))\n",
    "print(\"np.random.rand(2,3)=\\n{}\\n\".format(np.random.rand(2,3) ))\n",
    "print(\"np.random.randint(23, size=(5,3))=\\n{}\\n\".format(np.random.randint(23, size=(5,3)) )) # Get a 5x3 matrix randomly with integer values from (1-23)\n",
    "print(\"np.random.randint(10, 437, 23)=\\n{}\\n\".format(np.random.randint(10, 437, 23))) # Get a 5x3 matrix randomly with integer values from (1-23)\n",
    "print(\"\\nnp.random.random((5,5))=\\n{}\".format(np.random.random((5,5))))"
   ]
  },
  {
   "cell_type": "markdown",
   "metadata": {},
   "source": [
    "# Modification operations\n",
    "\n",
    "## Insert new elements"
   ]
  },
  {
   "cell_type": "code",
   "execution_count": 57,
   "metadata": {},
   "outputs": [
    {
     "name": "stdout",
     "output_type": "stream",
     "text": [
      "[  5   6   1   6   7   8   4   9   9   2 988]\n"
     ]
    }
   ],
   "source": [
    "d = np.random.randint(1,10,size=10)\n",
    "d = np.append(d,[988]) # Append an element\n",
    "print(d)"
   ]
  },
  {
   "cell_type": "markdown",
   "metadata": {},
   "source": [
    "## Reshape"
   ]
  },
  {
   "cell_type": "code",
   "execution_count": 58,
   "metadata": {},
   "outputs": [
    {
     "name": "stdout",
     "output_type": "stream",
     "text": [
      "a(2, 2, 3)=\n",
      "[[[6 9 3]\n",
      "  [7 3 3]]\n",
      "\n",
      " [[6 3 2]\n",
      "  [4 9 4]]]\n",
      "\n",
      "a reshaped to (4, 3)=\n",
      "[[6 9 3]\n",
      " [7 3 3]\n",
      " [6 3 2]\n",
      " [4 9 4]]\n",
      "\n",
      "a reshaped to (3, 4)=\n",
      "[[6 9 3 7]\n",
      " [3 3 6 3]\n",
      " [2 4 9 4]]\n",
      "\n",
      "a reshaped to (2, 6)=\n",
      "[[6 9 3 7 3 3]\n",
      " [6 3 2 4 9 4]]\n",
      "\n",
      "a reshaped to (1, 12)=\n",
      "[[6 9 3 7 3 3 6 3 2 4 9 4]]\n",
      "\n",
      "a_1d reshaped to (2, 2, 3)=\n",
      "[[[6 9 3]\n",
      "  [7 3 3]]\n",
      "\n",
      " [[6 3 2]\n",
      "  [4 9 4]]]\n"
     ]
    }
   ],
   "source": [
    "a = np.random.randint(low=2, high=10, size=(2, 2, 3))  # low, high give the range within which the random values are generated\n",
    "print(\"a{}=\\n{}\".format(a.shape, a))\n",
    "print(\"\\na reshaped to {}=\\n{}\".format(a.reshape((4,3)).shape, a.reshape((4,3))))\n",
    "print(\"\\na reshaped to {}=\\n{}\".format(a.reshape((3,4)).shape, a.reshape((3,4))))\n",
    "print(\"\\na reshaped to {}=\\n{}\".format(a.reshape((2,6)).shape, a.reshape((2,6))))\n",
    "a_1d = a.reshape((1,12))\n",
    "print(\"\\na reshaped to {}=\\n{}\".format(a_1d.shape, a_1d))\n",
    "print(\"\\na_1d reshaped to {}=\\n{}\".format(a_1d.reshape((2,2,3)).shape, a_1d.reshape((2,2,3))))"
   ]
  },
  {
   "cell_type": "code",
   "execution_count": 59,
   "metadata": {},
   "outputs": [
    {
     "name": "stdout",
     "output_type": "stream",
     "text": [
      "Shape of a17=(2, 4)\n",
      "a17=\n",
      "[[0.674972   0.03861165 0.52986955 0.25040123]\n",
      " [0.63530701 0.48645868 0.49741491 0.68933555]]\n",
      "\n",
      "Shape of a17_reshape=(1, 8)\n",
      "a17_reshape=\n",
      "[[0.674972   0.03861165 0.52986955 0.25040123 0.63530701 0.48645868\n",
      "  0.49741491 0.68933555]]\n",
      "\n",
      "Shape of a17_reshape2=(8, 1)\n",
      "a17_reshape2=\n",
      "[[0.674972  ]\n",
      " [0.03861165]\n",
      " [0.52986955]\n",
      " [0.25040123]\n",
      " [0.63530701]\n",
      " [0.48645868]\n",
      " [0.49741491]\n",
      " [0.68933555]]\n",
      "\n",
      "Shape of a17_reshape3=(2, 4)\n",
      "a17_reshape3=\n",
      "[[0.674972   0.03861165 0.52986955 0.25040123]\n",
      " [0.63530701 0.48645868 0.49741491 0.68933555]]\n",
      "\n"
     ]
    }
   ],
   "source": [
    "a17 = np.random.random((2,4))\n",
    "print(\"Shape of a17={}\".format(a17.shape))\n",
    "print(\"a17=\\n{}\\n\".format(a17))\n",
    "\n",
    "a17_reshape = a17.reshape((1,8))\n",
    "print(\"Shape of a17_reshape={}\".format(a17_reshape.shape))\n",
    "print(\"a17_reshape=\\n{}\\n\".format(a17_reshape))\n",
    "\n",
    "a17_reshape2 = a17.reshape((8,1))\n",
    "print(\"Shape of a17_reshape2={}\".format(a17_reshape2.shape))\n",
    "print(\"a17_reshape2=\\n{}\\n\".format(a17_reshape2))\n",
    "\n",
    "a17_reshape3 = a17.reshape((-1,4)) # Infer the first dimension of a17 automatically (-1)\n",
    "print(\"Shape of a17_reshape3={}\".format(a17_reshape3.shape))\n",
    "print(\"a17_reshape3=\\n{}\\n\".format(a17_reshape3))"
   ]
  },
  {
   "cell_type": "markdown",
   "metadata": {},
   "source": [
    "### Convert to other shapes using standard conversion functions"
   ]
  },
  {
   "cell_type": "code",
   "execution_count": 60,
   "metadata": {},
   "outputs": [
    {
     "name": "stdout",
     "output_type": "stream",
     "text": [
      "To 1D array=[24]\n",
      "To 2D array=[[24]]\n",
      "To 3D array=[[[24]]]\n",
      "To 1D array=[11 22 33 44]\n",
      "To 2D array=[[11 22 33 44]]\n",
      "To 3D array=[[[11]\n",
      "  [22]\n",
      "  [33]\n",
      "  [44]]]\n"
     ]
    }
   ],
   "source": [
    "n = 24\n",
    "print(\"To 1D array={}\".format(np.atleast_1d(n)))\n",
    "print(\"To 2D array={}\".format(np.atleast_2d(n)))\n",
    "print(\"To 3D array={}\".format(np.atleast_3d(n)))\n",
    "\n",
    "n = [11,22,33,44]\n",
    "print(\"To 1D array={}\".format(np.atleast_1d(n)))\n",
    "print(\"To 2D array={}\".format(np.atleast_2d(n)))\n",
    "print(\"To 3D array={}\".format(np.atleast_3d(n)))"
   ]
  },
  {
   "cell_type": "markdown",
   "metadata": {},
   "source": [
    "## Squeeze"
   ]
  },
  {
   "cell_type": "code",
   "execution_count": 61,
   "metadata": {},
   "outputs": [
    {
     "name": "stdout",
     "output_type": "stream",
     "text": [
      "shape of x=(1, 3, 1); x[0][0]=[437], x[0][1]=[233], x[0][2]=[99]\n",
      "shape of x_sq=(3,); x_sq[0]=437, x_sq[1]=233, x_sq[2]=99\n"
     ]
    }
   ],
   "source": [
    "x = np.array([[[437], [233], [99]]])\n",
    "print(\"shape of x={}; x[0][0]={}, x[0][1]={}, x[0][2]={}\".format(x.shape, x[0][0], x[0][1], x[0][2]))\n",
    "x_sq = np.squeeze(x)\n",
    "print(\"shape of x_sq={}; x_sq[0]={}, x_sq[1]={}, x_sq[2]={}\".format(x_sq.shape, x_sq[0], x_sq[1], x_sq[2]))"
   ]
  },
  {
   "cell_type": "markdown",
   "metadata": {},
   "source": [
    "## Slicing\n",
    "\n",
    "Syntax: x[start:stop:step]\n",
    "\n",
    "If any of these are unspecified, they default to the values \n",
    "* start= 0\n",
    "* stop = size of dimension\n",
    "* step = 1"
   ]
  },
  {
   "cell_type": "code",
   "execution_count": 62,
   "metadata": {},
   "outputs": [
    {
     "name": "stdout",
     "output_type": "stream",
     "text": [
      "x=[[3 5 5 7 3 6]\n",
      " [3 7 8 5 3 6]\n",
      " [4 7 1 3 7 8]\n",
      " [7 2 5 5 3 2]\n",
      " [6 6 4 8 3 1]\n",
      " [4 8 2 7 0 7]\n",
      " [7 5 2 0 7 3]\n",
      " [5 1 6 1 3 4]\n",
      " [5 0 8 5 5 2]\n",
      " [8 7 6 3 4 1]]\n",
      "\n",
      "x[1::4]=\n",
      "[[3 7 8 5 3 6]\n",
      " [4 8 2 7 0 7]\n",
      " [8 7 6 3 4 1]]\n",
      "\n",
      "x[1::2]=\n",
      "[[3 7 8 5 3 6]\n",
      " [7 2 5 5 3 2]\n",
      " [4 8 2 7 0 7]\n",
      " [5 1 6 1 3 4]\n",
      " [8 7 6 3 4 1]]\n",
      "\n",
      "x[1:2:4]=\n",
      "[[3 7 8 5 3 6]]\n",
      "\n",
      "x[1:4:2]=\n",
      "[[3 7 8 5 3 6]\n",
      " [7 2 5 5 3 2]]\n"
     ]
    }
   ],
   "source": [
    "# Example-1\n",
    "np.random.seed(67)\n",
    "x = np.random.randint(9, size=(10,6))\n",
    "print(\"x={}\".format(x))\n",
    "print(\"\\nx[1::4]=\\n{}\".format(x[1::4]))\n",
    "print(\"\\nx[1::2]=\\n{}\".format(x[1::2]))\n",
    "print(\"\\nx[1:2:4]=\\n{}\".format(x[1:2:4]))\n",
    "print(\"\\nx[1:4:2]=\\n{}\".format(x[1:4:2]))"
   ]
  },
  {
   "cell_type": "code",
   "execution_count": 63,
   "metadata": {},
   "outputs": [
    {
     "name": "stdout",
     "output_type": "stream",
     "text": [
      "a=[[ 1  2  3]\n",
      " [ 4  5  6]\n",
      " [ 7  8  9]\n",
      " [10 11 12]]\n",
      "b=[[13 14 15]\n",
      " [16 17 18]\n",
      " [19 20 21]\n",
      " [22 23 24]]\n",
      "\n",
      "First 2-rows and 3-columns of a=[[1 2 3]\n",
      " [4 5 6]]\n",
      "First 2-rows and 2-columns of a=[[1 2]\n",
      " [4 5]]\n",
      "Last 2-rows and last 2-columns of a=[[ 8  9]\n",
      " [11 12]]\n",
      "Last 2-rows and last 2-columns of a=[[ 8  9]\n",
      " [11 12]]\n",
      "Middle of matrix a=[[5 6]\n",
      " [8 9]]\n"
     ]
    }
   ],
   "source": [
    "a = np.array([range(v,v+3) for v in [1, 4, 7, 10]])\n",
    "b = np.array([range(v,v+3) for v in [13,16, 19, 22]])\n",
    "print(\"a={}\\nb={}\\n\".format(a,b))\n",
    "print(\"First 2-rows and 3-columns of a={}\".format(a[:2,:3]))\n",
    "print(\"First 2-rows and 2-columns of a={}\".format(a[:2,:2]))\n",
    "print(\"Last 2-rows and last 2-columns of a={}\".format(a[2:4:,1:3:]))\n",
    "print(\"Last 2-rows and last 2-columns of a={}\".format(a[2::,1::]))\n",
    "print(\"Middle of matrix a={}\".format(a[1:3,1:3]))"
   ]
  },
  {
   "cell_type": "markdown",
   "metadata": {},
   "source": [
    "## Axes\n",
    "### Summation"
   ]
  },
  {
   "cell_type": "code",
   "execution_count": 64,
   "metadata": {},
   "outputs": [
    {
     "name": "stdout",
     "output_type": "stream",
     "text": [
      "a=[[1. 1. 1. 1. 1.]\n",
      " [1. 1. 1. 1. 1.]\n",
      " [1. 1. 1. 1. 1.]]\n",
      "\n",
      "b=[[5 9 1 8 8]\n",
      " [2 9 1 9 5]\n",
      " [6 1 5 9 3]]\n",
      "\n",
      "Sum of a, along axis0 = [3. 3. 3. 3. 3.]\n",
      "\n",
      "Sum of a, along axis1 = [5. 5. 5.]\n",
      "\n",
      "Sum of b, along axis0 = [13 19  7 26 16]\n",
      "\n",
      "Sum of b, along axis1 = [31 26 24]\n",
      "\n",
      "Concatenate a and b along axis-0=[[1. 1. 1. 1. 1.]\n",
      " [1. 1. 1. 1. 1.]\n",
      " [1. 1. 1. 1. 1.]\n",
      " [5. 9. 1. 8. 8.]\n",
      " [2. 9. 1. 9. 5.]\n",
      " [6. 1. 5. 9. 3.]]\n",
      "\n",
      "Concatenate a and b along axis-1=[[1. 1. 1. 1. 1. 5. 9. 1. 8. 8.]\n",
      " [1. 1. 1. 1. 1. 2. 9. 1. 9. 5.]\n",
      " [1. 1. 1. 1. 1. 6. 1. 5. 9. 3.]]\n"
     ]
    }
   ],
   "source": [
    "# Two dimentional arrays\n",
    "a = np.ones([3,5])\n",
    "b = np.random.randint(1,10,[3,5])\n",
    "print(\"a={}\\n\\nb={}\".format(a,b))\n",
    "\n",
    "# Summation along axis\n",
    "print(\"\\nSum of a, along axis0 = {}\".format(np.sum(a,axis=0)))\n",
    "print(\"\\nSum of a, along axis1 = {}\".format(np.sum(a,axis=1)))\n",
    "print(\"\\nSum of b, along axis0 = {}\".format(np.sum(b,axis=0)))\n",
    "print(\"\\nSum of b, along axis1 = {}\".format(np.sum(b,axis=1)))\n",
    "\n",
    "# Concatenation along axis\n",
    "print(\"\\nConcatenate a and b along axis-0={}\".format(np.concatenate([a,b], axis=0)))\n",
    "print(\"\\nConcatenate a and b along axis-1={}\".format(np.concatenate([a,b], axis=1)))"
   ]
  },
  {
   "cell_type": "code",
   "execution_count": 65,
   "metadata": {},
   "outputs": [
    {
     "name": "stdout",
     "output_type": "stream",
     "text": [
      "a=[[[1. 1.]\n",
      "  [1. 1.]\n",
      "  [1. 1.]\n",
      "  [1. 1.]\n",
      "  [1. 1.]]\n",
      "\n",
      " [[1. 1.]\n",
      "  [1. 1.]\n",
      "  [1. 1.]\n",
      "  [1. 1.]\n",
      "  [1. 1.]]\n",
      "\n",
      " [[1. 1.]\n",
      "  [1. 1.]\n",
      "  [1. 1.]\n",
      "  [1. 1.]\n",
      "  [1. 1.]]]\n",
      "\n",
      "b=[[[6 2]\n",
      "  [8 3]\n",
      "  [4 6]\n",
      "  [2 7]\n",
      "  [7 1]]\n",
      "\n",
      " [[5 5]\n",
      "  [4 5]\n",
      "  [1 2]\n",
      "  [6 9]\n",
      "  [4 9]]\n",
      "\n",
      " [[2 1]\n",
      "  [8 5]\n",
      "  [9 1]\n",
      "  [5 3]\n",
      "  [1 9]]]\n",
      "\n",
      "Sum of a, along axis0 = [[3. 3.]\n",
      " [3. 3.]\n",
      " [3. 3.]\n",
      " [3. 3.]\n",
      " [3. 3.]]\n",
      "\n",
      "Sum of a, along axis1 = [[5. 5.]\n",
      " [5. 5.]\n",
      " [5. 5.]]\n",
      "\n",
      "Sum of a, along axis2 = [[2. 2. 2. 2. 2.]\n",
      " [2. 2. 2. 2. 2.]\n",
      " [2. 2. 2. 2. 2.]]\n",
      "\n",
      "Sum of b, along axis0 = [[13  8]\n",
      " [20 13]\n",
      " [14  9]\n",
      " [13 19]\n",
      " [12 19]]\n",
      "\n",
      "Sum of b, along axis1 = [[27 19]\n",
      " [20 30]\n",
      " [25 19]]\n",
      "\n",
      "Sum of b, along axis2 = [[ 8 11 10  9  8]\n",
      " [10  9  3 15 13]\n",
      " [ 3 13 10  8 10]]\n",
      "\n",
      "Concatenate a and b along axis-0=[[[1. 1.]\n",
      "  [1. 1.]\n",
      "  [1. 1.]\n",
      "  [1. 1.]\n",
      "  [1. 1.]]\n",
      "\n",
      " [[1. 1.]\n",
      "  [1. 1.]\n",
      "  [1. 1.]\n",
      "  [1. 1.]\n",
      "  [1. 1.]]\n",
      "\n",
      " [[1. 1.]\n",
      "  [1. 1.]\n",
      "  [1. 1.]\n",
      "  [1. 1.]\n",
      "  [1. 1.]]\n",
      "\n",
      " [[6. 2.]\n",
      "  [8. 3.]\n",
      "  [4. 6.]\n",
      "  [2. 7.]\n",
      "  [7. 1.]]\n",
      "\n",
      " [[5. 5.]\n",
      "  [4. 5.]\n",
      "  [1. 2.]\n",
      "  [6. 9.]\n",
      "  [4. 9.]]\n",
      "\n",
      " [[2. 1.]\n",
      "  [8. 5.]\n",
      "  [9. 1.]\n",
      "  [5. 3.]\n",
      "  [1. 9.]]]\n",
      "\n",
      "Concatenate a and b along axis-1=[[[1. 1.]\n",
      "  [1. 1.]\n",
      "  [1. 1.]\n",
      "  [1. 1.]\n",
      "  [1. 1.]\n",
      "  [6. 2.]\n",
      "  [8. 3.]\n",
      "  [4. 6.]\n",
      "  [2. 7.]\n",
      "  [7. 1.]]\n",
      "\n",
      " [[1. 1.]\n",
      "  [1. 1.]\n",
      "  [1. 1.]\n",
      "  [1. 1.]\n",
      "  [1. 1.]\n",
      "  [5. 5.]\n",
      "  [4. 5.]\n",
      "  [1. 2.]\n",
      "  [6. 9.]\n",
      "  [4. 9.]]\n",
      "\n",
      " [[1. 1.]\n",
      "  [1. 1.]\n",
      "  [1. 1.]\n",
      "  [1. 1.]\n",
      "  [1. 1.]\n",
      "  [2. 1.]\n",
      "  [8. 5.]\n",
      "  [9. 1.]\n",
      "  [5. 3.]\n",
      "  [1. 9.]]]\n",
      "\n",
      "Concatenate a and b along axis-2=[[[1. 1. 6. 2.]\n",
      "  [1. 1. 8. 3.]\n",
      "  [1. 1. 4. 6.]\n",
      "  [1. 1. 2. 7.]\n",
      "  [1. 1. 7. 1.]]\n",
      "\n",
      " [[1. 1. 5. 5.]\n",
      "  [1. 1. 4. 5.]\n",
      "  [1. 1. 1. 2.]\n",
      "  [1. 1. 6. 9.]\n",
      "  [1. 1. 4. 9.]]\n",
      "\n",
      " [[1. 1. 2. 1.]\n",
      "  [1. 1. 8. 5.]\n",
      "  [1. 1. 9. 1.]\n",
      "  [1. 1. 5. 3.]\n",
      "  [1. 1. 1. 9.]]]\n"
     ]
    }
   ],
   "source": [
    "# Three dimentional array\n",
    "a = np.ones([3,5,2])\n",
    "b = np.random.randint(1,10,[3,5,2])\n",
    "print(\"a={}\\n\\nb={}\".format(a,b))\n",
    "\n",
    "# Summation along axis\n",
    "print(\"\\nSum of a, along axis0 = {}\".format(np.sum(a,axis=0)))\n",
    "print(\"\\nSum of a, along axis1 = {}\".format(np.sum(a,axis=1)))\n",
    "print(\"\\nSum of a, along axis2 = {}\".format(np.sum(a,axis=2)))\n",
    "print(\"\\nSum of b, along axis0 = {}\".format(np.sum(b,axis=0)))\n",
    "print(\"\\nSum of b, along axis1 = {}\".format(np.sum(b,axis=1)))\n",
    "print(\"\\nSum of b, along axis2 = {}\".format(np.sum(b,axis=2)))\n",
    "\n",
    "# Concatenation along axis\n",
    "print(\"\\nConcatenate a and b along axis-0={}\".format(np.concatenate([a,b], axis=0)))\n",
    "print(\"\\nConcatenate a and b along axis-1={}\".format(np.concatenate([a,b], axis=1)))\n",
    "print(\"\\nConcatenate a and b along axis-2={}\".format(np.concatenate([a,b], axis=2)))"
   ]
  },
  {
   "cell_type": "markdown",
   "metadata": {},
   "source": [
    "# Array (standard) operations"
   ]
  },
  {
   "cell_type": "code",
   "execution_count": 66,
   "metadata": {
    "scrolled": true
   },
   "outputs": [
    {
     "name": "stdout",
     "output_type": "stream",
     "text": [
      "a5(exp of array a4)=\n",
      "[[0.46551417 0.65284184 1.0025324 ]\n",
      " [6.88830183 2.74958237 0.92763286]]\n",
      "\n",
      "a5_1(log of array a5)=\n",
      "[[-0.76461274 -0.42642039  0.0025292 ]\n",
      " [ 1.92982459  1.01144904 -0.07511925]]\n",
      "\n",
      "Operation 1-a5_1=\n",
      "[[ 1.76461274  1.42642039  0.9974708 ]\n",
      " [-0.92982459 -0.01144904  1.07511925]]\n",
      "\n",
      "abs of a5=\n",
      "[[0.46551417 0.65284184 1.0025324 ]\n",
      " [6.88830183 2.74958237 0.92763286]]\n"
     ]
    }
   ],
   "source": [
    "a4 = np.random.randn(2,3)\n",
    "a5 = np.exp(a4) # Create a new array, same rank as a4_3, whose values are exponential of corresponding values of a4_3\n",
    "print(\"a5(exp of array a4)=\\n{}\\n\".format(a5))\n",
    "\n",
    "a5_1 = np.log(a5) # Create a new array, same rank as a5, whose values are logarithmic to the values of a5\n",
    "print(\"a5_1(log of array a5)=\\n{}\".format(a5_1))\n",
    "print(\"\\nOperation 1-a5_1=\\n{}\\n\".format(1-a5_1))\n",
    "\n",
    "a5_2 = np.array(abs(a5)) \n",
    "print(\"abs of a5=\\n{}\".format(a5_2))"
   ]
  },
  {
   "cell_type": "markdown",
   "metadata": {},
   "source": [
    "## Copying an array into another"
   ]
  },
  {
   "cell_type": "code",
   "execution_count": 67,
   "metadata": {
    "scrolled": true
   },
   "outputs": [
    {
     "name": "stdout",
     "output_type": "stream",
     "text": [
      "a1=\n",
      "[[ 0.05385449 -0.1134049  -0.02924087]\n",
      " [-0.93897151 -0.58590968 -0.52851061]]\n",
      "Operation divide by 2 of matrix a2=\n",
      "[[ 0.02692724 -0.05670245 -0.01462043]\n",
      " [-0.46948575 -0.29295484 -0.2642553 ]]\n"
     ]
    }
   ],
   "source": [
    "a1 = np.random.randn(2,3)\n",
    "print(\"a1=\\n{}\".format(a1))\n",
    "a2 = a1.copy() # Copy an array\n",
    "a2 /= 2\n",
    "print(\"Operation divide by 2 of matrix a2=\\n{}\".format(a2))"
   ]
  },
  {
   "cell_type": "markdown",
   "metadata": {},
   "source": [
    "## Elementwise mathematical operations"
   ]
  },
  {
   "cell_type": "code",
   "execution_count": 68,
   "metadata": {},
   "outputs": [
    {
     "name": "stdout",
     "output_type": "stream",
     "text": [
      "a5_2=\n",
      "[[11 24  5]\n",
      " [11  3  6]]\n",
      "\n",
      "a5_3=\n",
      "[[1. 1. 1.]\n",
      " [1. 1. 1.]]\n",
      "\n",
      "Addition operations\n",
      "\n",
      "a5_2+a5_3=\n",
      "[[12. 25.  6.]\n",
      " [12.  4.  7.]]\n",
      "\n",
      "22+a5_3=\n",
      "[[23. 23. 23.]\n",
      " [23. 23. 23.]]\n",
      "\n",
      "a5_3+22=\n",
      "[[23. 23. 23.]\n",
      " [23. 23. 23.]]\n",
      "\n",
      "Subtraction operations\n",
      "\n",
      "a5_2-a5_3=\n",
      "[[10. 23.  4.]\n",
      " [10.  2.  5.]]\n",
      "\n",
      "Multiplication operations\n",
      "\n",
      "a5_2*a5_3=\n",
      "[[11. 24.  5.]\n",
      " [11.  3.  6.]]\n",
      "\n",
      "437*a5_3=\n",
      "[[437. 437. 437.]\n",
      " [437. 437. 437.]]\n",
      "\n",
      "a5_3*437=\n",
      "[[437. 437. 437.]\n",
      " [437. 437. 437.]]\n",
      "\n",
      "Division operations\n",
      "\n",
      "a5_2/a5_3=\n",
      "[[11. 24.  5.]\n",
      " [11.  3.  6.]]\n",
      "\n",
      "Miscelleneous operations\n",
      "\n",
      "elementwise (a5_2)^2=\n",
      "[[121 576  25]\n",
      " [121   9  36]]\n",
      "\n",
      "sqrt(a5_8)=\n",
      "[[121 576  25]\n",
      " [121   9  36]]\n"
     ]
    }
   ],
   "source": [
    "# Note that all the operations below are element wise. \n",
    "\n",
    "a5_2 = np.random.randint(45,size=(2,3))\n",
    "a5_3 = np.ones((2,3))\n",
    "print(\"a5_2=\\n{}\\n\\na5_3=\\n{}\\n\".format(a5_2, a5_3))\n",
    "\n",
    "# Addition\n",
    "print(\"Addition operations\\n\")\n",
    "a5_4 = np.add(a5_2,a5_3)\n",
    "print(\"a5_2+a5_3=\\n{}\\n\".format(a5_4))\n",
    "a5_4_1 = np.add(22,a5_3)\n",
    "print(\"22+a5_3=\\n{}\\n\".format(a5_4_1))\n",
    "a5_4_2 = np.add(a5_3,22)\n",
    "print(\"a5_3+22=\\n{}\\n\".format(a5_4_2))\n",
    "\n",
    "print(\"Subtraction operations\\n\")\n",
    "a5_5 = np.subtract(a5_2,a5_3)\n",
    "print(\"a5_2-a5_3=\\n{}\\n\".format(a5_5))\n",
    "\n",
    "print(\"Multiplication operations\\n\")\n",
    "a5_6 = np.multiply(a5_2,a5_3) \n",
    "print(\"a5_2*a5_3=\\n{}\\n\".format(a5_6))\n",
    "a5_6_1 = np.multiply(437,a5_3) \n",
    "print(\"437*a5_3=\\n{}\\n\".format(a5_6_1))\n",
    "a5_6_2 = np.multiply(a5_3,437) \n",
    "print(\"a5_3*437=\\n{}\\n\".format(a5_6_2))\n",
    "\n",
    "print(\"Division operations\\n\")\n",
    "a5_7 = np.divide(a5_2,a5_3)\n",
    "print(\"a5_2/a5_3=\\n{}\\n\".format(a5_7))\n",
    "\n",
    "print(\"Miscelleneous operations\\n\")\n",
    "a5_8 = np.square(a5_2)\n",
    "print(\"elementwise (a5_2)^2=\\n{}\".format(a5_8))\n",
    "\n",
    "a5_9 = np.sqrt(a5_8)\n",
    "print(\"\\nsqrt(a5_8)=\\n{}\".format(a5_8))"
   ]
  },
  {
   "cell_type": "markdown",
   "metadata": {},
   "source": [
    "## Matrix operations"
   ]
  },
  {
   "cell_type": "code",
   "execution_count": 69,
   "metadata": {},
   "outputs": [
    {
     "name": "stdout",
     "output_type": "stream",
     "text": [
      "a14=\n",
      "[[1 1 1]\n",
      " [2 2 2]]\n",
      "\n",
      "a15=\n",
      "[[1]\n",
      " [2]\n",
      " [3]]\n",
      "\n",
      "np.dot operation of matrix shapes (2, 3) and (3, 1) is a (2, 1) shaped matrix = \n",
      "[[ 6]\n",
      " [12]]\n"
     ]
    }
   ],
   "source": [
    "a14 = np.array([[1,1,1], [2,2,2]])\n",
    "a15 = np.array([[1],[2],[3]])\n",
    "print(\"a14=\\n{}\\n\\na15=\\n{}\\n\".format(a14, a15))\n",
    "print(\"np.dot operation of matrix shapes {} and {} is a {} shaped matrix = \\n{}\".format(a14.shape, a15.shape, np.dot(a14,a15).shape, np.dot(a14,a15)))"
   ]
  },
  {
   "cell_type": "markdown",
   "metadata": {},
   "source": [
    "## Applying functions on all elements\n",
    "### Square each item in the array"
   ]
  },
  {
   "cell_type": "code",
   "execution_count": 70,
   "metadata": {},
   "outputs": [
    {
     "name": "stdout",
     "output_type": "stream",
     "text": [
      "squares=[ 1  4  9 16 25]\n",
      "Using np.square(x)=[ 1  4  9 16 25]\n"
     ]
    }
   ],
   "source": [
    "x = np.array([1, 2, 3, 4, 5])\n",
    "f = lambda x: x ** 2\n",
    "squares = f(x)\n",
    "#print(squares)\n",
    "print(\"squares={}\\nUsing np.square(x)={}\".format(squares, np.square(x)))"
   ]
  },
  {
   "cell_type": "markdown",
   "metadata": {},
   "source": [
    "### Applying sigmoid function (1/(1+e^-z))"
   ]
  },
  {
   "cell_type": "code",
   "execution_count": 71,
   "metadata": {},
   "outputs": [
    {
     "name": "stdout",
     "output_type": "stream",
     "text": [
      "Applying sigmoid function to all the elements:\n",
      "[[0.99999774 0.99987661 0.9999833  0.88079708]\n",
      " [0.99999999 0.73105858 0.99999998 0.95257413]\n",
      " [0.99999996 0.99999774 0.99752738 0.99752738]]\n"
     ]
    }
   ],
   "source": [
    "a = np.random.randint(20, size=(3,4))\n",
    "a_sigmoid = 1/(1+np.exp(-a))\n",
    "print(\"Applying sigmoid function to all the elements:\\n{}\".format(a_sigmoid))"
   ]
  },
  {
   "cell_type": "markdown",
   "metadata": {},
   "source": [
    "### Return True/False based on some threshold"
   ]
  },
  {
   "cell_type": "code",
   "execution_count": 72,
   "metadata": {
    "scrolled": true
   },
   "outputs": [
    {
     "name": "stdout",
     "output_type": "stream",
     "text": [
      "[False False  True  True  True]\n"
     ]
    }
   ],
   "source": [
    "x = np.array([1, 2, 3, 4, 5])\n",
    "threshold = 2.9\n",
    "one_zeros = x > threshold\n",
    "print(one_zeros)"
   ]
  },
  {
   "cell_type": "markdown",
   "metadata": {},
   "source": [
    "# Accessing  array elements\n",
    "## Individual elements of the array"
   ]
  },
  {
   "cell_type": "code",
   "execution_count": 73,
   "metadata": {},
   "outputs": [
    {
     "name": "stdout",
     "output_type": "stream",
     "text": [
      "a16=\n",
      "[[1 2 3 4 5 6]]\n",
      "\n",
      "a16[0][5]=6\n"
     ]
    }
   ],
   "source": [
    "a16 = np.array([[1,2,3,4,5,6]])\n",
    "print(\"a16=\\n{}\\n\\na16[0][5]={}\".format(a16,a16[0][5]))"
   ]
  },
  {
   "cell_type": "markdown",
   "metadata": {},
   "source": [
    "# References\n",
    "\n",
    "* [Numpy axes explained](https://www.sharpsightlabs.com/blog/numpy-axes-explained/)"
   ]
  }
 ],
 "metadata": {
  "kernelspec": {
   "display_name": "Python 3",
   "language": "python",
   "name": "python3"
  },
  "language_info": {
   "codemirror_mode": {
    "name": "ipython",
    "version": 3
   },
   "file_extension": ".py",
   "mimetype": "text/x-python",
   "name": "python",
   "nbconvert_exporter": "python",
   "pygments_lexer": "ipython3",
   "version": "3.7.3"
  }
 },
 "nbformat": 4,
 "nbformat_minor": 2
}
