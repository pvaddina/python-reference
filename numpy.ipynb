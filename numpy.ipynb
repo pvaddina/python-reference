{
 "cells": [
  {
   "cell_type": "code",
   "execution_count": 1,
   "metadata": {},
   "outputs": [],
   "source": [
    "import numpy as np"
   ]
  },
  {
   "cell_type": "markdown",
   "metadata": {},
   "source": [
    "# Initializing Arrays"
   ]
  },
  {
   "cell_type": "markdown",
   "metadata": {},
   "source": [
    "### General initializing techniques and accessors"
   ]
  },
  {
   "cell_type": "code",
   "execution_count": 2,
   "metadata": {},
   "outputs": [
    {
     "name": "stdout",
     "output_type": "stream",
     "text": [
      "Array a1=[1 2 3 4 5]\n",
      "Array a2=[[ 1  2  3  4  5]\n",
      " [ 6  7  8  9 10]]\n",
      "a2[1]=[ 6  7  8  9 10]\n",
      "a2[1][2]=8\n",
      "Shape of a2=(2, 5)\n"
     ]
    }
   ],
   "source": [
    "a1 = np.array([1,2,3,4,5])\n",
    "a2 = np.array([[1,2,3,4,5],[6,7,8,9,10]])\n",
    "print(\"Array a1={}\".format(a1))\n",
    "print(\"Array a2={}\".format(a2))\n",
    "print(\"a2[1]={}\".format(a2[1]))\n",
    "print(\"a2[1][2]={}\".format(a2[1][2]))\n",
    "print(\"Shape of a2={}\".format(a2.shape))"
   ]
  },
  {
   "cell_type": "markdown",
   "metadata": {},
   "source": [
    "### Standard initialization"
   ]
  },
  {
   "cell_type": "code",
   "execution_count": 3,
   "metadata": {},
   "outputs": [
    {
     "name": "stdout",
     "output_type": "stream",
     "text": [
      "a3=[0. 0. 0. 0. 0. 0. 0. 0. 0. 0.]\n",
      "a4=[[0. 0. 0. 0. 0. 0.]\n",
      " [0. 0. 0. 0. 0. 0.]\n",
      " [0. 0. 0. 0. 0. 0.]\n",
      " [0. 0. 0. 0. 0. 0.]\n",
      " [0. 0. 0. 0. 0. 0.]]\n"
     ]
    }
   ],
   "source": [
    "a3 = np.zeros(10) # Initialize a (1x10) array with zeros\n",
    "print(\"a3={}\".format(a3))\n",
    "a4 = np.zeros((5,6)) # Initialize an (5x6) array with zeros\n",
    "print(\"a4={}\".format(a4))\n",
    "# print(\"np.zeros(1,2)={}\".format( np.zeros(1,2) )) # Error: Data type not understood"
   ]
  },
  {
   "cell_type": "code",
   "execution_count": 4,
   "metadata": {},
   "outputs": [
    {
     "name": "stdout",
     "output_type": "stream",
     "text": [
      "np.ones((6,2))=[[1. 1.]\n",
      " [1. 1.]\n",
      " [1. 1.]\n",
      " [1. 1.]\n",
      " [1. 1.]\n",
      " [1. 1.]]\n"
     ]
    }
   ],
   "source": [
    "print(\"np.ones((6,2))={}\".format(np.ones((6,2))))"
   ]
  },
  {
   "cell_type": "code",
   "execution_count": 5,
   "metadata": {},
   "outputs": [
    {
     "name": "stdout",
     "output_type": "stream",
     "text": [
      "np.full((6,2), 99)=[[99 99]\n",
      " [99 99]\n",
      " [99 99]\n",
      " [99 99]\n",
      " [99 99]\n",
      " [99 99]]\n"
     ]
    }
   ],
   "source": [
    "print(\"np.full((6,2), 99)={}\".format( np.full((6,2), 99) ))"
   ]
  },
  {
   "cell_type": "code",
   "execution_count": 6,
   "metadata": {},
   "outputs": [
    {
     "name": "stdout",
     "output_type": "stream",
     "text": [
      "np.array((4,5), dtype=np.int)=[4 5]\n"
     ]
    }
   ],
   "source": [
    "print(\"np.array((4,5), dtype=np.int)={}\".format(  np.array((4,5), dtype=np.int)  ))"
   ]
  },
  {
   "cell_type": "code",
   "execution_count": 7,
   "metadata": {},
   "outputs": [
    {
     "name": "stdout",
     "output_type": "stream",
     "text": [
      "a4_5 = [[0. 0. 0.]\n",
      " [0. 0. 0.]]\n",
      "a4_6 = [[0. 0. 0. 0. 0. 0.]\n",
      " [0. 0. 0. 0. 0. 0.]\n",
      " [0. 0. 0. 0. 0. 0.]\n",
      " [0. 0. 0. 0. 0. 0.]\n",
      " [0. 0. 0. 0. 0. 0.]]\n"
     ]
    }
   ],
   "source": [
    "a4_5,a4_6 = np.zeros((2,3)), np.zeros((5,6)) # Initialize multiple matrices at the same time\n",
    "print (\"a4_5 = {}\".format(a4_5))\n",
    "print (\"a4_6 = {}\".format(a4_6))"
   ]
  },
  {
   "cell_type": "markdown",
   "metadata": {},
   "source": [
    "### Random initialization"
   ]
  },
  {
   "cell_type": "code",
   "execution_count": 8,
   "metadata": {},
   "outputs": [
    {
     "name": "stdout",
     "output_type": "stream",
     "text": [
      "np.random.randn(2,3)=\n",
      "[[-0.48798629 -0.41449353 -0.24515339]\n",
      " [-0.73727401 -0.45904658  0.41510459]]\n",
      "\n",
      "np.random.rand(2,3)=\n",
      "[[0.02518123 0.36865305 0.86571196]\n",
      " [0.58849477 0.9555399  0.56137371]]\n",
      "\n",
      "np.random.randint(23, size=(5,3))=\n",
      "[[ 2  7  1]\n",
      " [ 8 15 16]\n",
      " [22 10 14]\n",
      " [ 0 20  0]\n",
      " [17  6 18]]\n",
      "\n",
      "np.random.randint(10, 437, 23)=\n",
      "[245 109 106 420 266 242 266 233  89  55 370 186  70 187  37 202 329 385\n",
      "  24 181 208  42  36]\n",
      "\n",
      "\n",
      "np.random.random((5,5))=\n",
      "[[0.97971218 0.73131861 0.23309199 0.85502487 0.65062005]\n",
      " [0.49831547 0.8813217  0.07802431 0.96642203 0.89897011]\n",
      " [0.22172272 0.83465723 0.35592099 0.54841749 0.05927039]\n",
      " [0.2969374  0.30287974 0.03811513 0.29750817 0.73234716]\n",
      " [0.24937229 0.20531678 0.1867922  0.32274062 0.97570606]]\n"
     ]
    }
   ],
   "source": [
    "print(\"np.random.randn(2,3)=\\n{}\\n\".format(np.random.randn(2,3) ))\n",
    "print(\"np.random.rand(2,3)=\\n{}\\n\".format(np.random.rand(2,3) ))\n",
    "print(\"np.random.randint(23, size=(5,3))=\\n{}\\n\".format(np.random.randint(23, size=(5,3)) )) # Get a 5x3 matrix randomly with integer values from (1-23)\n",
    "print(\"np.random.randint(10, 437, 23)=\\n{}\\n\".format(np.random.randint(10, 437, 23))) # Get a 5x3 matrix randomly with integer values from (1-23)\n",
    "print(\"\\nnp.random.random((5,5))=\\n{}\".format(np.random.random((5,5))))"
   ]
  },
  {
   "cell_type": "markdown",
   "metadata": {},
   "source": [
    "# Modification operations\n",
    "\n",
    "## Insert new elements"
   ]
  },
  {
   "cell_type": "code",
   "execution_count": 9,
   "metadata": {},
   "outputs": [
    {
     "name": "stdout",
     "output_type": "stream",
     "text": [
      "[  7   8   9   4   6   3   8   2   1   3 988]\n"
     ]
    }
   ],
   "source": [
    "d = np.random.randint(1,10,size=10)\n",
    "d = np.append(d,[988]) # Append an element\n",
    "print(d)"
   ]
  },
  {
   "cell_type": "markdown",
   "metadata": {},
   "source": [
    "# Accessing  array elements\n",
    "## Individual elements of the array"
   ]
  },
  {
   "cell_type": "code",
   "execution_count": 10,
   "metadata": {},
   "outputs": [
    {
     "name": "stdout",
     "output_type": "stream",
     "text": [
      "a16=\n",
      "[[1 2 3 4 5 6]]\n",
      "\n",
      "a16[0][5]=6\n"
     ]
    }
   ],
   "source": [
    "a16 = np.array([[1,2,3,4,5,6]])\n",
    "print(\"a16=\\n{}\\n\\na16[0][5]={}\".format(a16,a16[0][5]))"
   ]
  },
  {
   "cell_type": "markdown",
   "metadata": {},
   "source": [
    "# Array (standard) operations"
   ]
  },
  {
   "cell_type": "code",
   "execution_count": 11,
   "metadata": {
    "scrolled": true
   },
   "outputs": [
    {
     "name": "stdout",
     "output_type": "stream",
     "text": [
      "a5(exp of array a4)=\n",
      "[[0.2727636  1.46890134 1.03840177]\n",
      " [0.39418057 2.66743044 1.09979213]]\n",
      "\n",
      "a5_1(log of array a5)=\n",
      "[[-1.29914981  0.38451473  0.03768277]\n",
      " [-0.93094618  0.98111563  0.09512119]]\n",
      "\n",
      "Operation 1-a5_1=\n",
      "[[2.29914981 0.61548527 0.96231723]\n",
      " [1.93094618 0.01888437 0.90487881]]\n",
      "\n",
      "abs of a5=\n",
      "[[0.2727636  1.46890134 1.03840177]\n",
      " [0.39418057 2.66743044 1.09979213]]\n"
     ]
    }
   ],
   "source": [
    "a4 = np.random.randn(2,3)\n",
    "a5 = np.exp(a4) # Create a new array, same rank as a4_3, whose values are exponential of corresponding values of a4_3\n",
    "print(\"a5(exp of array a4)=\\n{}\\n\".format(a5))\n",
    "\n",
    "a5_1 = np.log(a5) # Create a new array, same rank as a5, whose values are logarithmic to the values of a5\n",
    "print(\"a5_1(log of array a5)=\\n{}\".format(a5_1))\n",
    "print(\"\\nOperation 1-a5_1=\\n{}\\n\".format(1-a5_1))\n",
    "\n",
    "a5_2 = np.array(abs(a5)) \n",
    "print(\"abs of a5=\\n{}\".format(a5_2))"
   ]
  },
  {
   "cell_type": "markdown",
   "metadata": {},
   "source": [
    "## Copying an array into another"
   ]
  },
  {
   "cell_type": "code",
   "execution_count": 12,
   "metadata": {
    "scrolled": true
   },
   "outputs": [
    {
     "name": "stdout",
     "output_type": "stream",
     "text": [
      "a1=\n",
      "[[-0.40841845  0.25903953  1.87993743]\n",
      " [ 0.9906212  -0.09682044  0.07685643]]\n",
      "Operation divide by 2 of matrix a2=\n",
      "[[-0.20420922  0.12951977  0.93996871]\n",
      " [ 0.4953106  -0.04841022  0.03842821]]\n"
     ]
    }
   ],
   "source": [
    "a1 = np.random.randn(2,3)\n",
    "print(\"a1=\\n{}\".format(a1))\n",
    "a2 = a1.copy() # Copy an array\n",
    "a2 /= 2\n",
    "print(\"Operation divide by 2 of matrix a2=\\n{}\".format(a2))"
   ]
  },
  {
   "cell_type": "markdown",
   "metadata": {},
   "source": [
    "## Elementwise mathematical operations"
   ]
  },
  {
   "cell_type": "code",
   "execution_count": 13,
   "metadata": {},
   "outputs": [
    {
     "name": "stdout",
     "output_type": "stream",
     "text": [
      "a5_2=\n",
      "[[16 36  8]\n",
      " [39 26 14]]\n",
      "\n",
      "a5_3=\n",
      "[[1. 1. 1.]\n",
      " [1. 1. 1.]]\n",
      "\n",
      "Addition operations\n",
      "\n",
      "a5_2+a5_3=\n",
      "[[17. 37.  9.]\n",
      " [40. 27. 15.]]\n",
      "\n",
      "22+a5_3=\n",
      "[[23. 23. 23.]\n",
      " [23. 23. 23.]]\n",
      "\n",
      "a5_3+22=\n",
      "[[23. 23. 23.]\n",
      " [23. 23. 23.]]\n",
      "\n",
      "Subtraction operations\n",
      "\n",
      "a5_2-a5_3=\n",
      "[[15. 35.  7.]\n",
      " [38. 25. 13.]]\n",
      "\n",
      "Multiplication operations\n",
      "\n",
      "a5_2*a5_3=\n",
      "[[16. 36.  8.]\n",
      " [39. 26. 14.]]\n",
      "\n",
      "437*a5_3=\n",
      "[[437. 437. 437.]\n",
      " [437. 437. 437.]]\n",
      "\n",
      "a5_3*437=\n",
      "[[437. 437. 437.]\n",
      " [437. 437. 437.]]\n",
      "\n",
      "Division operations\n",
      "\n",
      "a5_2/a5_3=\n",
      "[[16. 36.  8.]\n",
      " [39. 26. 14.]]\n",
      "\n",
      "Miscelleneous operations\n",
      "\n",
      "elementwise (a5_2)^2=\n",
      "[[ 256 1296   64]\n",
      " [1521  676  196]]\n",
      "\n",
      "sqrt(a5_8)=\n",
      "[[ 256 1296   64]\n",
      " [1521  676  196]]\n"
     ]
    }
   ],
   "source": [
    "# Note that all the operations below are element wise. \n",
    "\n",
    "a5_2 = np.random.randint(45,size=(2,3))\n",
    "a5_3 = np.ones((2,3))\n",
    "print(\"a5_2=\\n{}\\n\\na5_3=\\n{}\\n\".format(a5_2, a5_3))\n",
    "\n",
    "# Addition\n",
    "print(\"Addition operations\\n\")\n",
    "a5_4 = np.add(a5_2,a5_3)\n",
    "print(\"a5_2+a5_3=\\n{}\\n\".format(a5_4))\n",
    "a5_4_1 = np.add(22,a5_3)\n",
    "print(\"22+a5_3=\\n{}\\n\".format(a5_4_1))\n",
    "a5_4_2 = np.add(a5_3,22)\n",
    "print(\"a5_3+22=\\n{}\\n\".format(a5_4_2))\n",
    "\n",
    "print(\"Subtraction operations\\n\")\n",
    "a5_5 = np.subtract(a5_2,a5_3)\n",
    "print(\"a5_2-a5_3=\\n{}\\n\".format(a5_5))\n",
    "\n",
    "print(\"Multiplication operations\\n\")\n",
    "a5_6 = np.multiply(a5_2,a5_3) \n",
    "print(\"a5_2*a5_3=\\n{}\\n\".format(a5_6))\n",
    "a5_6_1 = np.multiply(437,a5_3) \n",
    "print(\"437*a5_3=\\n{}\\n\".format(a5_6_1))\n",
    "a5_6_2 = np.multiply(a5_3,437) \n",
    "print(\"a5_3*437=\\n{}\\n\".format(a5_6_2))\n",
    "\n",
    "print(\"Division operations\\n\")\n",
    "a5_7 = np.divide(a5_2,a5_3)\n",
    "print(\"a5_2/a5_3=\\n{}\\n\".format(a5_7))\n",
    "\n",
    "print(\"Miscelleneous operations\\n\")\n",
    "a5_8 = np.square(a5_2)\n",
    "print(\"elementwise (a5_2)^2=\\n{}\".format(a5_8))\n",
    "\n",
    "a5_9 = np.sqrt(a5_8)\n",
    "print(\"\\nsqrt(a5_8)=\\n{}\".format(a5_8))"
   ]
  },
  {
   "cell_type": "markdown",
   "metadata": {},
   "source": [
    "## Matrix operations"
   ]
  },
  {
   "cell_type": "code",
   "execution_count": 14,
   "metadata": {},
   "outputs": [
    {
     "name": "stdout",
     "output_type": "stream",
     "text": [
      "a14=\n",
      "[[1 1 1]\n",
      " [2 2 2]]\n",
      "\n",
      "a15=\n",
      "[[1]\n",
      " [2]\n",
      " [3]]\n",
      "\n",
      "np.dot operation of matrix shapes (2, 3) and (3, 1) is a (2, 1) shaped matrix = \n",
      "[[ 6]\n",
      " [12]]\n"
     ]
    }
   ],
   "source": [
    "a14 = np.array([[1,1,1], [2,2,2]])\n",
    "a15 = np.array([[1],[2],[3]])\n",
    "print(\"a14=\\n{}\\n\\na15=\\n{}\\n\".format(a14, a15))\n",
    "print(\"np.dot operation of matrix shapes {} and {} is a {} shaped matrix = \\n{}\".format(a14.shape, a15.shape, np.dot(a14,a15).shape, np.dot(a14,a15)))"
   ]
  },
  {
   "cell_type": "markdown",
   "metadata": {},
   "source": [
    "## Reshape"
   ]
  },
  {
   "cell_type": "code",
   "execution_count": 15,
   "metadata": {},
   "outputs": [
    {
     "name": "stdout",
     "output_type": "stream",
     "text": [
      "a(2, 2, 3)=\n",
      "[[[2 2 6]\n",
      "  [9 9 9]]\n",
      "\n",
      " [[8 2 2]\n",
      "  [7 8 2]]]\n",
      "\n",
      "a reshaped to (4, 3)=\n",
      "[[2 2 6]\n",
      " [9 9 9]\n",
      " [8 2 2]\n",
      " [7 8 2]]\n",
      "\n",
      "a reshaped to (3, 4)=\n",
      "[[2 2 6 9]\n",
      " [9 9 8 2]\n",
      " [2 7 8 2]]\n",
      "\n",
      "a reshaped to (2, 6)=\n",
      "[[2 2 6 9 9 9]\n",
      " [8 2 2 7 8 2]]\n",
      "\n",
      "a reshaped to (1, 12)=\n",
      "[[2 2 6 9 9 9 8 2 2 7 8 2]]\n",
      "\n",
      "a_1d reshaped to (2, 2, 3)=\n",
      "[[[2 2 6]\n",
      "  [9 9 9]]\n",
      "\n",
      " [[8 2 2]\n",
      "  [7 8 2]]]\n"
     ]
    }
   ],
   "source": [
    "a = np.random.randint(low=2, high=10, size=(2, 2, 3))  # low, high give the range within which the random values are generated\n",
    "print(\"a{}=\\n{}\".format(a.shape, a))\n",
    "print(\"\\na reshaped to {}=\\n{}\".format(a.reshape((4,3)).shape, a.reshape((4,3))))\n",
    "print(\"\\na reshaped to {}=\\n{}\".format(a.reshape((3,4)).shape, a.reshape((3,4))))\n",
    "print(\"\\na reshaped to {}=\\n{}\".format(a.reshape((2,6)).shape, a.reshape((2,6))))\n",
    "a_1d = a.reshape((1,12))\n",
    "print(\"\\na reshaped to {}=\\n{}\".format(a_1d.shape, a_1d))\n",
    "print(\"\\na_1d reshaped to {}=\\n{}\".format(a_1d.reshape((2,2,3)).shape, a_1d.reshape((2,2,3))))"
   ]
  },
  {
   "cell_type": "code",
   "execution_count": 16,
   "metadata": {},
   "outputs": [
    {
     "name": "stdout",
     "output_type": "stream",
     "text": [
      "Shape of a17=(2, 4)\n",
      "a17=\n",
      "[[0.00917388 0.30683208 0.04436213 0.31775375]\n",
      " [0.7661265  0.92911555 0.34412987 0.57265574]]\n",
      "\n",
      "Shape of a17_reshape=(1, 8)\n",
      "a17_reshape=\n",
      "[[0.00917388 0.30683208 0.04436213 0.31775375 0.7661265  0.92911555\n",
      "  0.34412987 0.57265574]]\n",
      "\n",
      "Shape of a17_reshape2=(8, 1)\n",
      "a17_reshape2=\n",
      "[[0.00917388]\n",
      " [0.30683208]\n",
      " [0.04436213]\n",
      " [0.31775375]\n",
      " [0.7661265 ]\n",
      " [0.92911555]\n",
      " [0.34412987]\n",
      " [0.57265574]]\n",
      "\n",
      "Shape of a17_reshape3=(2, 4)\n",
      "a17_reshape3=\n",
      "[[0.00917388 0.30683208 0.04436213 0.31775375]\n",
      " [0.7661265  0.92911555 0.34412987 0.57265574]]\n",
      "\n"
     ]
    }
   ],
   "source": [
    "a17 = np.random.random((2,4))\n",
    "print(\"Shape of a17={}\".format(a17.shape))\n",
    "print(\"a17=\\n{}\\n\".format(a17))\n",
    "\n",
    "a17_reshape = a17.reshape((1,8))\n",
    "print(\"Shape of a17_reshape={}\".format(a17_reshape.shape))\n",
    "print(\"a17_reshape=\\n{}\\n\".format(a17_reshape))\n",
    "\n",
    "a17_reshape2 = a17.reshape((8,1))\n",
    "print(\"Shape of a17_reshape2={}\".format(a17_reshape2.shape))\n",
    "print(\"a17_reshape2=\\n{}\\n\".format(a17_reshape2))\n",
    "\n",
    "a17_reshape3 = a17.reshape((-1,4)) # Infer the first dimension of a17 automatically (-1)\n",
    "print(\"Shape of a17_reshape3={}\".format(a17_reshape3.shape))\n",
    "print(\"a17_reshape3=\\n{}\\n\".format(a17_reshape3))"
   ]
  },
  {
   "cell_type": "markdown",
   "metadata": {},
   "source": [
    "## Squeeze"
   ]
  },
  {
   "cell_type": "code",
   "execution_count": 17,
   "metadata": {},
   "outputs": [
    {
     "name": "stdout",
     "output_type": "stream",
     "text": [
      "shape of x=(1, 3, 1); x[0][0]=[437], x[0][1]=[233], x[0][2]=[99]\n",
      "shape of x_sq=(3,); x_sq[0]=437, x_sq[1]=233, x_sq[2]=99\n"
     ]
    }
   ],
   "source": [
    "x = np.array([[[437], [233], [99]]])\n",
    "print(\"shape of x={}; x[0][0]={}, x[0][1]={}, x[0][2]={}\".format(x.shape, x[0][0], x[0][1], x[0][2]))\n",
    "x_sq = np.squeeze(x)\n",
    "print(\"shape of x_sq={}; x_sq[0]={}, x_sq[1]={}, x_sq[2]={}\".format(x_sq.shape, x_sq[0], x_sq[1], x_sq[2]))"
   ]
  },
  {
   "cell_type": "markdown",
   "metadata": {},
   "source": [
    "## Slicing"
   ]
  },
  {
   "cell_type": "code",
   "execution_count": 18,
   "metadata": {},
   "outputs": [
    {
     "name": "stdout",
     "output_type": "stream",
     "text": [
      "x=[[3 5 5 7 3 6]\n",
      " [3 7 8 5 3 6]\n",
      " [4 7 1 3 7 8]\n",
      " [7 2 5 5 3 2]\n",
      " [6 6 4 8 3 1]\n",
      " [4 8 2 7 0 7]\n",
      " [7 5 2 0 7 3]\n",
      " [5 1 6 1 3 4]\n",
      " [5 0 8 5 5 2]\n",
      " [8 7 6 3 4 1]]\n",
      "\n",
      "x[1::4]=\n",
      "[[3 7 8 5 3 6]\n",
      " [4 8 2 7 0 7]\n",
      " [8 7 6 3 4 1]]\n",
      "\n",
      "x[1::2]=\n",
      "[[3 7 8 5 3 6]\n",
      " [7 2 5 5 3 2]\n",
      " [4 8 2 7 0 7]\n",
      " [5 1 6 1 3 4]\n",
      " [8 7 6 3 4 1]]\n",
      "\n",
      "x[1:2:4]=\n",
      "[[3 7 8 5 3 6]]\n",
      "\n",
      "x[1:4:2]=\n",
      "[[3 7 8 5 3 6]\n",
      " [7 2 5 5 3 2]]\n"
     ]
    }
   ],
   "source": [
    "np.random.seed(67)\n",
    "x = np.random.randint(9, size=(10,6))\n",
    "print(\"x={}\".format(x))\n",
    "print(\"\\nx[1::4]=\\n{}\".format(x[1::4]))\n",
    "print(\"\\nx[1::2]=\\n{}\".format(x[1::2]))\n",
    "print(\"\\nx[1:2:4]=\\n{}\".format(x[1:2:4]))\n",
    "print(\"\\nx[1:4:2]=\\n{}\".format(x[1:4:2]))"
   ]
  },
  {
   "cell_type": "markdown",
   "metadata": {},
   "source": [
    "## Applying functions on all elements\n",
    "### Square each item in the array"
   ]
  },
  {
   "cell_type": "code",
   "execution_count": 19,
   "metadata": {},
   "outputs": [
    {
     "name": "stdout",
     "output_type": "stream",
     "text": [
      "squares=[ 1  4  9 16 25]\n",
      "Using np.square(x)=[ 1  4  9 16 25]\n"
     ]
    }
   ],
   "source": [
    "x = np.array([1, 2, 3, 4, 5])\n",
    "f = lambda x: x ** 2\n",
    "squares = f(x)\n",
    "#print(squares)\n",
    "print(\"squares={}\\nUsing np.square(x)={}\".format(squares, np.square(x)))"
   ]
  },
  {
   "cell_type": "markdown",
   "metadata": {},
   "source": [
    "### Applying sigmoid function (1/(1+e^-z))"
   ]
  },
  {
   "cell_type": "code",
   "execution_count": 20,
   "metadata": {},
   "outputs": [
    {
     "name": "stdout",
     "output_type": "stream",
     "text": [
      "Applying sigmoid function to all the elements:\n",
      "[[0.99966465 0.5        0.73105858 0.99966465]\n",
      " [0.99999386 0.99999989 0.99999917 0.99999917]\n",
      " [0.9999833  0.99330715 0.99999989 0.98201379]]\n"
     ]
    }
   ],
   "source": [
    "a = np.random.randint(20, size=(3,4))\n",
    "a_sigmoid = 1/(1+np.exp(-a))\n",
    "print(\"Applying sigmoid function to all the elements:\\n{}\".format(a_sigmoid))"
   ]
  },
  {
   "cell_type": "markdown",
   "metadata": {},
   "source": [
    "### Return True/False based on some threshold"
   ]
  },
  {
   "cell_type": "code",
   "execution_count": 21,
   "metadata": {},
   "outputs": [
    {
     "name": "stdout",
     "output_type": "stream",
     "text": [
      "[False False  True  True  True]\n"
     ]
    }
   ],
   "source": [
    "x = np.array([1, 2, 3, 4, 5])\n",
    "threshold = 2.9\n",
    "one_zeros = x > threshold\n",
    "print(one_zeros)"
   ]
  },
  {
   "cell_type": "markdown",
   "metadata": {},
   "source": [
    "## Conversion"
   ]
  },
  {
   "cell_type": "code",
   "execution_count": 23,
   "metadata": {},
   "outputs": [
    {
     "name": "stdout",
     "output_type": "stream",
     "text": [
      "To 1D array=[24]\n",
      "To 2D array=[[24]]\n",
      "To 3D array=[[[24]]]\n",
      "To 1D array=[11 22 33 44]\n",
      "To 2D array=[[11 22 33 44]]\n",
      "To 3D array=[[[11]\n",
      "  [22]\n",
      "  [33]\n",
      "  [44]]]\n"
     ]
    }
   ],
   "source": [
    "n = 24\n",
    "print(\"To 1D array={}\".format(np.atleast_1d(n)))\n",
    "print(\"To 2D array={}\".format(np.atleast_2d(n)))\n",
    "print(\"To 3D array={}\".format(np.atleast_3d(n)))\n",
    "\n",
    "n = [11,22,33,44]\n",
    "print(\"To 1D array={}\".format(np.atleast_1d(n)))\n",
    "print(\"To 2D array={}\".format(np.atleast_2d(n)))\n",
    "print(\"To 3D array={}\".format(np.atleast_3d(n)))"
   ]
  },
  {
   "cell_type": "markdown",
   "metadata": {},
   "source": [
    "## Axes"
   ]
  },
  {
   "cell_type": "code",
   "execution_count": 36,
   "metadata": {},
   "outputs": [
    {
     "name": "stdout",
     "output_type": "stream",
     "text": [
      "a=[[1. 1. 1. 1. 1.]\n",
      " [1. 1. 1. 1. 1.]\n",
      " [1. 1. 1. 1. 1.]]\n",
      "\n",
      "b=[[1 9 3 6 3]\n",
      " [3 4 1 8 8]\n",
      " [4 6 3 2 2]]\n",
      "\n",
      "Sum of a, along axis0 = [3. 3. 3. 3. 3.]\n",
      "\n",
      "Sum of a, along axis1 = [5. 5. 5.]\n",
      "\n",
      "Sum of b, along axis0 = [ 8 19  7 16 13]\n",
      "\n",
      "Sum of b, along axis1 = [22 24 17]\n",
      "\n",
      "Concatenate a and b along axis-0=[[1. 1. 1. 1. 1.]\n",
      " [1. 1. 1. 1. 1.]\n",
      " [1. 1. 1. 1. 1.]\n",
      " [1. 9. 3. 6. 3.]\n",
      " [3. 4. 1. 8. 8.]\n",
      " [4. 6. 3. 2. 2.]]\n",
      "\n",
      "Concatenate a and b along axis-1=[[1. 1. 1. 1. 1. 1. 9. 3. 6. 3.]\n",
      " [1. 1. 1. 1. 1. 3. 4. 1. 8. 8.]\n",
      " [1. 1. 1. 1. 1. 4. 6. 3. 2. 2.]]\n"
     ]
    }
   ],
   "source": [
    "# Two dimentional arrays\n",
    "a = np.ones([3,5])\n",
    "b = np.random.randint(1,10,[3,5])\n",
    "print(\"a={}\\n\\nb={}\".format(a,b))\n",
    "\n",
    "# Summation along axis\n",
    "print(\"\\nSum of a, along axis0 = {}\".format(np.sum(a,axis=0)))\n",
    "print(\"\\nSum of a, along axis1 = {}\".format(np.sum(a,axis=1)))\n",
    "print(\"\\nSum of b, along axis0 = {}\".format(np.sum(b,axis=0)))\n",
    "print(\"\\nSum of b, along axis1 = {}\".format(np.sum(b,axis=1)))\n",
    "\n",
    "# Concatenation along axis\n",
    "print(\"\\nConcatenate a and b along axis-0={}\".format(np.concatenate([a,b], axis=0)))\n",
    "print(\"\\nConcatenate a and b along axis-1={}\".format(np.concatenate([a,b], axis=1)))"
   ]
  },
  {
   "cell_type": "code",
   "execution_count": 39,
   "metadata": {},
   "outputs": [
    {
     "name": "stdout",
     "output_type": "stream",
     "text": [
      "a=[[[1. 1.]\n",
      "  [1. 1.]\n",
      "  [1. 1.]\n",
      "  [1. 1.]\n",
      "  [1. 1.]]\n",
      "\n",
      " [[1. 1.]\n",
      "  [1. 1.]\n",
      "  [1. 1.]\n",
      "  [1. 1.]\n",
      "  [1. 1.]]\n",
      "\n",
      " [[1. 1.]\n",
      "  [1. 1.]\n",
      "  [1. 1.]\n",
      "  [1. 1.]\n",
      "  [1. 1.]]]\n",
      "\n",
      "b=[[[7 6]\n",
      "  [7 6]\n",
      "  [3 9]\n",
      "  [8 5]\n",
      "  [5 7]]\n",
      "\n",
      " [[2 2]\n",
      "  [9 8]\n",
      "  [3 3]\n",
      "  [4 6]\n",
      "  [9 7]]\n",
      "\n",
      " [[2 4]\n",
      "  [3 7]\n",
      "  [2 8]\n",
      "  [6 5]\n",
      "  [1 5]]]\n",
      "\n",
      "Sum of a, along axis0 = [[3. 3.]\n",
      " [3. 3.]\n",
      " [3. 3.]\n",
      " [3. 3.]\n",
      " [3. 3.]]\n",
      "\n",
      "Sum of a, along axis1 = [[5. 5.]\n",
      " [5. 5.]\n",
      " [5. 5.]]\n",
      "\n",
      "Sum of a, along axis2 = [[2. 2. 2. 2. 2.]\n",
      " [2. 2. 2. 2. 2.]\n",
      " [2. 2. 2. 2. 2.]]\n",
      "\n",
      "Sum of b, along axis0 = [[11 12]\n",
      " [19 21]\n",
      " [ 8 20]\n",
      " [18 16]\n",
      " [15 19]]\n",
      "\n",
      "Sum of b, along axis1 = [[30 33]\n",
      " [27 26]\n",
      " [14 29]]\n",
      "\n",
      "Sum of b, along axis2 = [[13 13 12 13 12]\n",
      " [ 4 17  6 10 16]\n",
      " [ 6 10 10 11  6]]\n",
      "\n",
      "Concatenate a and b along axis-0=[[[1. 1.]\n",
      "  [1. 1.]\n",
      "  [1. 1.]\n",
      "  [1. 1.]\n",
      "  [1. 1.]]\n",
      "\n",
      " [[1. 1.]\n",
      "  [1. 1.]\n",
      "  [1. 1.]\n",
      "  [1. 1.]\n",
      "  [1. 1.]]\n",
      "\n",
      " [[1. 1.]\n",
      "  [1. 1.]\n",
      "  [1. 1.]\n",
      "  [1. 1.]\n",
      "  [1. 1.]]\n",
      "\n",
      " [[7. 6.]\n",
      "  [7. 6.]\n",
      "  [3. 9.]\n",
      "  [8. 5.]\n",
      "  [5. 7.]]\n",
      "\n",
      " [[2. 2.]\n",
      "  [9. 8.]\n",
      "  [3. 3.]\n",
      "  [4. 6.]\n",
      "  [9. 7.]]\n",
      "\n",
      " [[2. 4.]\n",
      "  [3. 7.]\n",
      "  [2. 8.]\n",
      "  [6. 5.]\n",
      "  [1. 5.]]]\n",
      "\n",
      "Concatenate a and b along axis-1=[[[1. 1.]\n",
      "  [1. 1.]\n",
      "  [1. 1.]\n",
      "  [1. 1.]\n",
      "  [1. 1.]\n",
      "  [7. 6.]\n",
      "  [7. 6.]\n",
      "  [3. 9.]\n",
      "  [8. 5.]\n",
      "  [5. 7.]]\n",
      "\n",
      " [[1. 1.]\n",
      "  [1. 1.]\n",
      "  [1. 1.]\n",
      "  [1. 1.]\n",
      "  [1. 1.]\n",
      "  [2. 2.]\n",
      "  [9. 8.]\n",
      "  [3. 3.]\n",
      "  [4. 6.]\n",
      "  [9. 7.]]\n",
      "\n",
      " [[1. 1.]\n",
      "  [1. 1.]\n",
      "  [1. 1.]\n",
      "  [1. 1.]\n",
      "  [1. 1.]\n",
      "  [2. 4.]\n",
      "  [3. 7.]\n",
      "  [2. 8.]\n",
      "  [6. 5.]\n",
      "  [1. 5.]]]\n",
      "\n",
      "Concatenate a and b along axis-2=[[[1. 1. 7. 6.]\n",
      "  [1. 1. 7. 6.]\n",
      "  [1. 1. 3. 9.]\n",
      "  [1. 1. 8. 5.]\n",
      "  [1. 1. 5. 7.]]\n",
      "\n",
      " [[1. 1. 2. 2.]\n",
      "  [1. 1. 9. 8.]\n",
      "  [1. 1. 3. 3.]\n",
      "  [1. 1. 4. 6.]\n",
      "  [1. 1. 9. 7.]]\n",
      "\n",
      " [[1. 1. 2. 4.]\n",
      "  [1. 1. 3. 7.]\n",
      "  [1. 1. 2. 8.]\n",
      "  [1. 1. 6. 5.]\n",
      "  [1. 1. 1. 5.]]]\n"
     ]
    }
   ],
   "source": [
    "# Three dimentional array\n",
    "a = np.ones([3,5,2])\n",
    "b = np.random.randint(1,10,[3,5,2])\n",
    "print(\"a={}\\n\\nb={}\".format(a,b))\n",
    "\n",
    "# Summation along axis\n",
    "print(\"\\nSum of a, along axis0 = {}\".format(np.sum(a,axis=0)))\n",
    "print(\"\\nSum of a, along axis1 = {}\".format(np.sum(a,axis=1)))\n",
    "print(\"\\nSum of a, along axis2 = {}\".format(np.sum(a,axis=2)))\n",
    "print(\"\\nSum of b, along axis0 = {}\".format(np.sum(b,axis=0)))\n",
    "print(\"\\nSum of b, along axis1 = {}\".format(np.sum(b,axis=1)))\n",
    "print(\"\\nSum of b, along axis2 = {}\".format(np.sum(b,axis=2)))\n",
    "\n",
    "# Concatenation along axis\n",
    "print(\"\\nConcatenate a and b along axis-0={}\".format(np.concatenate([a,b], axis=0)))\n",
    "print(\"\\nConcatenate a and b along axis-1={}\".format(np.concatenate([a,b], axis=1)))\n",
    "print(\"\\nConcatenate a and b along axis-2={}\".format(np.concatenate([a,b], axis=2)))"
   ]
  },
  {
   "cell_type": "markdown",
   "metadata": {},
   "source": [
    "# References\n",
    "\n",
    "* [Numpy axes explained](https://www.sharpsightlabs.com/blog/numpy-axes-explained/)"
   ]
  }
 ],
 "metadata": {
  "kernelspec": {
   "display_name": "Python 3",
   "language": "python",
   "name": "python3"
  },
  "language_info": {
   "codemirror_mode": {
    "name": "ipython",
    "version": 3
   },
   "file_extension": ".py",
   "mimetype": "text/x-python",
   "name": "python",
   "nbconvert_exporter": "python",
   "pygments_lexer": "ipython3",
   "version": "3.7.3"
  }
 },
 "nbformat": 4,
 "nbformat_minor": 2
}
