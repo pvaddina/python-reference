{
 "cells": [
  {
   "cell_type": "code",
   "execution_count": 2,
   "metadata": {},
   "outputs": [],
   "source": [
    "import numpy as np"
   ]
  },
  {
   "cell_type": "markdown",
   "metadata": {},
   "source": [
    "# Initializing Arrays"
   ]
  },
  {
   "cell_type": "markdown",
   "metadata": {},
   "source": [
    "### Manual initialization"
   ]
  },
  {
   "cell_type": "code",
   "execution_count": 3,
   "metadata": {},
   "outputs": [
    {
     "name": "stdout",
     "output_type": "stream",
     "text": [
      "Array a1=[1 2 3 4 5]\n",
      "Array a2=[[ 1  2  3  4  5]\n",
      " [ 6  7  8  9 10]]\n",
      "a2[1]=[ 6  7  8  9 10]\n",
      "a2[1][2]=8\n",
      "Shape of a2=(2, 5)\n"
     ]
    }
   ],
   "source": [
    "a1 = np.array([1,2,3,4,5])\n",
    "a2 = np.array([[1,2,3,4,5],[6,7,8,9,10]])\n",
    "print(\"Array a1={}\".format(a1))\n",
    "print(\"Array a2={}\".format(a2))\n",
    "print(\"a2[1]={}\".format(a2[1]))\n",
    "print(\"a2[1][2]={}\".format(a2[1][2]))\n",
    "print(\"Shape of a2={}\".format(a2.shape))"
   ]
  },
  {
   "cell_type": "markdown",
   "metadata": {},
   "source": [
    "### Standard initialization"
   ]
  },
  {
   "cell_type": "code",
   "execution_count": 4,
   "metadata": {},
   "outputs": [
    {
     "name": "stdout",
     "output_type": "stream",
     "text": [
      "a3=[0. 0. 0. 0. 0. 0. 0. 0. 0. 0.]\n",
      "a4=[[0. 0. 0. 0. 0. 0.]\n",
      " [0. 0. 0. 0. 0. 0.]\n",
      " [0. 0. 0. 0. 0. 0.]\n",
      " [0. 0. 0. 0. 0. 0.]\n",
      " [0. 0. 0. 0. 0. 0.]]\n"
     ]
    }
   ],
   "source": [
    "a3 = np.zeros(10) # Initialize a (1x10) array with zeros\n",
    "print(\"a3={}\".format(a3))\n",
    "a4 = np.zeros((5,6)) # Initialize an (5x6) array with zeros\n",
    "print(\"a4={}\".format(a4))\n",
    "# print(\"np.zeros(1,2)={}\".format( np.zeros(1,2) )) # Error: Data type not understood"
   ]
  },
  {
   "cell_type": "code",
   "execution_count": 5,
   "metadata": {},
   "outputs": [
    {
     "name": "stdout",
     "output_type": "stream",
     "text": [
      "np.ones((6,2))=[[1. 1.]\n",
      " [1. 1.]\n",
      " [1. 1.]\n",
      " [1. 1.]\n",
      " [1. 1.]\n",
      " [1. 1.]]\n"
     ]
    }
   ],
   "source": [
    "print(\"np.ones((6,2))={}\".format(np.ones((6,2))))"
   ]
  },
  {
   "cell_type": "code",
   "execution_count": 6,
   "metadata": {},
   "outputs": [
    {
     "name": "stdout",
     "output_type": "stream",
     "text": [
      "np.full((6,2), 99)=[[99 99]\n",
      " [99 99]\n",
      " [99 99]\n",
      " [99 99]\n",
      " [99 99]\n",
      " [99 99]]\n"
     ]
    }
   ],
   "source": [
    "print(\"np.full((6,2), 99)={}\".format( np.full((6,2), 99) ))"
   ]
  },
  {
   "cell_type": "code",
   "execution_count": 34,
   "metadata": {},
   "outputs": [
    {
     "name": "stdout",
     "output_type": "stream",
     "text": [
      "np.array((4,5), dtype=np.int)=[4 5]\n"
     ]
    }
   ],
   "source": [
    "print(\"np.array((4,5), dtype=np.int)={}\".format(  np.array((4,5), dtype=np.int)  ))"
   ]
  },
  {
   "cell_type": "code",
   "execution_count": 8,
   "metadata": {},
   "outputs": [
    {
     "name": "stdout",
     "output_type": "stream",
     "text": [
      "a4_5 = [[0. 0. 0.]\n",
      " [0. 0. 0.]]\n",
      "a4_6 = [[0. 0. 0. 0. 0. 0.]\n",
      " [0. 0. 0. 0. 0. 0.]\n",
      " [0. 0. 0. 0. 0. 0.]\n",
      " [0. 0. 0. 0. 0. 0.]\n",
      " [0. 0. 0. 0. 0. 0.]]\n"
     ]
    }
   ],
   "source": [
    "a4_5,a4_6 = np.zeros((2,3)), np.zeros((5,6)) # Initialize multiple matrices at the same time\n",
    "print (\"a4_5 = {}\".format(a4_5))\n",
    "print (\"a4_6 = {}\".format(a4_6))"
   ]
  },
  {
   "cell_type": "code",
   "execution_count": 35,
   "metadata": {},
   "outputs": [
    {
     "name": "stdout",
     "output_type": "stream",
     "text": [
      "Between 1 and 20: np.linspace(1,20,17):[ 1.      2.1875  3.375   4.5625  5.75    6.9375  8.125   9.3125 10.5\n",
      " 11.6875 12.875  14.0625 15.25   16.4375 17.625  18.8125 20.    ]\n",
      "\n",
      "Between 2 and 20: np.linspace(2,20,10):[ 2.  4.  6.  8. 10. 12. 14. 16. 18. 20.]\n",
      "\n",
      "Between 0 and 20: np.linspace(0,20,10):[ 0.          2.22222222  4.44444444  6.66666667  8.88888889 11.11111111\n",
      " 13.33333333 15.55555556 17.77777778 20.        ]\n",
      "\n",
      "Between 1 and 5: np.linspace(1,5,5):[1. 2. 3. 4. 5.]\n",
      "\n",
      "Between 0 and 5: np.linspace(0,5,6):[0. 1. 2. 3. 4. 5.]\n"
     ]
    }
   ],
   "source": [
    "print(\"Between 1 and 20: np.linspace(1,20,17):{}\".format(np.linspace(1,20,17)))\n",
    "print(\"\\nBetween 2 and 20: np.linspace(2,20,10):{}\".format(np.linspace(2,20,10)))\n",
    "print(\"\\nBetween 0 and 20: np.linspace(0,20,10):{}\".format(np.linspace(0,20,10)))\n",
    "print(\"\\nBetween 1 and 5: np.linspace(1,5,5):{}\".format(np.linspace(1,5,5)))\n",
    "print(\"\\nBetween 0 and 5: np.linspace(0,5,6):{}\".format(np.linspace(0,5,6)))"
   ]
  },
  {
   "cell_type": "code",
   "execution_count": 36,
   "metadata": {},
   "outputs": [
    {
     "name": "stdout",
     "output_type": "stream",
     "text": [
      "I1.I20=[[1. 0. 0. 0.]\n",
      " [0. 1. 0. 0.]\n",
      " [0. 0. 1. 0.]\n",
      " [0. 0. 0. 1.]]\n",
      "\n"
     ]
    }
   ],
   "source": [
    "I1 = np.eye(4)\n",
    "I2 = np.eye(4)\n",
    "print(\"I1.I20={}\\n\".format(np.dot(I1,I2.T)))"
   ]
  },
  {
   "cell_type": "markdown",
   "metadata": {},
   "source": [
    "### Random initialization"
   ]
  },
  {
   "cell_type": "code",
   "execution_count": 9,
   "metadata": {},
   "outputs": [
    {
     "name": "stdout",
     "output_type": "stream",
     "text": [
      "np.random.randn(2,3)=\n",
      "[[ 1.14364583 -1.53404669  0.91495228]\n",
      " [-1.56262189  0.98603826  1.49451048]]\n",
      "\n",
      "np.random.rand(2,3)=\n",
      "[[0.40083004 0.41031358 0.53178205]\n",
      " [0.70258315 0.11616773 0.88052436]]\n",
      "\n",
      "np.random.randint(23, size=(5,3))=\n",
      "[[13 11 16]\n",
      " [12  8  8]\n",
      " [12  4 20]\n",
      " [ 3  8  4]\n",
      " [16  9  2]]\n",
      "\n",
      "np.random.randint(10, 437, 23)=\n",
      "[344 314  71 119 351  90 338  49 148  19  91 103 178  31 309 295 182 282\n",
      " 364 142 431 361  21]\n",
      "\n",
      "\n",
      "np.random.random((5,5))=\n",
      "[[0.92718077 0.35599503 0.89546787 0.13135608 0.14024419]\n",
      " [0.96491096 0.68532001 0.33602022 0.04983632 0.25250813]\n",
      " [0.48754954 0.58177528 0.25492676 0.07224404 0.34344737]\n",
      " [0.56855175 0.85958001 0.52225965 0.04273554 0.88050757]\n",
      " [0.72871826 0.05998125 0.49456224 0.61418167 0.83104425]]\n"
     ]
    }
   ],
   "source": [
    "print(\"np.random.randn(2,3)=\\n{}\\n\".format(np.random.randn(2,3) ))\n",
    "print(\"np.random.rand(2,3)=\\n{}\\n\".format(np.random.rand(2,3) ))\n",
    "print(\"np.random.randint(23, size=(5,3))=\\n{}\\n\".format(np.random.randint(23, size=(5,3)) )) # Get a 5x3 matrix randomly with integer values from (1-23)\n",
    "print(\"np.random.randint(10, 437, 23)=\\n{}\\n\".format(np.random.randint(10, 437, 23))) # Get a 5x3 matrix randomly with integer values from (1-23)\n",
    "print(\"\\nnp.random.random((5,5))=\\n{}\".format(np.random.random((5,5))))"
   ]
  },
  {
   "cell_type": "markdown",
   "metadata": {},
   "source": [
    "# Modification operations\n",
    "\n",
    "## Insert new elements"
   ]
  },
  {
   "cell_type": "code",
   "execution_count": 10,
   "metadata": {},
   "outputs": [
    {
     "name": "stdout",
     "output_type": "stream",
     "text": [
      "[  8   4   5   6   2   5   1   5   5   7 988]\n"
     ]
    }
   ],
   "source": [
    "d = np.random.randint(1,10,size=10)\n",
    "d = np.append(d,[988]) # Append an element\n",
    "print(d)"
   ]
  },
  {
   "cell_type": "markdown",
   "metadata": {},
   "source": [
    "## Reshape"
   ]
  },
  {
   "cell_type": "code",
   "execution_count": 16,
   "metadata": {},
   "outputs": [
    {
     "name": "stdout",
     "output_type": "stream",
     "text": [
      "a(2, 2, 3)=\n",
      "[[[2 2 4]\n",
      "  [9 8 9]]\n",
      "\n",
      " [[3 4 2]\n",
      "  [8 7 4]]]\n",
      "\n",
      "a reshaped to (4, 3)=\n",
      "[[2 2 4]\n",
      " [9 8 9]\n",
      " [3 4 2]\n",
      " [8 7 4]]\n",
      "\n",
      "a reshaped to (3, 4)=\n",
      "[[2 2 4 9]\n",
      " [8 9 3 4]\n",
      " [2 8 7 4]]\n",
      "\n",
      "a reshaped to (2, 6)=\n",
      "[[2 2 4 9 8 9]\n",
      " [3 4 2 8 7 4]]\n",
      "\n",
      "a reshaped to (1, 12)=\n",
      "[[2 2 4 9 8 9 3 4 2 8 7 4]]\n",
      "\n",
      "a_1d reshaped to (2, 2, 3)=\n",
      "[[[2 2 4]\n",
      "  [9 8 9]]\n",
      "\n",
      " [[3 4 2]\n",
      "  [8 7 4]]]\n"
     ]
    }
   ],
   "source": [
    "a = np.random.randint(low=2, high=10, size=(2, 2, 3))  # low, high give the range within which the random values are generated\n",
    "print(\"a{}=\\n{}\".format(a.shape, a))\n",
    "print(\"\\na reshaped to {}=\\n{}\".format(a.reshape((4,3)).shape, a.reshape((4,3))))\n",
    "print(\"\\na reshaped to {}=\\n{}\".format(a.reshape((3,4)).shape, a.reshape((3,4))))\n",
    "print(\"\\na reshaped to {}=\\n{}\".format(a.reshape((2,6)).shape, a.reshape((2,6))))\n",
    "a_1d = a.reshape((1,12))\n",
    "print(\"\\na reshaped to {}=\\n{}\".format(a_1d.shape, a_1d))\n",
    "print(\"\\na_1d reshaped to {}=\\n{}\".format(a_1d.reshape((2,2,3)).shape, a_1d.reshape((2,2,3))))"
   ]
  },
  {
   "cell_type": "code",
   "execution_count": 17,
   "metadata": {},
   "outputs": [
    {
     "name": "stdout",
     "output_type": "stream",
     "text": [
      "Shape of a17=(2, 4)\n",
      "a17=\n",
      "[[0.41030305 0.18330038 0.04904961 0.18589634]\n",
      " [0.05515649 0.18797238 0.90479149 0.75143039]]\n",
      "\n",
      "Shape of a17_reshape=(1, 8)\n",
      "a17_reshape=\n",
      "[[0.41030305 0.18330038 0.04904961 0.18589634 0.05515649 0.18797238\n",
      "  0.90479149 0.75143039]]\n",
      "\n",
      "Shape of a17_reshape2=(8, 1)\n",
      "a17_reshape2=\n",
      "[[0.41030305]\n",
      " [0.18330038]\n",
      " [0.04904961]\n",
      " [0.18589634]\n",
      " [0.05515649]\n",
      " [0.18797238]\n",
      " [0.90479149]\n",
      " [0.75143039]]\n",
      "\n",
      "Shape of a17_reshape3=(2, 4)\n",
      "a17_reshape3=\n",
      "[[0.41030305 0.18330038 0.04904961 0.18589634]\n",
      " [0.05515649 0.18797238 0.90479149 0.75143039]]\n",
      "\n"
     ]
    }
   ],
   "source": [
    "a17 = np.random.random((2,4))\n",
    "print(\"Shape of a17={}\".format(a17.shape))\n",
    "print(\"a17=\\n{}\\n\".format(a17))\n",
    "\n",
    "a17_reshape = a17.reshape((1,8))\n",
    "print(\"Shape of a17_reshape={}\".format(a17_reshape.shape))\n",
    "print(\"a17_reshape=\\n{}\\n\".format(a17_reshape))\n",
    "\n",
    "a17_reshape2 = a17.reshape((8,1))\n",
    "print(\"Shape of a17_reshape2={}\".format(a17_reshape2.shape))\n",
    "print(\"a17_reshape2=\\n{}\\n\".format(a17_reshape2))\n",
    "\n",
    "a17_reshape3 = a17.reshape((-1,4)) # Infer the first dimension of a17 automatically (-1)\n",
    "print(\"Shape of a17_reshape3={}\".format(a17_reshape3.shape))\n",
    "print(\"a17_reshape3=\\n{}\\n\".format(a17_reshape3))"
   ]
  },
  {
   "cell_type": "markdown",
   "metadata": {},
   "source": [
    "### Convert to other shapes using standard conversion functions"
   ]
  },
  {
   "cell_type": "code",
   "execution_count": 38,
   "metadata": {},
   "outputs": [
    {
     "name": "stdout",
     "output_type": "stream",
     "text": [
      "To 1D array=[24]\n",
      "To 2D array=[[24]]\n",
      "To 3D array=[[[24]]]\n",
      "To 1D array=[11 22 33 44]\n",
      "To 2D array=[[11 22 33 44]]\n",
      "To 3D array=[[[11]\n",
      "  [22]\n",
      "  [33]\n",
      "  [44]]]\n"
     ]
    }
   ],
   "source": [
    "n = 24\n",
    "print(\"To 1D array={}\".format(np.atleast_1d(n)))\n",
    "print(\"To 2D array={}\".format(np.atleast_2d(n)))\n",
    "print(\"To 3D array={}\".format(np.atleast_3d(n)))\n",
    "\n",
    "n = [11,22,33,44]\n",
    "print(\"To 1D array={}\".format(np.atleast_1d(n)))\n",
    "print(\"To 2D array={}\".format(np.atleast_2d(n)))\n",
    "print(\"To 3D array={}\".format(np.atleast_3d(n)))"
   ]
  },
  {
   "cell_type": "markdown",
   "metadata": {},
   "source": [
    "## Squeeze"
   ]
  },
  {
   "cell_type": "code",
   "execution_count": 18,
   "metadata": {},
   "outputs": [
    {
     "name": "stdout",
     "output_type": "stream",
     "text": [
      "shape of x=(1, 3, 1); x[0][0]=[437], x[0][1]=[233], x[0][2]=[99]\n",
      "shape of x_sq=(3,); x_sq[0]=437, x_sq[1]=233, x_sq[2]=99\n"
     ]
    }
   ],
   "source": [
    "x = np.array([[[437], [233], [99]]])\n",
    "print(\"shape of x={}; x[0][0]={}, x[0][1]={}, x[0][2]={}\".format(x.shape, x[0][0], x[0][1], x[0][2]))\n",
    "x_sq = np.squeeze(x)\n",
    "print(\"shape of x_sq={}; x_sq[0]={}, x_sq[1]={}, x_sq[2]={}\".format(x_sq.shape, x_sq[0], x_sq[1], x_sq[2]))"
   ]
  },
  {
   "cell_type": "markdown",
   "metadata": {},
   "source": [
    "## Slicing\n",
    "\n",
    "Syntax: x[start:stop:step]\n",
    "\n",
    "If any of these are unspecified, they default to the values \n",
    "* start= 0\n",
    "* stop = size of dimension\n",
    "* step = 1"
   ]
  },
  {
   "cell_type": "code",
   "execution_count": 19,
   "metadata": {},
   "outputs": [
    {
     "name": "stdout",
     "output_type": "stream",
     "text": [
      "x=[[3 5 5 7 3 6]\n",
      " [3 7 8 5 3 6]\n",
      " [4 7 1 3 7 8]\n",
      " [7 2 5 5 3 2]\n",
      " [6 6 4 8 3 1]\n",
      " [4 8 2 7 0 7]\n",
      " [7 5 2 0 7 3]\n",
      " [5 1 6 1 3 4]\n",
      " [5 0 8 5 5 2]\n",
      " [8 7 6 3 4 1]]\n",
      "\n",
      "x[1::4]=\n",
      "[[3 7 8 5 3 6]\n",
      " [4 8 2 7 0 7]\n",
      " [8 7 6 3 4 1]]\n",
      "\n",
      "x[1::2]=\n",
      "[[3 7 8 5 3 6]\n",
      " [7 2 5 5 3 2]\n",
      " [4 8 2 7 0 7]\n",
      " [5 1 6 1 3 4]\n",
      " [8 7 6 3 4 1]]\n",
      "\n",
      "x[1:2:4]=\n",
      "[[3 7 8 5 3 6]]\n",
      "\n",
      "x[1:4:2]=\n",
      "[[3 7 8 5 3 6]\n",
      " [7 2 5 5 3 2]]\n"
     ]
    }
   ],
   "source": [
    "# Example-1\n",
    "np.random.seed(67)\n",
    "x = np.random.randint(9, size=(10,6))\n",
    "print(\"x={}\".format(x))\n",
    "print(\"\\nx[1::4]=\\n{}\".format(x[1::4]))\n",
    "print(\"\\nx[1::2]=\\n{}\".format(x[1::2]))\n",
    "print(\"\\nx[1:2:4]=\\n{}\".format(x[1:2:4]))\n",
    "print(\"\\nx[1:4:2]=\\n{}\".format(x[1:4:2]))"
   ]
  },
  {
   "cell_type": "code",
   "execution_count": 20,
   "metadata": {},
   "outputs": [
    {
     "name": "stdout",
     "output_type": "stream",
     "text": [
      "a=[[ 1  2  3]\n",
      " [ 4  5  6]\n",
      " [ 7  8  9]\n",
      " [10 11 12]]\n",
      "b=[[13 14 15]\n",
      " [16 17 18]\n",
      " [19 20 21]\n",
      " [22 23 24]]\n",
      "\n",
      "First 2-rows and 3-columns of a=[[1 2 3]\n",
      " [4 5 6]]\n",
      "First 2-rows and 2-columns of a=[[1 2]\n",
      " [4 5]]\n",
      "Last 2-rows and last 2-columns of a=[[ 8  9]\n",
      " [11 12]]\n",
      "Last 2-rows and last 2-columns of a=[[ 8  9]\n",
      " [11 12]]\n",
      "Middle of matrix a=[[5 6]\n",
      " [8 9]]\n"
     ]
    }
   ],
   "source": [
    "a = np.array([range(v,v+3) for v in [1, 4, 7, 10]])\n",
    "b = np.array([range(v,v+3) for v in [13,16, 19, 22]])\n",
    "print(\"a={}\\nb={}\\n\".format(a,b))\n",
    "print(\"First 2-rows and 3-columns of a={}\".format(a[:2,:3]))\n",
    "print(\"First 2-rows and 2-columns of a={}\".format(a[:2,:2]))\n",
    "print(\"Last 2-rows and last 2-columns of a={}\".format(a[2:4:,1:3:]))\n",
    "print(\"Last 2-rows and last 2-columns of a={}\".format(a[2::,1::]))\n",
    "print(\"Middle of matrix a={}\".format(a[1:3,1:3]))"
   ]
  },
  {
   "cell_type": "code",
   "execution_count": 24,
   "metadata": {},
   "outputs": [
    {
     "name": "stdout",
     "output_type": "stream",
     "text": [
      "To 1D array=[24]\n",
      "To 2D array=[[24]]\n",
      "To 3D array=[[[24]]]\n",
      "To 1D array=[11 22 33 44]\n",
      "To 2D array=[[11 22 33 44]]\n",
      "To 3D array=[[[11]\n",
      "  [22]\n",
      "  [33]\n",
      "  [44]]]\n"
     ]
    }
   ],
   "source": []
  },
  {
   "cell_type": "markdown",
   "metadata": {},
   "source": [
    "## Axes\n",
    "### Summation"
   ]
  },
  {
   "cell_type": "code",
   "execution_count": 25,
   "metadata": {},
   "outputs": [
    {
     "name": "stdout",
     "output_type": "stream",
     "text": [
      "a=[[1. 1. 1. 1. 1.]\n",
      " [1. 1. 1. 1. 1.]\n",
      " [1. 1. 1. 1. 1.]]\n",
      "\n",
      "b=[[9 3 6 2 8]\n",
      " [3 4 6 2 7]\n",
      " [7 1 5 5 4]]\n",
      "\n",
      "Sum of a, along axis0 = [3. 3. 3. 3. 3.]\n",
      "\n",
      "Sum of a, along axis1 = [5. 5. 5.]\n",
      "\n",
      "Sum of b, along axis0 = [19  8 17  9 19]\n",
      "\n",
      "Sum of b, along axis1 = [28 22 22]\n",
      "\n",
      "Concatenate a and b along axis-0=[[1. 1. 1. 1. 1.]\n",
      " [1. 1. 1. 1. 1.]\n",
      " [1. 1. 1. 1. 1.]\n",
      " [9. 3. 6. 2. 8.]\n",
      " [3. 4. 6. 2. 7.]\n",
      " [7. 1. 5. 5. 4.]]\n",
      "\n",
      "Concatenate a and b along axis-1=[[1. 1. 1. 1. 1. 9. 3. 6. 2. 8.]\n",
      " [1. 1. 1. 1. 1. 3. 4. 6. 2. 7.]\n",
      " [1. 1. 1. 1. 1. 7. 1. 5. 5. 4.]]\n"
     ]
    }
   ],
   "source": [
    "# Two dimentional arrays\n",
    "a = np.ones([3,5])\n",
    "b = np.random.randint(1,10,[3,5])\n",
    "print(\"a={}\\n\\nb={}\".format(a,b))\n",
    "\n",
    "# Summation along axis\n",
    "print(\"\\nSum of a, along axis0 = {}\".format(np.sum(a,axis=0)))\n",
    "print(\"\\nSum of a, along axis1 = {}\".format(np.sum(a,axis=1)))\n",
    "print(\"\\nSum of b, along axis0 = {}\".format(np.sum(b,axis=0)))\n",
    "print(\"\\nSum of b, along axis1 = {}\".format(np.sum(b,axis=1)))\n",
    "\n",
    "# Concatenation along axis\n",
    "print(\"\\nConcatenate a and b along axis-0={}\".format(np.concatenate([a,b], axis=0)))\n",
    "print(\"\\nConcatenate a and b along axis-1={}\".format(np.concatenate([a,b], axis=1)))"
   ]
  },
  {
   "cell_type": "code",
   "execution_count": 26,
   "metadata": {},
   "outputs": [
    {
     "name": "stdout",
     "output_type": "stream",
     "text": [
      "a=[[[1. 1.]\n",
      "  [1. 1.]\n",
      "  [1. 1.]\n",
      "  [1. 1.]\n",
      "  [1. 1.]]\n",
      "\n",
      " [[1. 1.]\n",
      "  [1. 1.]\n",
      "  [1. 1.]\n",
      "  [1. 1.]\n",
      "  [1. 1.]]\n",
      "\n",
      " [[1. 1.]\n",
      "  [1. 1.]\n",
      "  [1. 1.]\n",
      "  [1. 1.]\n",
      "  [1. 1.]]]\n",
      "\n",
      "b=[[[5 1]\n",
      "  [2 6]\n",
      "  [9 4]\n",
      "  [9 2]\n",
      "  [1 8]]\n",
      "\n",
      " [[5 9]\n",
      "  [1 5]\n",
      "  [3 1]\n",
      "  [9 3]\n",
      "  [6 3]]\n",
      "\n",
      " [[3 4]\n",
      "  [1 8]\n",
      "  [8 4]\n",
      "  [6 3]\n",
      "  [2 2]]]\n",
      "\n",
      "Sum of a, along axis0 = [[3. 3.]\n",
      " [3. 3.]\n",
      " [3. 3.]\n",
      " [3. 3.]\n",
      " [3. 3.]]\n",
      "\n",
      "Sum of a, along axis1 = [[5. 5.]\n",
      " [5. 5.]\n",
      " [5. 5.]]\n",
      "\n",
      "Sum of a, along axis2 = [[2. 2. 2. 2. 2.]\n",
      " [2. 2. 2. 2. 2.]\n",
      " [2. 2. 2. 2. 2.]]\n",
      "\n",
      "Sum of b, along axis0 = [[13 14]\n",
      " [ 4 19]\n",
      " [20  9]\n",
      " [24  8]\n",
      " [ 9 13]]\n",
      "\n",
      "Sum of b, along axis1 = [[26 21]\n",
      " [24 21]\n",
      " [20 21]]\n",
      "\n",
      "Sum of b, along axis2 = [[ 6  8 13 11  9]\n",
      " [14  6  4 12  9]\n",
      " [ 7  9 12  9  4]]\n",
      "\n",
      "Concatenate a and b along axis-0=[[[1. 1.]\n",
      "  [1. 1.]\n",
      "  [1. 1.]\n",
      "  [1. 1.]\n",
      "  [1. 1.]]\n",
      "\n",
      " [[1. 1.]\n",
      "  [1. 1.]\n",
      "  [1. 1.]\n",
      "  [1. 1.]\n",
      "  [1. 1.]]\n",
      "\n",
      " [[1. 1.]\n",
      "  [1. 1.]\n",
      "  [1. 1.]\n",
      "  [1. 1.]\n",
      "  [1. 1.]]\n",
      "\n",
      " [[5. 1.]\n",
      "  [2. 6.]\n",
      "  [9. 4.]\n",
      "  [9. 2.]\n",
      "  [1. 8.]]\n",
      "\n",
      " [[5. 9.]\n",
      "  [1. 5.]\n",
      "  [3. 1.]\n",
      "  [9. 3.]\n",
      "  [6. 3.]]\n",
      "\n",
      " [[3. 4.]\n",
      "  [1. 8.]\n",
      "  [8. 4.]\n",
      "  [6. 3.]\n",
      "  [2. 2.]]]\n",
      "\n",
      "Concatenate a and b along axis-1=[[[1. 1.]\n",
      "  [1. 1.]\n",
      "  [1. 1.]\n",
      "  [1. 1.]\n",
      "  [1. 1.]\n",
      "  [5. 1.]\n",
      "  [2. 6.]\n",
      "  [9. 4.]\n",
      "  [9. 2.]\n",
      "  [1. 8.]]\n",
      "\n",
      " [[1. 1.]\n",
      "  [1. 1.]\n",
      "  [1. 1.]\n",
      "  [1. 1.]\n",
      "  [1. 1.]\n",
      "  [5. 9.]\n",
      "  [1. 5.]\n",
      "  [3. 1.]\n",
      "  [9. 3.]\n",
      "  [6. 3.]]\n",
      "\n",
      " [[1. 1.]\n",
      "  [1. 1.]\n",
      "  [1. 1.]\n",
      "  [1. 1.]\n",
      "  [1. 1.]\n",
      "  [3. 4.]\n",
      "  [1. 8.]\n",
      "  [8. 4.]\n",
      "  [6. 3.]\n",
      "  [2. 2.]]]\n",
      "\n",
      "Concatenate a and b along axis-2=[[[1. 1. 5. 1.]\n",
      "  [1. 1. 2. 6.]\n",
      "  [1. 1. 9. 4.]\n",
      "  [1. 1. 9. 2.]\n",
      "  [1. 1. 1. 8.]]\n",
      "\n",
      " [[1. 1. 5. 9.]\n",
      "  [1. 1. 1. 5.]\n",
      "  [1. 1. 3. 1.]\n",
      "  [1. 1. 9. 3.]\n",
      "  [1. 1. 6. 3.]]\n",
      "\n",
      " [[1. 1. 3. 4.]\n",
      "  [1. 1. 1. 8.]\n",
      "  [1. 1. 8. 4.]\n",
      "  [1. 1. 6. 3.]\n",
      "  [1. 1. 2. 2.]]]\n"
     ]
    }
   ],
   "source": [
    "# Three dimentional array\n",
    "a = np.ones([3,5,2])\n",
    "b = np.random.randint(1,10,[3,5,2])\n",
    "print(\"a={}\\n\\nb={}\".format(a,b))\n",
    "\n",
    "# Summation along axis\n",
    "print(\"\\nSum of a, along axis0 = {}\".format(np.sum(a,axis=0)))\n",
    "print(\"\\nSum of a, along axis1 = {}\".format(np.sum(a,axis=1)))\n",
    "print(\"\\nSum of a, along axis2 = {}\".format(np.sum(a,axis=2)))\n",
    "print(\"\\nSum of b, along axis0 = {}\".format(np.sum(b,axis=0)))\n",
    "print(\"\\nSum of b, along axis1 = {}\".format(np.sum(b,axis=1)))\n",
    "print(\"\\nSum of b, along axis2 = {}\".format(np.sum(b,axis=2)))\n",
    "\n",
    "# Concatenation along axis\n",
    "print(\"\\nConcatenate a and b along axis-0={}\".format(np.concatenate([a,b], axis=0)))\n",
    "print(\"\\nConcatenate a and b along axis-1={}\".format(np.concatenate([a,b], axis=1)))\n",
    "print(\"\\nConcatenate a and b along axis-2={}\".format(np.concatenate([a,b], axis=2)))\n",
    "\n",
    "# References\n",
    "\n",
    "* [Numpy axes explained](https://www.sharpsightlabs.com/blog/numpy-axes-explained/)"
   ]
  },
  {
   "cell_type": "markdown",
   "metadata": {},
   "source": [
    "# Array (standard) operations"
   ]
  },
  {
   "cell_type": "code",
   "execution_count": 37,
   "metadata": {
    "scrolled": true
   },
   "outputs": [
    {
     "name": "stdout",
     "output_type": "stream",
     "text": [
      "a5(exp of array a4)=\n",
      "[[1.5149652  1.77564105 0.33782228]\n",
      " [0.90799112 0.26773996 1.19079353]]\n",
      "\n",
      "a5_1(log of array a5)=\n",
      "[[ 0.41539247  0.57416151 -1.08523531]\n",
      " [-0.09652069 -1.31773906  0.17461992]]\n",
      "\n",
      "Operation 1-a5_1=\n",
      "[[0.58460753 0.42583849 2.08523531]\n",
      " [1.09652069 2.31773906 0.82538008]]\n",
      "\n",
      "abs of a5=\n",
      "[[1.5149652  1.77564105 0.33782228]\n",
      " [0.90799112 0.26773996 1.19079353]]\n"
     ]
    }
   ],
   "source": [
    "a4 = np.random.randn(2,3)\n",
    "a5 = np.exp(a4) # Create a new array, same rank as a4_3, whose values are exponential of corresponding values of a4_3\n",
    "print(\"a5(exp of array a4)=\\n{}\\n\".format(a5))\n",
    "\n",
    "a5_1 = np.log(a5) # Create a new array, same rank as a5, whose values are logarithmic to the values of a5\n",
    "print(\"a5_1(log of array a5)=\\n{}\".format(a5_1))\n",
    "print(\"\\nOperation 1-a5_1=\\n{}\\n\".format(1-a5_1))\n",
    "\n",
    "a5_2 = np.array(abs(a5)) \n",
    "print(\"abs of a5=\\n{}\".format(a5_2))"
   ]
  },
  {
   "cell_type": "markdown",
   "metadata": {},
   "source": [
    "## Copying an array into another"
   ]
  },
  {
   "cell_type": "code",
   "execution_count": 13,
   "metadata": {
    "scrolled": true
   },
   "outputs": [
    {
     "name": "stdout",
     "output_type": "stream",
     "text": [
      "a1=\n",
      "[[-1.12034375 -1.04453515  1.29286174]\n",
      " [ 0.20276721 -0.56928888 -0.68364355]]\n",
      "Operation divide by 2 of matrix a2=\n",
      "[[-0.56017188 -0.52226757  0.64643087]\n",
      " [ 0.10138361 -0.28464444 -0.34182178]]\n"
     ]
    }
   ],
   "source": [
    "a1 = np.random.randn(2,3)\n",
    "print(\"a1=\\n{}\".format(a1))\n",
    "a2 = a1.copy() # Copy an array\n",
    "a2 /= 2\n",
    "print(\"Operation divide by 2 of matrix a2=\\n{}\".format(a2))"
   ]
  },
  {
   "cell_type": "markdown",
   "metadata": {},
   "source": [
    "## Elementwise mathematical operations"
   ]
  },
  {
   "cell_type": "code",
   "execution_count": 14,
   "metadata": {},
   "outputs": [
    {
     "name": "stdout",
     "output_type": "stream",
     "text": [
      "a5_2=\n",
      "[[38 10 38]\n",
      " [24 27 22]]\n",
      "\n",
      "a5_3=\n",
      "[[1. 1. 1.]\n",
      " [1. 1. 1.]]\n",
      "\n",
      "Addition operations\n",
      "\n",
      "a5_2+a5_3=\n",
      "[[39. 11. 39.]\n",
      " [25. 28. 23.]]\n",
      "\n",
      "22+a5_3=\n",
      "[[23. 23. 23.]\n",
      " [23. 23. 23.]]\n",
      "\n",
      "a5_3+22=\n",
      "[[23. 23. 23.]\n",
      " [23. 23. 23.]]\n",
      "\n",
      "Subtraction operations\n",
      "\n",
      "a5_2-a5_3=\n",
      "[[37.  9. 37.]\n",
      " [23. 26. 21.]]\n",
      "\n",
      "Multiplication operations\n",
      "\n",
      "a5_2*a5_3=\n",
      "[[38. 10. 38.]\n",
      " [24. 27. 22.]]\n",
      "\n",
      "437*a5_3=\n",
      "[[437. 437. 437.]\n",
      " [437. 437. 437.]]\n",
      "\n",
      "a5_3*437=\n",
      "[[437. 437. 437.]\n",
      " [437. 437. 437.]]\n",
      "\n",
      "Division operations\n",
      "\n",
      "a5_2/a5_3=\n",
      "[[38. 10. 38.]\n",
      " [24. 27. 22.]]\n",
      "\n",
      "Miscelleneous operations\n",
      "\n",
      "elementwise (a5_2)^2=\n",
      "[[1444  100 1444]\n",
      " [ 576  729  484]]\n",
      "\n",
      "sqrt(a5_8)=\n",
      "[[1444  100 1444]\n",
      " [ 576  729  484]]\n"
     ]
    }
   ],
   "source": [
    "# Note that all the operations below are element wise. \n",
    "\n",
    "a5_2 = np.random.randint(45,size=(2,3))\n",
    "a5_3 = np.ones((2,3))\n",
    "print(\"a5_2=\\n{}\\n\\na5_3=\\n{}\\n\".format(a5_2, a5_3))\n",
    "\n",
    "# Addition\n",
    "print(\"Addition operations\\n\")\n",
    "a5_4 = np.add(a5_2,a5_3)\n",
    "print(\"a5_2+a5_3=\\n{}\\n\".format(a5_4))\n",
    "a5_4_1 = np.add(22,a5_3)\n",
    "print(\"22+a5_3=\\n{}\\n\".format(a5_4_1))\n",
    "a5_4_2 = np.add(a5_3,22)\n",
    "print(\"a5_3+22=\\n{}\\n\".format(a5_4_2))\n",
    "\n",
    "print(\"Subtraction operations\\n\")\n",
    "a5_5 = np.subtract(a5_2,a5_3)\n",
    "print(\"a5_2-a5_3=\\n{}\\n\".format(a5_5))\n",
    "\n",
    "print(\"Multiplication operations\\n\")\n",
    "a5_6 = np.multiply(a5_2,a5_3) \n",
    "print(\"a5_2*a5_3=\\n{}\\n\".format(a5_6))\n",
    "a5_6_1 = np.multiply(437,a5_3) \n",
    "print(\"437*a5_3=\\n{}\\n\".format(a5_6_1))\n",
    "a5_6_2 = np.multiply(a5_3,437) \n",
    "print(\"a5_3*437=\\n{}\\n\".format(a5_6_2))\n",
    "\n",
    "print(\"Division operations\\n\")\n",
    "a5_7 = np.divide(a5_2,a5_3)\n",
    "print(\"a5_2/a5_3=\\n{}\\n\".format(a5_7))\n",
    "\n",
    "print(\"Miscelleneous operations\\n\")\n",
    "a5_8 = np.square(a5_2)\n",
    "print(\"elementwise (a5_2)^2=\\n{}\".format(a5_8))\n",
    "\n",
    "a5_9 = np.sqrt(a5_8)\n",
    "print(\"\\nsqrt(a5_8)=\\n{}\".format(a5_8))"
   ]
  },
  {
   "cell_type": "markdown",
   "metadata": {},
   "source": [
    "## Matrix operations"
   ]
  },
  {
   "cell_type": "code",
   "execution_count": 15,
   "metadata": {},
   "outputs": [
    {
     "name": "stdout",
     "output_type": "stream",
     "text": [
      "a14=\n",
      "[[1 1 1]\n",
      " [2 2 2]]\n",
      "\n",
      "a15=\n",
      "[[1]\n",
      " [2]\n",
      " [3]]\n",
      "\n",
      "np.dot operation of matrix shapes (2, 3) and (3, 1) is a (2, 1) shaped matrix = \n",
      "[[ 6]\n",
      " [12]]\n"
     ]
    }
   ],
   "source": [
    "a14 = np.array([[1,1,1], [2,2,2]])\n",
    "a15 = np.array([[1],[2],[3]])\n",
    "print(\"a14=\\n{}\\n\\na15=\\n{}\\n\".format(a14, a15))\n",
    "print(\"np.dot operation of matrix shapes {} and {} is a {} shaped matrix = \\n{}\".format(a14.shape, a15.shape, np.dot(a14,a15).shape, np.dot(a14,a15)))"
   ]
  },
  {
   "cell_type": "markdown",
   "metadata": {},
   "source": [
    "## Applying functions on all elements\n",
    "### Square each item in the array"
   ]
  },
  {
   "cell_type": "code",
   "execution_count": 21,
   "metadata": {},
   "outputs": [
    {
     "name": "stdout",
     "output_type": "stream",
     "text": [
      "squares=[ 1  4  9 16 25]\n",
      "Using np.square(x)=[ 1  4  9 16 25]\n"
     ]
    }
   ],
   "source": [
    "x = np.array([1, 2, 3, 4, 5])\n",
    "f = lambda x: x ** 2\n",
    "squares = f(x)\n",
    "#print(squares)\n",
    "print(\"squares={}\\nUsing np.square(x)={}\".format(squares, np.square(x)))"
   ]
  },
  {
   "cell_type": "markdown",
   "metadata": {},
   "source": [
    "### Applying sigmoid function (1/(1+e^-z))"
   ]
  },
  {
   "cell_type": "code",
   "execution_count": 22,
   "metadata": {},
   "outputs": [
    {
     "name": "stdout",
     "output_type": "stream",
     "text": [
      "Applying sigmoid function to all the elements:\n",
      "[[0.99966465 0.5        0.73105858 0.99966465]\n",
      " [0.99999386 0.99999989 0.99999917 0.99999917]\n",
      " [0.9999833  0.99330715 0.99999989 0.98201379]]\n"
     ]
    }
   ],
   "source": [
    "a = np.random.randint(20, size=(3,4))\n",
    "a_sigmoid = 1/(1+np.exp(-a))\n",
    "print(\"Applying sigmoid function to all the elements:\\n{}\".format(a_sigmoid))"
   ]
  },
  {
   "cell_type": "markdown",
   "metadata": {},
   "source": [
    "### Return True/False based on some threshold"
   ]
  },
  {
   "cell_type": "code",
   "execution_count": 23,
   "metadata": {},
   "outputs": [
    {
     "name": "stdout",
     "output_type": "stream",
     "text": [
      "[False False  True  True  True]\n"
     ]
    }
   ],
   "source": [
    "x = np.array([1, 2, 3, 4, 5])\n",
    "threshold = 2.9\n",
    "one_zeros = x > threshold\n",
    "print(one_zeros)"
   ]
  },
  {
   "cell_type": "markdown",
   "metadata": {},
   "source": [
    "# Accessing  array elements\n",
    "## Individual elements of the array"
   ]
  },
  {
   "cell_type": "code",
   "execution_count": 11,
   "metadata": {},
   "outputs": [
    {
     "name": "stdout",
     "output_type": "stream",
     "text": [
      "a16=\n",
      "[[1 2 3 4 5 6]]\n",
      "\n",
      "a16[0][5]=6\n"
     ]
    }
   ],
   "source": [
    "a16 = np.array([[1,2,3,4,5,6]])\n",
    "print(\"a16=\\n{}\\n\\na16[0][5]={}\".format(a16,a16[0][5]))"
   ]
  },
  {
   "cell_type": "markdown",
   "metadata": {},
   "source": [
    "# References\n",
    "\n",
    "* [Numpy axes explained](https://www.sharpsightlabs.com/blog/numpy-axes-explained/)"
   ]
  }
 ],
 "metadata": {
  "kernelspec": {
   "display_name": "Python 3",
   "language": "python",
   "name": "python3"
  },
  "language_info": {
   "codemirror_mode": {
    "name": "ipython",
    "version": 3
   },
   "file_extension": ".py",
   "mimetype": "text/x-python",
   "name": "python",
   "nbconvert_exporter": "python",
   "pygments_lexer": "ipython3",
   "version": "3.7.3"
  }
 },
 "nbformat": 4,
 "nbformat_minor": 2
}
