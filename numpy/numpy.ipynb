{
 "cells": [
  {
   "cell_type": "code",
   "execution_count": 2,
   "metadata": {},
   "outputs": [],
   "source": [
    "import numpy as np"
   ]
  },
  {
   "cell_type": "markdown",
   "metadata": {},
   "source": [
    "# Initializing Arrays"
   ]
  },
  {
   "cell_type": "markdown",
   "metadata": {},
   "source": [
    "### Manual initialization"
   ]
  },
  {
   "cell_type": "code",
   "execution_count": 3,
   "metadata": {},
   "outputs": [
    {
     "name": "stdout",
     "output_type": "stream",
     "text": [
      "Array a1=[1 2 3 4 5]\n",
      "Array a2=[[ 1  2  3  4  5]\n",
      " [ 6  7  8  9 10]]\n",
      "a2[1]=[ 6  7  8  9 10]\n",
      "a2[1][2]=8\n",
      "Shape of a2=(2, 5)\n"
     ]
    }
   ],
   "source": [
    "a1 = np.array([1,2,3,4,5])\n",
    "a2 = np.array([[1,2,3,4,5],[6,7,8,9,10]])\n",
    "print(\"Array a1={}\".format(a1))\n",
    "print(\"Array a2={}\".format(a2))\n",
    "print(\"a2[1]={}\".format(a2[1]))\n",
    "print(\"a2[1][2]={}\".format(a2[1][2]))\n",
    "print(\"Shape of a2={}\".format(a2.shape))"
   ]
  },
  {
   "cell_type": "markdown",
   "metadata": {},
   "source": [
    "### Standard initialization"
   ]
  },
  {
   "cell_type": "code",
   "execution_count": 4,
   "metadata": {},
   "outputs": [
    {
     "name": "stdout",
     "output_type": "stream",
     "text": [
      "a3=[0. 0. 0. 0. 0. 0. 0. 0. 0. 0.]\n",
      "a4=[[0. 0. 0. 0. 0. 0.]\n",
      " [0. 0. 0. 0. 0. 0.]\n",
      " [0. 0. 0. 0. 0. 0.]\n",
      " [0. 0. 0. 0. 0. 0.]\n",
      " [0. 0. 0. 0. 0. 0.]]\n"
     ]
    }
   ],
   "source": [
    "a3 = np.zeros(10) # Initialize a (1x10) array with zeros\n",
    "print(\"a3={}\".format(a3))\n",
    "a4 = np.zeros((5,6)) # Initialize an (5x6) array with zeros\n",
    "print(\"a4={}\".format(a4))\n",
    "# print(\"np.zeros(1,2)={}\".format( np.zeros(1,2) )) # Error: Data type not understood"
   ]
  },
  {
   "cell_type": "code",
   "execution_count": 5,
   "metadata": {},
   "outputs": [
    {
     "name": "stdout",
     "output_type": "stream",
     "text": [
      "np.ones((6,2))=[[1. 1.]\n",
      " [1. 1.]\n",
      " [1. 1.]\n",
      " [1. 1.]\n",
      " [1. 1.]\n",
      " [1. 1.]]\n"
     ]
    }
   ],
   "source": [
    "print(\"np.ones((6,2))={}\".format(np.ones((6,2))))"
   ]
  },
  {
   "cell_type": "code",
   "execution_count": 6,
   "metadata": {},
   "outputs": [
    {
     "name": "stdout",
     "output_type": "stream",
     "text": [
      "np.full((6,2), 99)=[[99 99]\n",
      " [99 99]\n",
      " [99 99]\n",
      " [99 99]\n",
      " [99 99]\n",
      " [99 99]]\n"
     ]
    }
   ],
   "source": [
    "print(\"np.full((6,2), 99)={}\".format( np.full((6,2), 99) ))"
   ]
  },
  {
   "cell_type": "code",
   "execution_count": 7,
   "metadata": {},
   "outputs": [
    {
     "name": "stdout",
     "output_type": "stream",
     "text": [
      "np.array((4,5), dtype=np.int)=[4 5]\n"
     ]
    }
   ],
   "source": [
    "print(\"np.array((4,5), dtype=np.int)={}\".format(  np.array((4,5), dtype=np.int)  ))"
   ]
  },
  {
   "cell_type": "code",
   "execution_count": 8,
   "metadata": {},
   "outputs": [
    {
     "name": "stdout",
     "output_type": "stream",
     "text": [
      "a4_5 = [[0. 0. 0.]\n",
      " [0. 0. 0.]]\n",
      "a4_6 = [[0. 0. 0. 0. 0. 0.]\n",
      " [0. 0. 0. 0. 0. 0.]\n",
      " [0. 0. 0. 0. 0. 0.]\n",
      " [0. 0. 0. 0. 0. 0.]\n",
      " [0. 0. 0. 0. 0. 0.]]\n"
     ]
    }
   ],
   "source": [
    "a4_5,a4_6 = np.zeros((2,3)), np.zeros((5,6)) # Initialize multiple matrices at the same time\n",
    "print (\"a4_5 = {}\".format(a4_5))\n",
    "print (\"a4_6 = {}\".format(a4_6))"
   ]
  },
  {
   "cell_type": "code",
   "execution_count": 9,
   "metadata": {},
   "outputs": [
    {
     "name": "stdout",
     "output_type": "stream",
     "text": [
      "Between 1 and 20: np.linspace(1,20,17):[ 1.      2.1875  3.375   4.5625  5.75    6.9375  8.125   9.3125 10.5\n",
      " 11.6875 12.875  14.0625 15.25   16.4375 17.625  18.8125 20.    ]\n",
      "\n",
      "Between 2 and 20: np.linspace(2,20,10):[ 2.  4.  6.  8. 10. 12. 14. 16. 18. 20.]\n",
      "\n",
      "Between 0 and 20: np.linspace(0,20,10):[ 0.          2.22222222  4.44444444  6.66666667  8.88888889 11.11111111\n",
      " 13.33333333 15.55555556 17.77777778 20.        ]\n",
      "\n",
      "Between 1 and 5: np.linspace(1,5,5):[1. 2. 3. 4. 5.]\n",
      "\n",
      "Between 0 and 5: np.linspace(0,5,6):[0. 1. 2. 3. 4. 5.]\n"
     ]
    }
   ],
   "source": [
    "print(\"Between 1 and 20: np.linspace(1,20,17):{}\".format(np.linspace(1,20,17)))\n",
    "print(\"\\nBetween 2 and 20: np.linspace(2,20,10):{}\".format(np.linspace(2,20,10)))\n",
    "print(\"\\nBetween 0 and 20: np.linspace(0,20,10):{}\".format(np.linspace(0,20,10)))\n",
    "print(\"\\nBetween 1 and 5: np.linspace(1,5,5):{}\".format(np.linspace(1,5,5)))\n",
    "print(\"\\nBetween 0 and 5: np.linspace(0,5,6):{}\".format(np.linspace(0,5,6)))"
   ]
  },
  {
   "cell_type": "code",
   "execution_count": 10,
   "metadata": {},
   "outputs": [
    {
     "name": "stdout",
     "output_type": "stream",
     "text": [
      "I1.I20=[[1. 0. 0. 0.]\n",
      " [0. 1. 0. 0.]\n",
      " [0. 0. 1. 0.]\n",
      " [0. 0. 0. 1.]]\n",
      "\n"
     ]
    }
   ],
   "source": [
    "I1 = np.eye(4)\n",
    "I2 = np.eye(4)\n",
    "print(\"I1.I20={}\\n\".format(np.dot(I1,I2.T)))"
   ]
  },
  {
   "cell_type": "markdown",
   "metadata": {},
   "source": [
    "### Random initialization"
   ]
  },
  {
   "cell_type": "code",
   "execution_count": 12,
   "metadata": {},
   "outputs": [
    {
     "name": "stdout",
     "output_type": "stream",
     "text": [
      "np.random.randn(2,3)=\n",
      "[[ 0.1729854  -0.23018446 -1.73376285]\n",
      " [-0.10291181 -1.15753419  0.7366679 ]]\n",
      "\n",
      "np.random.rand(2,3)=\n",
      "[[0.85721208 0.09579684 0.50520592]\n",
      " [0.83850905 0.89679873 0.70624311]]\n",
      "\n",
      "np.random.randint(23, size=(5,3))=\n",
      "[[15  7  8]\n",
      " [ 4 15  3]\n",
      " [19 21  1]\n",
      " [16  7 14]\n",
      " [ 9 20 22]]\n",
      "\n",
      "np.random.randint(1, 10, size=(5,3))=\n",
      "[[8 2 4]\n",
      " [1 7 7]\n",
      " [7 2 2]\n",
      " [6 1 4]\n",
      " [4 8 1]]\n",
      "\n",
      "np.random.randint(10, 437, 10)=\n",
      "[115 101  69 222 298 282  30  13 295 377]\n",
      "\n",
      "\n",
      "np.random.random((5,5))=\n",
      "[[0.930246   0.9972486  0.32362088 0.48079621 0.85434553]\n",
      " [0.73210044 0.14897426 0.88338274 0.57820775 0.81942917]\n",
      " [0.12722279 0.19641367 0.97883938 0.9552197  0.70279988]\n",
      " [0.71221713 0.74297255 0.22558688 0.24353709 0.69428271]\n",
      " [0.97635947 0.05475944 0.58143659 0.95784302 0.16080295]]\n"
     ]
    }
   ],
   "source": [
    "print(\"np.random.randn(2,3)=\\n{}\\n\".format(np.random.randn(2,3) ))\n",
    "print(\"np.random.rand(2,3)=\\n{}\\n\".format(np.random.rand(2,3) ))\n",
    "print(\"np.random.randint(23, size=(5,3))=\\n{}\\n\".format(np.random.randint(23, size=(5,3)) )) # Get a 5x3 matrix randomly with integer values from (1-23)\n",
    "print(\"np.random.randint(1, 10, size=(5,3))=\\n{}\\n\".format(np.random.randint(1, 10, size=(5,3)) )) # Get a 5x3 matrix randomly with integer values from (1-23)\n",
    "print(\"np.random.randint(10, 437, 10)=\\n{}\\n\".format(np.random.randint(10, 437, 10))) # Get a 5x3 matrix randomly with integer values from (1-23)\n",
    "print(\"\\nnp.random.random((5,5))=\\n{}\".format(np.random.random((5,5))))"
   ]
  },
  {
   "cell_type": "markdown",
   "metadata": {},
   "source": [
    "# Modification operations\n",
    "\n",
    "## Insert new elements"
   ]
  },
  {
   "cell_type": "code",
   "execution_count": 11,
   "metadata": {},
   "outputs": [
    {
     "name": "stdout",
     "output_type": "stream",
     "text": [
      "[  3   8   9   8   7   6   6   2   2   3 988]\n"
     ]
    }
   ],
   "source": [
    "d = np.random.randint(1,10,size=10)\n",
    "d = np.append(d,[988]) # Append an element\n",
    "print(d)"
   ]
  },
  {
   "cell_type": "markdown",
   "metadata": {},
   "source": [
    "## Reshape"
   ]
  },
  {
   "cell_type": "code",
   "execution_count": 12,
   "metadata": {},
   "outputs": [
    {
     "name": "stdout",
     "output_type": "stream",
     "text": [
      "a(2, 2, 3)=\n",
      "[[[8 8 6]\n",
      "  [2 7 3]]\n",
      "\n",
      " [[4 2 3]\n",
      "  [3 7 9]]]\n",
      "\n",
      "a reshaped to (4, 3)=\n",
      "[[8 8 6]\n",
      " [2 7 3]\n",
      " [4 2 3]\n",
      " [3 7 9]]\n",
      "\n",
      "a reshaped to (3, 4)=\n",
      "[[8 8 6 2]\n",
      " [7 3 4 2]\n",
      " [3 3 7 9]]\n",
      "\n",
      "a reshaped to (2, 6)=\n",
      "[[8 8 6 2 7 3]\n",
      " [4 2 3 3 7 9]]\n",
      "\n",
      "a reshaped to (1, 12)=\n",
      "[[8 8 6 2 7 3 4 2 3 3 7 9]]\n",
      "\n",
      "a_1d reshaped to (2, 2, 3)=\n",
      "[[[8 8 6]\n",
      "  [2 7 3]]\n",
      "\n",
      " [[4 2 3]\n",
      "  [3 7 9]]]\n"
     ]
    }
   ],
   "source": [
    "a = np.random.randint(low=2, high=10, size=(2, 2, 3))  # low, high give the range within which the random values are generated\n",
    "print(\"a{}=\\n{}\".format(a.shape, a))\n",
    "print(\"\\na reshaped to {}=\\n{}\".format(a.reshape((4,3)).shape, a.reshape((4,3))))\n",
    "print(\"\\na reshaped to {}=\\n{}\".format(a.reshape((3,4)).shape, a.reshape((3,4))))\n",
    "print(\"\\na reshaped to {}=\\n{}\".format(a.reshape((2,6)).shape, a.reshape((2,6))))\n",
    "a_1d = a.reshape((1,12))\n",
    "print(\"\\na reshaped to {}=\\n{}\".format(a_1d.shape, a_1d))\n",
    "print(\"\\na_1d reshaped to {}=\\n{}\".format(a_1d.reshape((2,2,3)).shape, a_1d.reshape((2,2,3))))"
   ]
  },
  {
   "cell_type": "code",
   "execution_count": 13,
   "metadata": {},
   "outputs": [
    {
     "name": "stdout",
     "output_type": "stream",
     "text": [
      "Shape of a17=(2, 4)\n",
      "a17=\n",
      "[[0.15411116 0.70457204 0.9041644  0.46583428]\n",
      " [0.18151368 0.19198195 0.36905187 0.07553664]]\n",
      "\n",
      "Shape of a17_reshape=(1, 8)\n",
      "a17_reshape=\n",
      "[[0.15411116 0.70457204 0.9041644  0.46583428 0.18151368 0.19198195\n",
      "  0.36905187 0.07553664]]\n",
      "\n",
      "Shape of a17_reshape2=(8, 1)\n",
      "a17_reshape2=\n",
      "[[0.15411116]\n",
      " [0.70457204]\n",
      " [0.9041644 ]\n",
      " [0.46583428]\n",
      " [0.18151368]\n",
      " [0.19198195]\n",
      " [0.36905187]\n",
      " [0.07553664]]\n",
      "\n",
      "Shape of a17_reshape3=(2, 4)\n",
      "a17_reshape3=\n",
      "[[0.15411116 0.70457204 0.9041644  0.46583428]\n",
      " [0.18151368 0.19198195 0.36905187 0.07553664]]\n",
      "\n"
     ]
    }
   ],
   "source": [
    "a17 = np.random.random((2,4))\n",
    "print(\"Shape of a17={}\".format(a17.shape))\n",
    "print(\"a17=\\n{}\\n\".format(a17))\n",
    "\n",
    "a17_reshape = a17.reshape((1,8))\n",
    "print(\"Shape of a17_reshape={}\".format(a17_reshape.shape))\n",
    "print(\"a17_reshape=\\n{}\\n\".format(a17_reshape))\n",
    "\n",
    "a17_reshape2 = a17.reshape((8,1))\n",
    "print(\"Shape of a17_reshape2={}\".format(a17_reshape2.shape))\n",
    "print(\"a17_reshape2=\\n{}\\n\".format(a17_reshape2))\n",
    "\n",
    "a17_reshape3 = a17.reshape((-1,4)) # Infer the first dimension of a17 automatically (-1)\n",
    "print(\"Shape of a17_reshape3={}\".format(a17_reshape3.shape))\n",
    "print(\"a17_reshape3=\\n{}\\n\".format(a17_reshape3))"
   ]
  },
  {
   "cell_type": "markdown",
   "metadata": {},
   "source": [
    "### Convert to other shapes using standard conversion functions"
   ]
  },
  {
   "cell_type": "code",
   "execution_count": 14,
   "metadata": {},
   "outputs": [
    {
     "name": "stdout",
     "output_type": "stream",
     "text": [
      "To 1D array=[24]\n",
      "To 2D array=[[24]]\n",
      "To 3D array=[[[24]]]\n",
      "To 1D array=[11 22 33 44]\n",
      "To 2D array=[[11 22 33 44]]\n",
      "To 3D array=[[[11]\n",
      "  [22]\n",
      "  [33]\n",
      "  [44]]]\n"
     ]
    }
   ],
   "source": [
    "n = 24\n",
    "print(\"To 1D array={}\".format(np.atleast_1d(n)))\n",
    "print(\"To 2D array={}\".format(np.atleast_2d(n)))\n",
    "print(\"To 3D array={}\".format(np.atleast_3d(n)))\n",
    "\n",
    "n = [11,22,33,44]\n",
    "print(\"To 1D array={}\".format(np.atleast_1d(n)))\n",
    "print(\"To 2D array={}\".format(np.atleast_2d(n)))\n",
    "print(\"To 3D array={}\".format(np.atleast_3d(n)))"
   ]
  },
  {
   "cell_type": "markdown",
   "metadata": {},
   "source": [
    "## Squeeze"
   ]
  },
  {
   "cell_type": "code",
   "execution_count": 15,
   "metadata": {},
   "outputs": [
    {
     "name": "stdout",
     "output_type": "stream",
     "text": [
      "shape of x=(1, 3, 1); x[0][0]=[437], x[0][1]=[233], x[0][2]=[99]\n",
      "shape of x_sq=(3,); x_sq[0]=437, x_sq[1]=233, x_sq[2]=99\n"
     ]
    }
   ],
   "source": [
    "x = np.array([[[437], [233], [99]]])\n",
    "print(\"shape of x={}; x[0][0]={}, x[0][1]={}, x[0][2]={}\".format(x.shape, x[0][0], x[0][1], x[0][2]))\n",
    "x_sq = np.squeeze(x)\n",
    "print(\"shape of x_sq={}; x_sq[0]={}, x_sq[1]={}, x_sq[2]={}\".format(x_sq.shape, x_sq[0], x_sq[1], x_sq[2]))"
   ]
  },
  {
   "cell_type": "markdown",
   "metadata": {},
   "source": [
    "## Fancy Indexing"
   ]
  },
  {
   "cell_type": "code",
   "execution_count": 16,
   "metadata": {},
   "outputs": [
    {
     "name": "stdout",
     "output_type": "stream",
     "text": [
      "a=[ 1  2  3  4  5  6  7  8  9 10 11 12 13 14 15 16 17 18 19], b=[100 101 102 103], indices=[ 2 11 10  5]\n",
      "############################# Example-1 ##############################\n",
      "a=[  1   2 100   4   5 103   7   8   9  10 102 101  13  14  15  16  17  18\n",
      "  19]\n",
      "############################# Example-2 ##############################\n",
      "a=[[ 0  1  2  3  4]\n",
      " [ 5  6  7  8  9]\n",
      " [10 11 12 13 14]\n",
      " [15 16 17 18 19]], row=[0 2 3], col=[1 2 3]\n",
      "a[[0 2 3]]=[[ 0  1  2  3  4]\n",
      " [10 11 12 13 14]\n",
      " [15 16 17 18 19]]\n",
      "a[[0 2 3],[1 2 3]]=[ 1 12 18]\n",
      "a[row[:,np.newaxis], col]=[[ 1  2  3]\n",
      " [11 12 13]\n",
      " [16 17 18]]\n",
      "row[:,np.newaxis]*col=[[0 0 0]\n",
      " [2 4 6]\n",
      " [3 6 9]]\n",
      "a[:,[1 2 3]]=[[ 1  2  3]\n",
      " [ 6  7  8]\n",
      " [11 12 13]\n",
      " [16 17 18]]\n",
      "a[2:,[1 2 3]]=[[11 12 13]\n",
      " [16 17 18]]\n",
      "After a[2:,[1 2 3]]=437: [[  0   1   2   3   4]\n",
      " [  5   6   7   8   9]\n",
      " [ 10 437 437 437  14]\n",
      " [ 15 437 437 437  19]]\n"
     ]
    }
   ],
   "source": [
    "np.random.seed(34)\n",
    "a = np.arange(1,20)\n",
    "b = np.arange(100,104)\n",
    "indices = np.random.randint(1, 20, size=4, dtype=np.int)\n",
    "print(\"a={}, b={}, indices={}\".format(a,b,indices))\n",
    "\n",
    "# 1. Replacing the 'indices' of the array 'a' with values of 'b'\n",
    "print(\"############################# Example-1 ##############################\")\n",
    "a[indices] = b\n",
    "print(\"a={}\".format(a))\n",
    "\n",
    "# 2. \n",
    "print(\"############################# Example-2 ##############################\")\n",
    "a = np.arange(20).reshape((4,5))\n",
    "row = np.array([0,2,3])\n",
    "col = np.array([1,2,3])\n",
    "print(\"a={}, row={}, col={}\".format(a, row, col))\n",
    "print(\"a[{}]={}\".format(row,a[row]))\n",
    "print(\"a[{},{}]={}\".format(row,col,a[row,col]))\n",
    "print(\"a[row[:,np.newaxis], col]={}\".format(a[row[:,np.newaxis], col]))\n",
    "print(\"row[:,np.newaxis]*col={}\".format(row[:,np.newaxis]*col))\n",
    "print(\"a[:,{}]={}\".format(col,a[:,col]))\n",
    "print(\"a[2:,{}]={}\".format(col,a[2:,col]))\n",
    "b=a.copy()\n",
    "b[2:,col]=437\n",
    "print(\"After a[2:,{}]=437: {}\".format(col,b))\n"
   ]
  },
  {
   "cell_type": "markdown",
   "metadata": {},
   "source": [
    "## Slicing\n",
    "\n",
    "Syntax: x[start:stop:step]\n",
    "\n",
    "If any of these are unspecified, they default to the values \n",
    "* start= 0\n",
    "* stop = size of dimension\n",
    "* step = 1"
   ]
  },
  {
   "cell_type": "code",
   "execution_count": 17,
   "metadata": {},
   "outputs": [
    {
     "name": "stdout",
     "output_type": "stream",
     "text": [
      "x=[[3 5 5 7 3 6]\n",
      " [3 7 8 5 3 6]\n",
      " [4 7 1 3 7 8]\n",
      " [7 2 5 5 3 2]\n",
      " [6 6 4 8 3 1]\n",
      " [4 8 2 7 0 7]\n",
      " [7 5 2 0 7 3]\n",
      " [5 1 6 1 3 4]\n",
      " [5 0 8 5 5 2]\n",
      " [8 7 6 3 4 1]]\n",
      "\n",
      "x[1::4]=\n",
      "[[3 7 8 5 3 6]\n",
      " [4 8 2 7 0 7]\n",
      " [8 7 6 3 4 1]]\n",
      "\n",
      "x[1::2]=\n",
      "[[3 7 8 5 3 6]\n",
      " [7 2 5 5 3 2]\n",
      " [4 8 2 7 0 7]\n",
      " [5 1 6 1 3 4]\n",
      " [8 7 6 3 4 1]]\n",
      "\n",
      "x[1:2:4]=\n",
      "[[3 7 8 5 3 6]]\n",
      "\n",
      "x[1:4:2]=\n",
      "[[3 7 8 5 3 6]\n",
      " [7 2 5 5 3 2]]\n"
     ]
    }
   ],
   "source": [
    "# Example-1\n",
    "np.random.seed(67)\n",
    "x = np.random.randint(9, size=(10,6))\n",
    "print(\"x={}\".format(x))\n",
    "print(\"\\nx[1::4]=\\n{}\".format(x[1::4]))\n",
    "print(\"\\nx[1::2]=\\n{}\".format(x[1::2]))\n",
    "print(\"\\nx[1:2:4]=\\n{}\".format(x[1:2:4]))\n",
    "print(\"\\nx[1:4:2]=\\n{}\".format(x[1:4:2]))"
   ]
  },
  {
   "cell_type": "code",
   "execution_count": 18,
   "metadata": {},
   "outputs": [
    {
     "name": "stdout",
     "output_type": "stream",
     "text": [
      "a=[[ 1  2  3]\n",
      " [ 4  5  6]\n",
      " [ 7  8  9]\n",
      " [10 11 12]]\n",
      "b=[[13 14 15]\n",
      " [16 17 18]\n",
      " [19 20 21]\n",
      " [22 23 24]]\n",
      "\n",
      "First 2-rows and 3-columns of a=[[1 2 3]\n",
      " [4 5 6]]\n",
      "First 2-rows and 2-columns of a=[[1 2]\n",
      " [4 5]]\n",
      "Last 2-rows and last 2-columns of a=[[ 8  9]\n",
      " [11 12]]\n",
      "Last 2-rows and last 2-columns of a=[[ 8  9]\n",
      " [11 12]]\n",
      "Middle of matrix a=[[5 6]\n",
      " [8 9]]\n"
     ]
    }
   ],
   "source": [
    "a = np.array([range(v,v+3) for v in [1, 4, 7, 10]])\n",
    "b = np.array([range(v,v+3) for v in [13,16, 19, 22]])\n",
    "print(\"a={}\\nb={}\\n\".format(a,b))\n",
    "print(\"First 2-rows and 3-columns of a={}\".format(a[:2,:3]))\n",
    "print(\"First 2-rows and 2-columns of a={}\".format(a[:2,:2]))\n",
    "print(\"Last 2-rows and last 2-columns of a={}\".format(a[2:4:,1:3:]))\n",
    "print(\"Last 2-rows and last 2-columns of a={}\".format(a[2::,1::]))\n",
    "print(\"Middle of matrix a={}\".format(a[1:3,1:3]))"
   ]
  },
  {
   "cell_type": "code",
   "execution_count": 19,
   "metadata": {},
   "outputs": [
    {
     "name": "stdout",
     "output_type": "stream",
     "text": [
      "a=[ 1  2  3  4  5  6  7  8  9 10 11]\n",
      "a[2:6]=[3 4 5 6]\n",
      "a[:6]=[1 2 3 4 5 6]\n",
      "a[2:]=[ 3  4  5  6  7  8  9 10 11]\n",
      "a[2:10:2]=[3 5 7 9]\n"
     ]
    }
   ],
   "source": [
    "a = np.arange(1,12)\n",
    "print(\"a={}\\na[2:6]={}\\na[:6]={}\\na[2:]={}\\na[2:10:2]={}\".format(a,a[2:6],a[:6],a[2:],a[2:10:2]))"
   ]
  },
  {
   "cell_type": "markdown",
   "metadata": {},
   "source": [
    "# Sorting"
   ]
  },
  {
   "cell_type": "code",
   "execution_count": 20,
   "metadata": {},
   "outputs": [
    {
     "name": "stdout",
     "output_type": "stream",
     "text": [
      "######################## Example-1 ##############################\n",
      "a=[[12 87 52 24 91 35]\n",
      " [94 73  7 18 58 19]\n",
      " [84 54 95 83  6 67]\n",
      " [51 30 45 58 32 35]]\n",
      "np.sort(a)=[[12 24 35 52 87 91]\n",
      " [ 7 18 19 58 73 94]\n",
      " [ 6 54 67 83 84 95]\n",
      " [30 32 35 45 51 58]]\n",
      "np.sort(a,axis=0)=[[12 30  7 18  6 19]\n",
      " [51 54 45 24 32 35]\n",
      " [84 73 52 58 58 35]\n",
      " [94 87 95 83 91 67]]\n",
      "np.sort(a,axis=0)=[[12 30  7 18  6 19]\n",
      " [51 54 45 24 32 35]\n",
      " [84 73 52 58 58 35]\n",
      " [94 87 95 83 91 67]]\n",
      "np.argsort(a,axis=0)=[[0 3 1 1 2 1]\n",
      " [3 2 3 0 3 0]\n",
      " [2 1 0 3 1 3]\n",
      " [1 0 2 2 0 2]]\n",
      "######################## Example-2 ##############################\n",
      "b=[80 92 14 78 64 40 71  4 39 68  7  6 63 50 32 90 59  1 61  9]\n",
      "np.partition(b,5)=[ 7  4  1  6  9 14 32 40 39 59 64 61 63 50 68 90 92 71 78 80]\n"
     ]
    }
   ],
   "source": [
    "np.random.seed(437)\n",
    "\n",
    "print(\"######################## Example-1 ##############################\")\n",
    "a = np.random.randint(1,100,size=(4,6))\n",
    "print(\"a={}\\nnp.sort(a)={}\".format(a,np.sort(a)))\n",
    "print(\"np.sort(a,axis=0)={}\".format(np.sort(a,axis=0)))\n",
    "print(\"np.sort(a,axis=0)={}\".format(np.sort(a,axis=0)))\n",
    "print(\"np.argsort(a,axis=0)={}\".format(np.argsort(a,axis=0))) # Sorted indices of the array along axis=0\n",
    "\n",
    "print(\"######################## Example-2 ##############################\")\n",
    "b = np.random.randint(1,100,20)\n",
    "print(\"b={}\".format(b))\n",
    "print(\"np.partition(b,5)={}\".format(np.partition(b,5))) # Get '5' smallest numbers of the array. Note the order is arbitrary."
   ]
  },
  {
   "cell_type": "markdown",
   "metadata": {},
   "source": [
    "## Axes\n",
    "### Summation"
   ]
  },
  {
   "cell_type": "code",
   "execution_count": 21,
   "metadata": {},
   "outputs": [
    {
     "name": "stdout",
     "output_type": "stream",
     "text": [
      "a=[[1. 1. 1. 1. 1.]\n",
      " [1. 1. 1. 1. 1.]\n",
      " [1. 1. 1. 1. 1.]]\n",
      "\n",
      "b=[[2 8 3 8 4]\n",
      " [6 4 6 3 7]\n",
      " [9 4 4 9 5]]\n",
      "\n",
      "Sum of a, along axis0 = [3. 3. 3. 3. 3.]\n",
      "\n",
      "Sum of a, along axis1 = [5. 5. 5.]\n",
      "\n",
      "Sum of b, along axis0 = [17 16 13 20 16]\n",
      "\n",
      "Sum of b, along axis1 = [25 26 31]\n",
      "\n",
      "Concatenate a and b along axis-0=[[1. 1. 1. 1. 1.]\n",
      " [1. 1. 1. 1. 1.]\n",
      " [1. 1. 1. 1. 1.]\n",
      " [2. 8. 3. 8. 4.]\n",
      " [6. 4. 6. 3. 7.]\n",
      " [9. 4. 4. 9. 5.]]\n",
      "\n",
      "Concatenate a and b along axis-1=[[1. 1. 1. 1. 1. 2. 8. 3. 8. 4.]\n",
      " [1. 1. 1. 1. 1. 6. 4. 6. 3. 7.]\n",
      " [1. 1. 1. 1. 1. 9. 4. 4. 9. 5.]]\n"
     ]
    }
   ],
   "source": [
    "# Two dimentional arrays\n",
    "a = np.ones([3,5])\n",
    "b = np.random.randint(1,10,[3,5])\n",
    "print(\"a={}\\n\\nb={}\".format(a,b))\n",
    "\n",
    "# Summation along axis\n",
    "print(\"\\nSum of a, along axis0 = {}\".format(np.sum(a,axis=0)))\n",
    "print(\"\\nSum of a, along axis1 = {}\".format(np.sum(a,axis=1)))\n",
    "print(\"\\nSum of b, along axis0 = {}\".format(np.sum(b,axis=0)))\n",
    "print(\"\\nSum of b, along axis1 = {}\".format(np.sum(b,axis=1)))\n",
    "\n",
    "# Concatenation along axis\n",
    "print(\"\\nConcatenate a and b along axis-0={}\".format(np.concatenate([a,b], axis=0)))\n",
    "print(\"\\nConcatenate a and b along axis-1={}\".format(np.concatenate([a,b], axis=1)))"
   ]
  },
  {
   "cell_type": "code",
   "execution_count": 22,
   "metadata": {
    "scrolled": false
   },
   "outputs": [
    {
     "name": "stdout",
     "output_type": "stream",
     "text": [
      "a=[[[1. 1.]\n",
      "  [1. 1.]\n",
      "  [1. 1.]\n",
      "  [1. 1.]\n",
      "  [1. 1.]]\n",
      "\n",
      " [[1. 1.]\n",
      "  [1. 1.]\n",
      "  [1. 1.]\n",
      "  [1. 1.]\n",
      "  [1. 1.]]\n",
      "\n",
      " [[1. 1.]\n",
      "  [1. 1.]\n",
      "  [1. 1.]\n",
      "  [1. 1.]\n",
      "  [1. 1.]]]\n",
      "\n",
      "b=[[[9 7]\n",
      "  [8 3]\n",
      "  [2 3]\n",
      "  [6 5]\n",
      "  [4 7]]\n",
      "\n",
      " [[9 8]\n",
      "  [3 6]\n",
      "  [6 7]\n",
      "  [8 1]\n",
      "  [3 6]]\n",
      "\n",
      " [[4 3]\n",
      "  [9 9]\n",
      "  [3 5]\n",
      "  [1 3]\n",
      "  [1 1]]]\n",
      "\n",
      "Sum of a, along axis0 = [[3. 3.]\n",
      " [3. 3.]\n",
      " [3. 3.]\n",
      " [3. 3.]\n",
      " [3. 3.]]\n",
      "\n",
      "Sum of a, along axis1 = [[5. 5.]\n",
      " [5. 5.]\n",
      " [5. 5.]]\n",
      "\n",
      "Sum of a, along axis2 = [[2. 2. 2. 2. 2.]\n",
      " [2. 2. 2. 2. 2.]\n",
      " [2. 2. 2. 2. 2.]]\n",
      "\n",
      "Sum of b, along axis0 = [[22 18]\n",
      " [20 18]\n",
      " [11 15]\n",
      " [15  9]\n",
      " [ 8 14]]\n",
      "\n",
      "Sum of b, along axis1 = [[29 25]\n",
      " [29 28]\n",
      " [18 21]]\n",
      "\n",
      "Sum of b, along axis2 = [[16 11  5 11 11]\n",
      " [17  9 13  9  9]\n",
      " [ 7 18  8  4  2]]\n",
      "\n",
      "Concatenate a and b along axis-0=[[[1. 1.]\n",
      "  [1. 1.]\n",
      "  [1. 1.]\n",
      "  [1. 1.]\n",
      "  [1. 1.]]\n",
      "\n",
      " [[1. 1.]\n",
      "  [1. 1.]\n",
      "  [1. 1.]\n",
      "  [1. 1.]\n",
      "  [1. 1.]]\n",
      "\n",
      " [[1. 1.]\n",
      "  [1. 1.]\n",
      "  [1. 1.]\n",
      "  [1. 1.]\n",
      "  [1. 1.]]\n",
      "\n",
      " [[9. 7.]\n",
      "  [8. 3.]\n",
      "  [2. 3.]\n",
      "  [6. 5.]\n",
      "  [4. 7.]]\n",
      "\n",
      " [[9. 8.]\n",
      "  [3. 6.]\n",
      "  [6. 7.]\n",
      "  [8. 1.]\n",
      "  [3. 6.]]\n",
      "\n",
      " [[4. 3.]\n",
      "  [9. 9.]\n",
      "  [3. 5.]\n",
      "  [1. 3.]\n",
      "  [1. 1.]]]\n",
      "\n",
      "Concatenate a and b along axis-1=[[[1. 1.]\n",
      "  [1. 1.]\n",
      "  [1. 1.]\n",
      "  [1. 1.]\n",
      "  [1. 1.]\n",
      "  [9. 7.]\n",
      "  [8. 3.]\n",
      "  [2. 3.]\n",
      "  [6. 5.]\n",
      "  [4. 7.]]\n",
      "\n",
      " [[1. 1.]\n",
      "  [1. 1.]\n",
      "  [1. 1.]\n",
      "  [1. 1.]\n",
      "  [1. 1.]\n",
      "  [9. 8.]\n",
      "  [3. 6.]\n",
      "  [6. 7.]\n",
      "  [8. 1.]\n",
      "  [3. 6.]]\n",
      "\n",
      " [[1. 1.]\n",
      "  [1. 1.]\n",
      "  [1. 1.]\n",
      "  [1. 1.]\n",
      "  [1. 1.]\n",
      "  [4. 3.]\n",
      "  [9. 9.]\n",
      "  [3. 5.]\n",
      "  [1. 3.]\n",
      "  [1. 1.]]]\n",
      "\n",
      "Concatenate a and b along axis-2=[[[1. 1. 9. 7.]\n",
      "  [1. 1. 8. 3.]\n",
      "  [1. 1. 2. 3.]\n",
      "  [1. 1. 6. 5.]\n",
      "  [1. 1. 4. 7.]]\n",
      "\n",
      " [[1. 1. 9. 8.]\n",
      "  [1. 1. 3. 6.]\n",
      "  [1. 1. 6. 7.]\n",
      "  [1. 1. 8. 1.]\n",
      "  [1. 1. 3. 6.]]\n",
      "\n",
      " [[1. 1. 4. 3.]\n",
      "  [1. 1. 9. 9.]\n",
      "  [1. 1. 3. 5.]\n",
      "  [1. 1. 1. 3.]\n",
      "  [1. 1. 1. 1.]]]\n"
     ]
    }
   ],
   "source": [
    "# Three dimentional array\n",
    "a = np.ones([3,5,2])\n",
    "b = np.random.randint(1,10,[3,5,2])\n",
    "print(\"a={}\\n\\nb={}\".format(a,b))\n",
    "\n",
    "# Summation along axis\n",
    "print(\"\\nSum of a, along axis0 = {}\".format(np.sum(a,axis=0)))\n",
    "print(\"\\nSum of a, along axis1 = {}\".format(np.sum(a,axis=1)))\n",
    "print(\"\\nSum of a, along axis2 = {}\".format(np.sum(a,axis=2)))\n",
    "print(\"\\nSum of b, along axis0 = {}\".format(np.sum(b,axis=0)))\n",
    "print(\"\\nSum of b, along axis1 = {}\".format(np.sum(b,axis=1)))\n",
    "print(\"\\nSum of b, along axis2 = {}\".format(np.sum(b,axis=2)))\n",
    "\n",
    "# Concatenation along axis\n",
    "print(\"\\nConcatenate a and b along axis-0={}\".format(np.concatenate([a,b], axis=0)))\n",
    "print(\"\\nConcatenate a and b along axis-1={}\".format(np.concatenate([a,b], axis=1)))\n",
    "print(\"\\nConcatenate a and b along axis-2={}\".format(np.concatenate([a,b], axis=2)))"
   ]
  },
  {
   "cell_type": "markdown",
   "metadata": {},
   "source": [
    "# Array (standard) operations"
   ]
  },
  {
   "cell_type": "code",
   "execution_count": 23,
   "metadata": {
    "scrolled": true
   },
   "outputs": [
    {
     "name": "stdout",
     "output_type": "stream",
     "text": [
      "a5(exp of array a4)=\n",
      "[[0.39166158 0.46022621 0.62245334]\n",
      " [3.38106198 1.46092065 1.1471382 ]]\n",
      "\n",
      "a5_1(log of array a5)=\n",
      "[[-0.93735713 -0.77603714 -0.4740866 ]\n",
      " [ 1.21818986  0.37906682  0.13727032]]\n",
      "\n",
      "Operation 1-a5_1=\n",
      "[[ 1.93735713  1.77603714  1.4740866 ]\n",
      " [-0.21818986  0.62093318  0.86272968]]\n",
      "\n",
      "abs of a5=\n",
      "[[0.39166158 0.46022621 0.62245334]\n",
      " [3.38106198 1.46092065 1.1471382 ]]\n"
     ]
    }
   ],
   "source": [
    "a4 = np.random.randn(2,3)\n",
    "a5 = np.exp(a4) # Create a new array, same rank as a4_3, whose values are exponential of corresponding values of a4_3\n",
    "print(\"a5(exp of array a4)=\\n{}\\n\".format(a5))\n",
    "\n",
    "a5_1 = np.log(a5) # Create a new array, same rank as a5, whose values are logarithmic to the values of a5\n",
    "print(\"a5_1(log of array a5)=\\n{}\".format(a5_1))\n",
    "print(\"\\nOperation 1-a5_1=\\n{}\\n\".format(1-a5_1))\n",
    "\n",
    "a5_2 = np.array(abs(a5)) \n",
    "print(\"abs of a5=\\n{}\".format(a5_2))"
   ]
  },
  {
   "cell_type": "markdown",
   "metadata": {},
   "source": [
    "## Copying an array into another"
   ]
  },
  {
   "cell_type": "code",
   "execution_count": 24,
   "metadata": {
    "scrolled": true
   },
   "outputs": [
    {
     "name": "stdout",
     "output_type": "stream",
     "text": [
      "a1=\n",
      "[[ 0.428448   -1.07117863 -1.34181127]\n",
      " [-0.77704065  1.98305074 -0.65109272]]\n",
      "Operation divide by 2 of matrix a2=\n",
      "[[ 0.214224   -0.53558932 -0.67090564]\n",
      " [-0.38852033  0.99152537 -0.32554636]]\n"
     ]
    }
   ],
   "source": [
    "a1 = np.random.randn(2,3)\n",
    "print(\"a1=\\n{}\".format(a1))\n",
    "a2 = a1.copy() # Copy an array\n",
    "a2 /= 2\n",
    "print(\"Operation divide by 2 of matrix a2=\\n{}\".format(a2))"
   ]
  },
  {
   "cell_type": "markdown",
   "metadata": {},
   "source": [
    "## Elementwise mathematical operations"
   ]
  },
  {
   "cell_type": "code",
   "execution_count": 25,
   "metadata": {},
   "outputs": [
    {
     "name": "stdout",
     "output_type": "stream",
     "text": [
      "a5_2=\n",
      "[[14  3 37]\n",
      " [34 19 26]]\n",
      "\n",
      "a5_3=\n",
      "[[1. 1. 1.]\n",
      " [1. 1. 1.]]\n",
      "\n",
      "Addition operations\n",
      "\n",
      "a5_2+a5_3=\n",
      "[[15.  4. 38.]\n",
      " [35. 20. 27.]]\n",
      "\n",
      "22+a5_3=\n",
      "[[23. 23. 23.]\n",
      " [23. 23. 23.]]\n",
      "\n",
      "a5_3+22=\n",
      "[[23. 23. 23.]\n",
      " [23. 23. 23.]]\n",
      "\n",
      "Subtraction operations\n",
      "\n",
      "a5_2-a5_3=\n",
      "[[13.  2. 36.]\n",
      " [33. 18. 25.]]\n",
      "\n",
      "Multiplication operations\n",
      "\n",
      "a5_2*a5_3=\n",
      "[[14.  3. 37.]\n",
      " [34. 19. 26.]]\n",
      "\n",
      "437*a5_3=\n",
      "[[437. 437. 437.]\n",
      " [437. 437. 437.]]\n",
      "\n",
      "a5_3*437=\n",
      "[[437. 437. 437.]\n",
      " [437. 437. 437.]]\n",
      "\n",
      "Division operations\n",
      "\n",
      "a5_2/a5_3=\n",
      "[[14.  3. 37.]\n",
      " [34. 19. 26.]]\n",
      "\n",
      "Miscelleneous operations\n",
      "\n",
      "elementwise (a5_2)^2=\n",
      "[[ 196    9 1369]\n",
      " [1156  361  676]]\n",
      "\n",
      "sqrt(a5_8)=\n",
      "[[ 196    9 1369]\n",
      " [1156  361  676]]\n"
     ]
    }
   ],
   "source": [
    "# Note that all the operations below are element wise. \n",
    "\n",
    "a5_2 = np.random.randint(45,size=(2,3))\n",
    "a5_3 = np.ones((2,3))\n",
    "print(\"a5_2=\\n{}\\n\\na5_3=\\n{}\\n\".format(a5_2, a5_3))\n",
    "\n",
    "# Addition\n",
    "print(\"Addition operations\\n\")\n",
    "a5_4 = np.add(a5_2,a5_3)\n",
    "print(\"a5_2+a5_3=\\n{}\\n\".format(a5_4))\n",
    "a5_4_1 = np.add(22,a5_3)\n",
    "print(\"22+a5_3=\\n{}\\n\".format(a5_4_1))\n",
    "a5_4_2 = np.add(a5_3,22)\n",
    "print(\"a5_3+22=\\n{}\\n\".format(a5_4_2))\n",
    "\n",
    "print(\"Subtraction operations\\n\")\n",
    "a5_5 = np.subtract(a5_2,a5_3)\n",
    "print(\"a5_2-a5_3=\\n{}\\n\".format(a5_5))\n",
    "\n",
    "print(\"Multiplication operations\\n\")\n",
    "a5_6 = np.multiply(a5_2,a5_3) \n",
    "print(\"a5_2*a5_3=\\n{}\\n\".format(a5_6))\n",
    "a5_6_1 = np.multiply(437,a5_3) \n",
    "print(\"437*a5_3=\\n{}\\n\".format(a5_6_1))\n",
    "a5_6_2 = np.multiply(a5_3,437) \n",
    "print(\"a5_3*437=\\n{}\\n\".format(a5_6_2))\n",
    "\n",
    "print(\"Division operations\\n\")\n",
    "a5_7 = np.divide(a5_2,a5_3)\n",
    "print(\"a5_2/a5_3=\\n{}\\n\".format(a5_7))\n",
    "\n",
    "print(\"Miscelleneous operations\\n\")\n",
    "a5_8 = np.square(a5_2)\n",
    "print(\"elementwise (a5_2)^2=\\n{}\".format(a5_8))\n",
    "\n",
    "a5_9 = np.sqrt(a5_8)\n",
    "print(\"\\nsqrt(a5_8)=\\n{}\".format(a5_8))"
   ]
  },
  {
   "cell_type": "markdown",
   "metadata": {},
   "source": [
    "## Matrix operations"
   ]
  },
  {
   "cell_type": "code",
   "execution_count": 26,
   "metadata": {},
   "outputs": [
    {
     "name": "stdout",
     "output_type": "stream",
     "text": [
      "a14=\n",
      "[[1 1 1]\n",
      " [2 2 2]]\n",
      "\n",
      "a15=\n",
      "[[1]\n",
      " [2]\n",
      " [3]]\n",
      "\n",
      "np.dot operation of matrix shapes (2, 3) and (3, 1) is a (2, 1) shaped matrix = \n",
      "[[ 6]\n",
      " [12]]\n"
     ]
    }
   ],
   "source": [
    "a14 = np.array([[1,1,1], [2,2,2]])\n",
    "a15 = np.array([[1],[2],[3]])\n",
    "print(\"a14=\\n{}\\n\\na15=\\n{}\\n\".format(a14, a15))\n",
    "print(\"np.dot operation of matrix shapes {} and {} is a {} shaped matrix = \\n{}\".format(a14.shape, a15.shape, np.dot(a14,a15).shape, np.dot(a14,a15)))"
   ]
  },
  {
   "cell_type": "markdown",
   "metadata": {},
   "source": [
    "## Applying functions on all elements\n",
    "### Square each item in the array"
   ]
  },
  {
   "cell_type": "code",
   "execution_count": 27,
   "metadata": {},
   "outputs": [
    {
     "name": "stdout",
     "output_type": "stream",
     "text": [
      "squares=[ 1  4  9 16 25]\n",
      "Using np.square(x)=[ 1  4  9 16 25]\n"
     ]
    }
   ],
   "source": [
    "x = np.array([1, 2, 3, 4, 5])\n",
    "f = lambda x: x ** 2\n",
    "squares = f(x)\n",
    "#print(squares)\n",
    "print(\"squares={}\\nUsing np.square(x)={}\".format(squares, np.square(x)))"
   ]
  },
  {
   "cell_type": "markdown",
   "metadata": {},
   "source": [
    "### Applying sigmoid function (1/(1+e^-z))"
   ]
  },
  {
   "cell_type": "code",
   "execution_count": 28,
   "metadata": {},
   "outputs": [
    {
     "name": "stdout",
     "output_type": "stream",
     "text": [
      "Applying sigmoid function to all the elements:\n",
      "[[0.99987661 0.99999996 0.9999546  0.99999999]\n",
      " [0.99999774 0.99999917 0.99999989 0.99999386]\n",
      " [0.99987661 0.98201379 0.9999833  0.99330715]]\n"
     ]
    }
   ],
   "source": [
    "a = np.random.randint(20, size=(3,4))\n",
    "a_sigmoid = 1/(1+np.exp(-a))\n",
    "print(\"Applying sigmoid function to all the elements:\\n{}\".format(a_sigmoid))"
   ]
  },
  {
   "cell_type": "markdown",
   "metadata": {},
   "source": [
    "### Return True/False based on some threshold"
   ]
  },
  {
   "cell_type": "code",
   "execution_count": 29,
   "metadata": {
    "scrolled": true
   },
   "outputs": [
    {
     "name": "stdout",
     "output_type": "stream",
     "text": [
      "[False False  True  True  True]\n"
     ]
    }
   ],
   "source": [
    "x = np.array([1, 2, 3, 4, 5])\n",
    "threshold = 2.9\n",
    "one_zeros = x > threshold\n",
    "print(one_zeros)"
   ]
  },
  {
   "cell_type": "markdown",
   "metadata": {},
   "source": [
    "# Accessing  array elements\n",
    "## Individual elements of the array"
   ]
  },
  {
   "cell_type": "code",
   "execution_count": 30,
   "metadata": {},
   "outputs": [
    {
     "name": "stdout",
     "output_type": "stream",
     "text": [
      "a16=\n",
      "[[1 2 3 4 5 6]]\n",
      "\n",
      "a16[0][5]=6\n"
     ]
    }
   ],
   "source": [
    "a16 = np.array([[1,2,3,4,5,6]])\n",
    "print(\"a16=\\n{}\\n\\na16[0][5]={}\".format(a16,a16[0][5]))"
   ]
  },
  {
   "cell_type": "markdown",
   "metadata": {},
   "source": [
    "# Structured data"
   ]
  },
  {
   "cell_type": "code",
   "execution_count": 37,
   "metadata": {},
   "outputs": [
    {
     "name": "stdout",
     "output_type": "stream",
     "text": [
      "a=[('Alice', 31, 70.2 ) ('Grace', 42, 45.34) ('Tom', 53, 54.23)\n",
      " ('Vim', 64, 32.  )]\n",
      "a['age']=[31 42 53 64]  a['name']=['Alice' 'Grace' 'Tom' 'Vim']\n",
      "a[0]=('Alice', 31, 70.2)\n"
     ]
    }
   ],
   "source": [
    "name = [\"Alice\", \"Grace\", \"Tom\", \"Vim\"]\n",
    "age = [31,42,53,64]\n",
    "weight = [70.2,45.34,54.23,32]\n",
    "a = np.zeros(4, dtype={'names':('name', 'age', 'weight'),\n",
    "                       'formats':('U10','i4','f8')})\n",
    "a['name'] = name\n",
    "a['age'] = age\n",
    "a['weight'] = weight\n",
    "print(\"a={}\".format(a))\n",
    "print(\"a['age']={}  a['name']={}\".format(a['age'], a['name']))\n",
    "print(\"a[0]={}\".format(a[0]))  # Note the difference to the Pandas dataframe object which cannot be accessed \n",
    "                               # row-wise, where as here it is possible"
   ]
  },
  {
   "cell_type": "markdown",
   "metadata": {},
   "source": [
    "# References\n",
    "\n",
    "* [Numpy axes explained](https://www.sharpsightlabs.com/blog/numpy-axes-explained/)"
   ]
  }
 ],
 "metadata": {
  "kernelspec": {
   "display_name": "Python 3",
   "language": "python",
   "name": "python3"
  },
  "language_info": {
   "codemirror_mode": {
    "name": "ipython",
    "version": 3
   },
   "file_extension": ".py",
   "mimetype": "text/x-python",
   "name": "python",
   "nbconvert_exporter": "python",
   "pygments_lexer": "ipython3",
   "version": "3.7.10"
  }
 },
 "nbformat": 4,
 "nbformat_minor": 2
}
