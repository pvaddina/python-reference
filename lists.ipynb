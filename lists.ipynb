{
 "cells": [
  {
   "cell_type": "markdown",
   "metadata": {},
   "source": [
    "# Lists\n",
    "## Creation and initialization"
   ]
  },
  {
   "cell_type": "code",
   "execution_count": 24,
   "metadata": {},
   "outputs": [
    {
     "name": "stdout",
     "output_type": "stream",
     "text": [
      "hetList=[1, 'a', 'Some text', 34.553, False]\n",
      "contList=[1, 2, 3, 4, 5, 6, 7, 8, 9]\n"
     ]
    }
   ],
   "source": [
    "# Create a heterogeneous list\n",
    "hetList = [1, 'a', \"Some text\", 34.553, False]\n",
    "\n",
    "# Continuous range of values\n",
    "contList = list(range(1,10,1))\n",
    "\n",
    "print(\"hetList={}\\ncontList={}\".format(hetList, contList))"
   ]
  },
  {
   "cell_type": "markdown",
   "metadata": {},
   "source": [
    "## Initializing lists with other lists\n",
    "### Copy lists"
   ]
  },
  {
   "cell_type": "code",
   "execution_count": 42,
   "metadata": {},
   "outputs": [
    {
     "name": "stdout",
     "output_type": "stream",
     "text": [
      "a=[1, 2, 3], b=[1, 2, 3]\n",
      "a=[1, 2, 999], b=[1, 2, 999]\n",
      "a=[1, 2, 999], c=[1, 2, 999]\n",
      "a=[1, 2, 999], c=[437, 2, 999]\n"
     ]
    }
   ],
   "source": [
    "a = list(range(1,4))\n",
    "\n",
    "# Assign list 'b' to 'a'\n",
    "b = a\n",
    "print(\"a={}, b={}\".format(a,b))\n",
    "\n",
    "# Change the value at index=2\n",
    "b[2] = 999\n",
    "\n",
    "# Observe changing 'b' also effects 'a'\n",
    "print(\"a={}, b={}\".format(a,b))\n",
    "\n",
    "# Make a real copy of 'a'\n",
    "c = a.copy()\n",
    "print(\"a={}, c={}\".format(a,c))\n",
    "c[0] = 437\n",
    "print(\"a={}, c={}\".format(a,c))"
   ]
  },
  {
   "cell_type": "code",
   "execution_count": 43,
   "metadata": {},
   "outputs": [
    {
     "name": "stdout",
     "output_type": "stream",
     "text": [
      "[0, 2, 4, 6]\n"
     ]
    }
   ],
   "source": [
    "p = [0, 1, 2, 3, 4, 5, 6 ] \n",
    "q = [i for i in p if i%2 == 0 ]\n",
    "print(q)"
   ]
  },
  {
   "cell_type": "markdown",
   "metadata": {},
   "source": [
    "## Get indices of desired items from the list  "
   ]
  },
  {
   "cell_type": "code",
   "execution_count": 28,
   "metadata": {},
   "outputs": [
    {
     "data": {
      "text/plain": [
       "[2, 4, 5]"
      ]
     },
     "execution_count": 28,
     "metadata": {},
     "output_type": "execute_result"
    }
   ],
   "source": [
    "p = [1, 2, 0, 3, 0, 0, 6 ] \n",
    "z = [idx for idx,value in enumerate(p) if value == 0] \n",
    "z "
   ]
  },
  {
   "cell_type": "markdown",
   "metadata": {},
   "source": [
    "## Sorting the lists based on some function "
   ]
  },
  {
   "cell_type": "code",
   "execution_count": 12,
   "metadata": {},
   "outputs": [
    {
     "data": {
      "text/plain": [
       "[[8], [8, 7], [1, 2, 3], [2, 3, 4, 5], [3, 4, 5, 6, 4, 5, 6]]"
      ]
     },
     "execution_count": 12,
     "metadata": {},
     "output_type": "execute_result"
    }
   ],
   "source": [
    "p = [[1,2,3], [3,4,5,6,4,5,6], [8,7], [2,3,4,5], [8]] \n",
    "sortFunc = lambda item: len(item) \n",
    "sorted(p, key=sortFunc) "
   ]
  },
  {
   "cell_type": "markdown",
   "metadata": {},
   "source": [
    "## Printing a list of strings, with a specific seperator (newline) in this example"
   ]
  },
  {
   "cell_type": "code",
   "execution_count": 29,
   "metadata": {},
   "outputs": [
    {
     "name": "stdout",
     "output_type": "stream",
     "text": [
      "one-->two-->three\n"
     ]
    }
   ],
   "source": [
    "l = [\"one\", \"two\", \"three\"] \n",
    "print(\"-->\".join(l)) "
   ]
  },
  {
   "cell_type": "markdown",
   "metadata": {},
   "source": [
    "## Miscelleneous"
   ]
  },
  {
   "cell_type": "code",
   "execution_count": 14,
   "metadata": {},
   "outputs": [
    {
     "data": {
      "text/plain": [
       "[]"
      ]
     },
     "execution_count": 14,
     "metadata": {},
     "output_type": "execute_result"
    }
   ],
   "source": [
    "a = [1,2,3,4,5,6,7,8,9]\n",
    "a[-2:2]"
   ]
  }
 ],
 "metadata": {
  "kernelspec": {
   "display_name": "Python 3",
   "language": "python",
   "name": "python3"
  },
  "language_info": {
   "codemirror_mode": {
    "name": "ipython",
    "version": 3
   },
   "file_extension": ".py",
   "mimetype": "text/x-python",
   "name": "python",
   "nbconvert_exporter": "python",
   "pygments_lexer": "ipython3",
   "version": "3.7.3"
  }
 },
 "nbformat": 4,
 "nbformat_minor": 2
}
