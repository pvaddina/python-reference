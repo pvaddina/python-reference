{
 "cells": [
  {
   "cell_type": "markdown",
   "metadata": {},
   "source": [
    "# Lists\n",
    "## Creation and initialization\n",
    "### Common Initialization techniques"
   ]
  },
  {
   "cell_type": "code",
   "execution_count": 1,
   "metadata": {},
   "outputs": [
    {
     "name": "stdout",
     "output_type": "stream",
     "text": [
      "hetList=[1, 'a', 'Some text', 34.553, False]\n",
      "contList=[1, 2, 3, 4, 5, 6, 7, 8, 9]\n"
     ]
    }
   ],
   "source": [
    "# Create a heterogeneous list\n",
    "hetList = [1, 'a', \"Some text\", 34.553, False]\n",
    "\n",
    "# Continuous range of values\n",
    "contList = list(range(1,10,1))\n",
    "\n",
    "print(\"hetList={}\\ncontList={}\".format(hetList, contList))"
   ]
  },
  {
   "cell_type": "code",
   "execution_count": 2,
   "metadata": {},
   "outputs": [
    {
     "name": "stdout",
     "output_type": "stream",
     "text": [
      "L1= [7, 12, 19, 28, 39, 52, 10003]\n"
     ]
    }
   ],
   "source": [
    "vgen = lambda x: (x*x)+(2*x)+4\n",
    "l1 = [vgen(v) for v in [1,2,3,4,5,6,99]]\n",
    "print(\"L1=\", l1)"
   ]
  },
  {
   "cell_type": "code",
   "execution_count": 3,
   "metadata": {},
   "outputs": [
    {
     "name": "stdout",
     "output_type": "stream",
     "text": [
      "L1= [[1, 2, 3, 4, 5, 6], [2, 3, 4, 5, 6, 7, 8, 9, 10, 11], [3, 4, 5, 6, 7, 8, 9, 10, 11, 12, 13, 14, 15, 16, 17, 18]]\n"
     ]
    }
   ],
   "source": [
    "vgen = lambda x: (x*x)+(2*x)+4\n",
    "lgen = lambda x: list(range(x,vgen(x)))\n",
    "l1 = [lgen(v) for v in [1,2,3]]\n",
    "print(\"L1=\", l1)"
   ]
  },
  {
   "cell_type": "code",
   "execution_count": 4,
   "metadata": {},
   "outputs": [
    {
     "data": {
      "text/plain": [
       "[0, 0, 0, 0, 0, 0, 0, 0, 0, 0]"
      ]
     },
     "execution_count": 4,
     "metadata": {},
     "output_type": "execute_result"
    }
   ],
   "source": [
    "l = [0 for i in range(0,10)]\n",
    "l"
   ]
  },
  {
   "cell_type": "markdown",
   "metadata": {},
   "source": [
    "### Initializing lists from other lists"
   ]
  },
  {
   "cell_type": "code",
   "execution_count": 4,
   "metadata": {},
   "outputs": [
    {
     "name": "stdout",
     "output_type": "stream",
     "text": [
      "a=[1, 2, 3], b=[1, 2, 3]\n",
      "a=[1, 2, 999], b=[1, 2, 999]\n",
      "a=[1, 2, 999], c=[1, 2, 999]\n",
      "a=[1, 2, 999], c=[437, 2, 999]\n"
     ]
    }
   ],
   "source": [
    "a = list(range(1,4))\n",
    "\n",
    "# Assign list 'b' to 'a'\n",
    "b = a\n",
    "print(\"a={}, b={}\".format(a,b))\n",
    "\n",
    "# Change the value at index=2\n",
    "b[2] = 999\n",
    "\n",
    "# Observe changing 'b' also effects 'a'\n",
    "print(\"a={}, b={}\".format(a,b))\n",
    "\n",
    "# Make a real copy of 'a'\n",
    "c = a.copy()\n",
    "print(\"a={}, c={}\".format(a,c))\n",
    "c[0] = 437\n",
    "print(\"a={}, c={}\".format(a,c))"
   ]
  },
  {
   "cell_type": "code",
   "execution_count": 18,
   "metadata": {},
   "outputs": [
    {
     "name": "stdout",
     "output_type": "stream",
     "text": [
      "q= [0, 2, 4, 6] \n",
      "r= <generator object <genexpr> at 0x000001A4B00AF930>\n"
     ]
    }
   ],
   "source": [
    "p = [0, 1, 2, 3, 4, 5, 6 ] \n",
    "q = [i for i in p if i%2 == 0 ]\n",
    "r = (i for i in p if i%2 == 0)\n",
    "print(\"q=\", q, \"\\nr=\", r)"
   ]
  },
  {
   "cell_type": "markdown",
   "metadata": {},
   "source": [
    "## Modifying a list"
   ]
  },
  {
   "cell_type": "code",
   "execution_count": 6,
   "metadata": {},
   "outputs": [
    {
     "data": {
      "text/plain": [
       "[1, 'a', 34.553, False]"
      ]
     },
     "execution_count": 6,
     "metadata": {},
     "output_type": "execute_result"
    }
   ],
   "source": [
    "# Remove an item in the list\n",
    "hetList = [1, 'a', \"Some text\", 34.553, False]\n",
    "hetList.remove(\"Some text\")\n",
    "hetList"
   ]
  },
  {
   "cell_type": "code",
   "execution_count": 7,
   "metadata": {},
   "outputs": [
    {
     "data": {
      "text/plain": [
       "[]"
      ]
     },
     "execution_count": 7,
     "metadata": {},
     "output_type": "execute_result"
    }
   ],
   "source": [
    "# Clear a list\n",
    "a = [1, 2, 3, 4, 5]\n",
    "a.clear()\n",
    "a"
   ]
  },
  {
   "cell_type": "code",
   "execution_count": 4,
   "metadata": {},
   "outputs": [
    {
     "data": {
      "text/plain": [
       "[1, 2, 3, 4, 5, [6, 7, 8]]"
      ]
     },
     "execution_count": 4,
     "metadata": {},
     "output_type": "execute_result"
    }
   ],
   "source": [
    "# Appending using the append function\n",
    "a = [1, 2, 3, 4, 5]\n",
    "a.append([6,7,8]) # This will append the list as a single element creating a heterogeneous list\n",
    "a"
   ]
  },
  {
   "cell_type": "code",
   "execution_count": 8,
   "metadata": {},
   "outputs": [
    {
     "data": {
      "text/plain": [
       "[1, 2, 3, 4, 5, 6, 7, 8]"
      ]
     },
     "execution_count": 8,
     "metadata": {},
     "output_type": "execute_result"
    }
   ],
   "source": [
    "# Appending to a list\n",
    "a = [1, 2, 3, 4, 5]\n",
    "a.append(6)\n",
    "a.append(7)\n",
    "a.append(8)\n",
    "a"
   ]
  },
  {
   "cell_type": "code",
   "execution_count": 6,
   "metadata": {},
   "outputs": [
    {
     "data": {
      "text/plain": [
       "[1, 2, 3, 4, 5, 6, 7, 8]"
      ]
     },
     "execution_count": 6,
     "metadata": {},
     "output_type": "execute_result"
    }
   ],
   "source": [
    "# Appending using the extend function\n",
    "a = [1, 2, 3, 4, 5]\n",
    "a.extend([6,7,8])\n",
    "a"
   ]
  },
  {
   "cell_type": "code",
   "execution_count": 1,
   "metadata": {},
   "outputs": [
    {
     "data": {
      "text/plain": [
       "['amount3', 'interest3', 'emi3']"
      ]
     },
     "execution_count": 1,
     "metadata": {},
     "output_type": "execute_result"
    }
   ],
   "source": [
    "l = [\"amount\",\"interest\",\"emi\"]\n",
    "intVal = 3\n",
    "lNew = [item+str(intVal) for item in l]\n",
    "lNew"
   ]
  },
  {
   "cell_type": "markdown",
   "metadata": {},
   "source": [
    "## Accessing a list\n",
    "### Get indices of desired items from the list  "
   ]
  },
  {
   "cell_type": "code",
   "execution_count": 8,
   "metadata": {},
   "outputs": [
    {
     "data": {
      "text/plain": [
       "[2, 4, 5]"
      ]
     },
     "execution_count": 8,
     "metadata": {},
     "output_type": "execute_result"
    }
   ],
   "source": [
    "p = [1, 2, 0, 3, 0, 0, 6 ] \n",
    "z = [idx for idx,value in enumerate(p) if value == 0] \n",
    "z "
   ]
  },
  {
   "cell_type": "markdown",
   "metadata": {},
   "source": [
    "## Sorting \n",
    "### Sorting based on some function "
   ]
  },
  {
   "cell_type": "code",
   "execution_count": 9,
   "metadata": {},
   "outputs": [
    {
     "data": {
      "text/plain": [
       "[[8], [8, 7], [1, 2, 3], [2, 3, 4, 5], [3, 4, 5, 6, 4, 5, 6]]"
      ]
     },
     "execution_count": 9,
     "metadata": {},
     "output_type": "execute_result"
    }
   ],
   "source": [
    "p = [[1,2,3], [3,4,5,6,4,5,6], [8,7], [2,3,4,5], [8]] \n",
    "sortFunc = lambda item: len(item) \n",
    "sorted(p, key=sortFunc) "
   ]
  },
  {
   "cell_type": "markdown",
   "metadata": {},
   "source": [
    "## Printing lists"
   ]
  },
  {
   "cell_type": "code",
   "execution_count": 10,
   "metadata": {},
   "outputs": [
    {
     "name": "stdout",
     "output_type": "stream",
     "text": [
      "one-->two-->three\n"
     ]
    }
   ],
   "source": [
    "# Print a list of strings, with a specific seperator (newline) in this example\n",
    "l = [\"one\", \"two\", \"three\"] \n",
    "print(\"-->\".join(l)) "
   ]
  },
  {
   "cell_type": "markdown",
   "metadata": {},
   "source": [
    "## Miscelleneous"
   ]
  },
  {
   "cell_type": "code",
   "execution_count": 11,
   "metadata": {},
   "outputs": [
    {
     "data": {
      "text/plain": [
       "[]"
      ]
     },
     "execution_count": 11,
     "metadata": {},
     "output_type": "execute_result"
    }
   ],
   "source": [
    "a = [1,2,3,4,5,6,7,8,9]\n",
    "a[2:2] # ????"
   ]
  },
  {
   "cell_type": "markdown",
   "metadata": {},
   "source": [
    "# Comparison"
   ]
  },
  {
   "cell_type": "code",
   "execution_count": 1,
   "metadata": {},
   "outputs": [
    {
     "name": "stdout",
     "output_type": "stream",
     "text": [
      "a==b:  True\n",
      "b==c:  False\n"
     ]
    }
   ],
   "source": [
    "a = [1,2,99]\n",
    "b = [1,2,99]\n",
    "c = [99,2,99]\n",
    "print(\"a==b: \", a==b)\n",
    "print(\"b==c: \", b==c)"
   ]
  },
  {
   "cell_type": "code",
   "execution_count": 2,
   "metadata": {},
   "outputs": [
    {
     "name": "stdout",
     "output_type": "stream",
     "text": [
      "a==b:  True\n",
      "b==c:  False\n"
     ]
    }
   ],
   "source": [
    "a = [1.453,2.564,999]\n",
    "b = [1.453,2.564,999]\n",
    "c = [99,2,99]\n",
    "print(\"a==b: \", a==b)\n",
    "print(\"b==c: \", b==c)"
   ]
  },
  {
   "cell_type": "code",
   "execution_count": 3,
   "metadata": {},
   "outputs": [
    {
     "name": "stdout",
     "output_type": "stream",
     "text": [
      "a==b:  True\n",
      "b==c:  False\n"
     ]
    }
   ],
   "source": [
    "a = [[1.453,2.564,999], [1.453,2.564,999], [99,2,99]]\n",
    "b = [[1.453,2.564,999], [1.453,2.564,999], [99,2,99]]\n",
    "c = [[1.453,2.564,999], [1.453,2.56467,999], [99,2,99]]\n",
    "print(\"a==b: \", a==b)\n",
    "print(\"b==c: \", b==c)"
   ]
  },
  {
   "cell_type": "code",
   "execution_count": 2,
   "metadata": {},
   "outputs": [
    {
     "name": "stdout",
     "output_type": "stream",
     "text": [
      "Checking if all values of list are true:  False False True\n"
     ]
    }
   ],
   "source": [
    "a = [True, False, False, True]\n",
    "b = [False, False, False]\n",
    "c = [True, True, True, True, True]\n",
    "print(\"Checking if all values of list are true: \", all(bRes for bRes in a), all(bRes for bRes in b), all(bRes for bRes in c))"
   ]
  },
  {
   "cell_type": "code",
   "execution_count": 3,
   "metadata": {},
   "outputs": [
    {
     "name": "stdout",
     "output_type": "stream",
     "text": [
      "Checking if all values of list are <=9:  True False True\n"
     ]
    }
   ],
   "source": [
    "a = [3, 2, 8, 9]\n",
    "b = [12, 9, 3]\n",
    "c = [2,4,7,9,2,5,7,9]\n",
    "print(\"Checking if all values of list are <=9: \", all(bRes<=9 for bRes in a), all(bRes<=9 for bRes in b), all(bRes<=9 for bRes in c))"
   ]
  }
 ],
 "metadata": {
  "kernelspec": {
   "display_name": "Python 3 (ipykernel)",
   "language": "python",
   "name": "python3"
  },
  "language_info": {
   "codemirror_mode": {
    "name": "ipython",
    "version": 3
   },
   "file_extension": ".py",
   "mimetype": "text/x-python",
   "name": "python",
   "nbconvert_exporter": "python",
   "pygments_lexer": "ipython3",
   "version": "3.9.7"
  }
 },
 "nbformat": 4,
 "nbformat_minor": 2
}
