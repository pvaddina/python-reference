{
 "cells": [
  {
   "cell_type": "markdown",
   "metadata": {},
   "source": [
    "# Dictionary"
   ]
  },
  {
   "cell_type": "markdown",
   "metadata": {},
   "source": [
    "## Initialization"
   ]
  },
  {
   "cell_type": "code",
   "execution_count": 1,
   "metadata": {},
   "outputs": [
    {
     "data": {
      "text/plain": [
       "{'name': 'Tom',\n",
       " 'age': 43,\n",
       " 'address': ['H.No: 10-64',\n",
       "  'Vinayak Nagar',\n",
       "  'Balanagar',\n",
       "  'Vierkirchen',\n",
       "  'Munich']}"
      ]
     },
     "execution_count": 1,
     "metadata": {},
     "output_type": "execute_result"
    }
   ],
   "source": [
    "a = {\"name\": \"Tom\",\n",
    "     \"age\" : 43,\n",
    "     \"address\": [\"H.No: 10-64\", \"Vinayak Nagar\", \"Balanagar\", \"Vierkirchen\", \"Munich\"]}\n",
    "a"
   ]
  },
  {
   "cell_type": "code",
   "execution_count": 2,
   "metadata": {},
   "outputs": [
    {
     "data": {
      "text/plain": [
       "{'name': 'Tom',\n",
       " 'age': 43,\n",
       " 'address': 'H.No: 10-64, Vinayak Nagar, Balanagar, Vierkirchen, Munich'}"
      ]
     },
     "execution_count": 2,
     "metadata": {},
     "output_type": "execute_result"
    }
   ],
   "source": [
    "a = {}\n",
    "a['name'] = 'Tom'\n",
    "a['age'] = 43\n",
    "a['address'] = \"H.No: 10-64, Vinayak Nagar, Balanagar, Vierkirchen, Munich\"\n",
    "a"
   ]
  },
  {
   "cell_type": "markdown",
   "metadata": {},
   "source": [
    "## Modification"
   ]
  },
  {
   "cell_type": "markdown",
   "metadata": {},
   "source": [
    "### Append/join two dictionaries"
   ]
  },
  {
   "cell_type": "code",
   "execution_count": 3,
   "metadata": {},
   "outputs": [
    {
     "data": {
      "text/plain": [
       "{'name': 'Jim',\n",
       " 'age': 55,\n",
       " 'married': True,\n",
       " 'children': 100,\n",
       " 'streed': 'UnterStr',\n",
       " 'housenum': 99,\n",
       " 'pin': '23493',\n",
       " 'city': 'Shanghai'}"
      ]
     },
     "execution_count": 3,
     "metadata": {},
     "output_type": "execute_result"
    }
   ],
   "source": [
    "address = {\n",
    "    \"streed\": \"UnterStr\",\n",
    "    \"housenum\": 99,\n",
    "    \"pin\": \"23493\",\n",
    "    \"city\": \"Shanghai\"\n",
    "}\n",
    "personal = {\n",
    "    \"name\": \"Jim\",\n",
    "    \"age\": 55,\n",
    "    \"married\": True,\n",
    "    \"children\": 100\n",
    "}\n",
    "personal.update(address)\n",
    "personal"
   ]
  },
  {
   "cell_type": "markdown",
   "metadata": {},
   "source": [
    "### Clear the complete dictionary"
   ]
  },
  {
   "cell_type": "code",
   "execution_count": 4,
   "metadata": {},
   "outputs": [
    {
     "data": {
      "text/plain": [
       "{}"
      ]
     },
     "execution_count": 4,
     "metadata": {},
     "output_type": "execute_result"
    }
   ],
   "source": [
    "a = {\"name\": \"Tom\", \"age\" : 43, \"address\": [\"H.No: 10-64\", \"Vinayak Nagar\", \"Balanagar\", \"Vierkirchen\", \"Munich\"]}\n",
    "a.clear()\n",
    "a"
   ]
  },
  {
   "cell_type": "markdown",
   "metadata": {},
   "source": [
    "### Removing items from a dictionary"
   ]
  },
  {
   "cell_type": "code",
   "execution_count": 32,
   "metadata": {},
   "outputs": [
    {
     "data": {
      "text/plain": [
       "{'name': 'Tom',\n",
       " 'age': 43,\n",
       " 'address': ['H.No: 10-64', 'Vinayak Nagar', 'Vierkirchen', 'Munich']}"
      ]
     },
     "execution_count": 32,
     "metadata": {},
     "output_type": "execute_result"
    }
   ],
   "source": [
    "a = {\"name\": \"Tom\", \"age\" : 43, \"address\": [\"H.No: 10-64\", \"Vinayak Nagar\", \"Vierkirchen\", \"Munich\"]}\n",
    "a"
   ]
  },
  {
   "cell_type": "code",
   "execution_count": 33,
   "metadata": {},
   "outputs": [
    {
     "data": {
      "text/plain": [
       "{'name': 'Tom', 'age': 43}"
      ]
     },
     "execution_count": 33,
     "metadata": {},
     "output_type": "execute_result"
    }
   ],
   "source": [
    "del(a['address'])\n",
    "a"
   ]
  },
  {
   "cell_type": "code",
   "execution_count": 34,
   "metadata": {},
   "outputs": [
    {
     "name": "stdout",
     "output_type": "stream",
     "text": [
      "ERROR !!! Cannot delete a non-existing key.\n"
     ]
    }
   ],
   "source": [
    "# Removing a non-existing key from a dictionary is NOT OK. Will throw a 'KeyError' exception\n",
    "try:\n",
    "    del(a['address'])\n",
    "except KeyError:\n",
    "    print(\"ERROR !!! Cannot delete a non-existing key.\")"
   ]
  },
  {
   "cell_type": "code",
   "execution_count": 39,
   "metadata": {},
   "outputs": [
    {
     "data": {
      "text/plain": [
       "{'name': 'Tom', 'age': 43}"
      ]
     },
     "execution_count": 39,
     "metadata": {},
     "output_type": "execute_result"
    }
   ],
   "source": [
    "a = {\"name\": \"Tom\", \"age\" : 43, \"address\": [\"H.No: 10-64\", \"Vinayak Nagar\", \"Vierkirchen\", \"Munich\"]}\n",
    "address = a.pop(\"address\")\n",
    "a"
   ]
  },
  {
   "cell_type": "code",
   "execution_count": 40,
   "metadata": {},
   "outputs": [
    {
     "data": {
      "text/plain": [
       "['H.No: 10-64', 'Vinayak Nagar', 'Vierkirchen', 'Munich']"
      ]
     },
     "execution_count": 40,
     "metadata": {},
     "output_type": "execute_result"
    }
   ],
   "source": [
    "address"
   ]
  },
  {
   "cell_type": "code",
   "execution_count": 38,
   "metadata": {},
   "outputs": [
    {
     "name": "stdout",
     "output_type": "stream",
     "text": [
      "ERROR !!! Cannot delete a non-existing key.\n"
     ]
    }
   ],
   "source": [
    "# Popping a non-existing value will throw a KeyError exception\n",
    "try:\n",
    "    print(a.pop('address'))\n",
    "except KeyError:\n",
    "    print(\"ERROR !!! Cannot delete a non-existing key.\")"
   ]
  },
  {
   "cell_type": "markdown",
   "metadata": {},
   "source": [
    "# Checking"
   ]
  },
  {
   "cell_type": "code",
   "execution_count": 7,
   "metadata": {},
   "outputs": [
    {
     "name": "stdout",
     "output_type": "stream",
     "text": [
      "'name' in a: True\n",
      "'age' in a: True\n",
      "'address' in a: True\n",
      "'profession' in a: False\n"
     ]
    }
   ],
   "source": [
    "a = {\"name\": \"Tom\", \"age\" : 43, \"address\": [\"H.No: 10-64\", \"Vinayak Nagar\", \"Balanagar\", \"Vierkirchen\", \"Munich\"]}\n",
    "print(\"'name' in a: {}\".format('name' in a))\n",
    "print(\"'age' in a: {}\".format('age' in a))\n",
    "print(\"'address' in a: {}\".format('address' in a))\n",
    "print(\"'profession' in a: {}\".format('profession' in a))"
   ]
  },
  {
   "cell_type": "markdown",
   "metadata": {},
   "source": [
    "# Iteration"
   ]
  },
  {
   "cell_type": "markdown",
   "metadata": {},
   "source": [
    "### Accessing the keys"
   ]
  },
  {
   "cell_type": "code",
   "execution_count": 8,
   "metadata": {},
   "outputs": [
    {
     "name": "stdout",
     "output_type": "stream",
     "text": [
      "Keys of the dictionary a: \n",
      "name\n",
      "age\n",
      "address\n",
      "\n",
      "Another way to access the keys: \n",
      "name\n",
      "age\n",
      "address\n"
     ]
    }
   ],
   "source": [
    "# Accessing the keys !!\n",
    "a = {\"name\": \"Tom\", \"age\" : 43, \"address\": [\"H.No: 10-64\", \"Vinayak Nagar\", \"Balanagar\", \"Vierkirchen\", \"Munich\"]}\n",
    "print(\"Keys of the dictionary a: \")\n",
    "for key in a:\n",
    "    print(key)\n",
    "    \n",
    "print(\"\\nAnother way to access the keys: \")\n",
    "for key in a.keys():\n",
    "    print(key)"
   ]
  },
  {
   "cell_type": "markdown",
   "metadata": {},
   "source": [
    "### Accessing the values"
   ]
  },
  {
   "cell_type": "code",
   "execution_count": 9,
   "metadata": {},
   "outputs": [
    {
     "name": "stdout",
     "output_type": "stream",
     "text": [
      "\n",
      "Values of the dictionary a: \n",
      "Tom\n",
      "43\n",
      "['H.No: 10-64', 'Vinayak Nagar', 'Balanagar', 'Vierkirchen', 'Munich']\n",
      "\n",
      "Get value for key(name) using get(): Tom\n",
      "Get value for non-existing key(unknown) using get() with custom message: ERROR!!!The value does not exist\n",
      "Get value for non-existing key(unknown) using get() with default value: 999999999\n",
      "get() method by default returns None if the value does not exist: None\n"
     ]
    }
   ],
   "source": [
    "a = {\"name\": \"Tom\", \"age\" : 43, \"address\": [\"H.No: 10-64\", \"Vinayak Nagar\", \"Balanagar\", \"Vierkirchen\", \"Munich\"]}\n",
    "    \n",
    "print(\"\\nValues of the dictionary a: \")\n",
    "for value in a.values():\n",
    "    print(value)\n",
    "  \n",
    "# Using the get() method\n",
    "print(\"\\nGet value for key(name) using get(): {}\".format(a.get('name')))\n",
    "print(\"Get value for non-existing key(unknown) using get() with custom message: {}\".format(a.get('unknown', 'ERROR!!!The value does not exist')))\n",
    "print(\"Get value for non-existing key(unknown) using get() with default value: {}\".format(a.get('unknown', 999999999)))\n",
    "print(\"get() method by default returns None if the value does not exist: {}\".format(a.get('unknown')))"
   ]
  },
  {
   "cell_type": "markdown",
   "metadata": {},
   "source": [
    "### General iteration through the dictionary"
   ]
  },
  {
   "cell_type": "code",
   "execution_count": 10,
   "metadata": {},
   "outputs": [
    {
     "name": "stdout",
     "output_type": "stream",
     "text": [
      "name --> Tom\n",
      "age --> 43\n",
      "address --> ['H.No: 10-64', 'Vinayak Nagar', 'Balanagar', 'Vierkirchen', 'Munich']\n"
     ]
    }
   ],
   "source": [
    "a = {\"name\": \"Tom\", \"age\" : 43, \"address\": [\"H.No: 10-64\", \"Vinayak Nagar\", \"Balanagar\", \"Vierkirchen\", \"Munich\"]}\n",
    "for k in a:\n",
    "    print(\"{} --> {}\".format(k, a[k]))"
   ]
  },
  {
   "cell_type": "markdown",
   "metadata": {},
   "source": [
    "## Use a dictionary to set variables in a string\n",
    "### Complete replacement"
   ]
  },
  {
   "cell_type": "code",
   "execution_count": 11,
   "metadata": {},
   "outputs": [
    {
     "data": {
      "text/plain": [
       "'my name is Tom. I am 99 years old. I live at City center, Washington'"
      ]
     },
     "execution_count": 11,
     "metadata": {},
     "output_type": "execute_result"
    }
   ],
   "source": [
    "details = {\n",
    "    \"name\": \"Tom\",\n",
    "    \"age\": 99,\n",
    "    \"address\": \"City center, Washington\"\n",
    "}\n",
    "\n",
    "cmd = \"my name is {name}. I am {age} years old. I live at {address}\"\n",
    "cmd.format(**details)"
   ]
  },
  {
   "cell_type": "markdown",
   "metadata": {},
   "source": [
    "### Partial replacement"
   ]
  },
  {
   "cell_type": "code",
   "execution_count": 12,
   "metadata": {},
   "outputs": [
    {
     "data": {
      "text/plain": [
       "'my name is Tom. I am age years old. I live at address'"
      ]
     },
     "execution_count": 12,
     "metadata": {},
     "output_type": "execute_result"
    }
   ],
   "source": [
    "unknownprops = {\n",
    "    \"name\": \"Tom\",\n",
    "    \"who\": \"lets\",\n",
    "    \"are\": \"see\",\n",
    "    \"you\": \"what happens\"\n",
    "}\n",
    "\n",
    "cmd = \"my name is {name}. I am age years old. I live at address\"\n",
    "cmd.format(**unknownprops)"
   ]
  },
  {
   "cell_type": "markdown",
   "metadata": {},
   "source": [
    "## Replacement of a dictionary of strings with variables"
   ]
  },
  {
   "cell_type": "code",
   "execution_count": 13,
   "metadata": {},
   "outputs": [
    {
     "name": "stdout",
     "output_type": "stream",
     "text": [
      "{1: 'my name is Tom. I am 99 years old. I live at City center, Washington', 2: 'Hi, I am Tom, and I am 99 years old. Now I am living at City center, Washington', 3: 'Ola, I am Tom, and I am 99 years old. Now I am living at City center, Washington'}\n"
     ]
    }
   ],
   "source": [
    "details = {\n",
    "    \"name\": \"Tom\",\n",
    "    \"age\": 99,\n",
    "    \"address\": \"City center, Washington\"\n",
    "}\n",
    "\n",
    "cmds = {\n",
    "    1: \"my name is {name}. I am {age} years old. I live at {address}\",\n",
    "    2: \"Hi, I am {name}, and I am {age} years old. Now I am living at {address}\",\n",
    "    3: \"Ola, I am {name}, and I am {age} years old. Now I am living at {address}\"\n",
    "}\n",
    "\n",
    "for key in cmds:\n",
    "    cmds[key] = cmds[key].format(**details) \n",
    "    \n",
    "print(cmds) "
   ]
  }
 ],
 "metadata": {
  "kernelspec": {
   "display_name": "Python 3",
   "language": "python",
   "name": "python3"
  },
  "language_info": {
   "codemirror_mode": {
    "name": "ipython",
    "version": 3
   },
   "file_extension": ".py",
   "mimetype": "text/x-python",
   "name": "python",
   "nbconvert_exporter": "python",
   "pygments_lexer": "ipython3",
   "version": "3.7.3"
  }
 },
 "nbformat": 4,
 "nbformat_minor": 2
}
