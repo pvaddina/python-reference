{
 "cells": [
  {
   "cell_type": "markdown",
   "metadata": {},
   "source": [
    "# Dictionary"
   ]
  },
  {
   "cell_type": "markdown",
   "metadata": {},
   "source": [
    "## Initialization"
   ]
  },
  {
   "cell_type": "markdown",
   "metadata": {},
   "source": [
    "## Modification"
   ]
  },
  {
   "cell_type": "markdown",
   "metadata": {},
   "source": [
    "### Append"
   ]
  },
  {
   "cell_type": "code",
   "execution_count": 5,
   "metadata": {},
   "outputs": [
    {
     "data": {
      "text/plain": [
       "{'name': 'Jim',\n",
       " 'age': 55,\n",
       " 'married': True,\n",
       " 'children': 100,\n",
       " 'streed': 'UnterStr',\n",
       " 'housenum': 99,\n",
       " 'pin': '23493',\n",
       " 'city': 'Shanghai'}"
      ]
     },
     "execution_count": 5,
     "metadata": {},
     "output_type": "execute_result"
    }
   ],
   "source": [
    "address = {\n",
    "    \"streed\": \"UnterStr\",\n",
    "    \"housenum\": 99,\n",
    "    \"pin\": \"23493\",\n",
    "    \"city\": \"Shanghai\"\n",
    "}\n",
    "personal = {\n",
    "    \"name\": \"Jim\",\n",
    "    \"age\": 55,\n",
    "    \"married\": True,\n",
    "    \"children\": 100\n",
    "}\n",
    "personal.update(address)\n",
    "personal"
   ]
  },
  {
   "cell_type": "markdown",
   "metadata": {},
   "source": [
    "### Clear the complete dictionary"
   ]
  },
  {
   "cell_type": "markdown",
   "metadata": {},
   "source": [
    "## Use a dictionary to set variables in a string\n",
    "### Complete replacement"
   ]
  },
  {
   "cell_type": "code",
   "execution_count": 2,
   "metadata": {},
   "outputs": [
    {
     "data": {
      "text/plain": [
       "'my name is Tom. I am 99 years old. I live at City center, Washington'"
      ]
     },
     "execution_count": 2,
     "metadata": {},
     "output_type": "execute_result"
    }
   ],
   "source": [
    "details = {\n",
    "    \"name\": \"Tom\",\n",
    "    \"age\": 99,\n",
    "    \"address\": \"City center, Washington\"\n",
    "}\n",
    "\n",
    "cmd = \"my name is {name}. I am {age} years old. I live at {address}\"\n",
    "cmd.format(**details)"
   ]
  },
  {
   "cell_type": "markdown",
   "metadata": {},
   "source": [
    "### Partial replacement"
   ]
  },
  {
   "cell_type": "code",
   "execution_count": 3,
   "metadata": {},
   "outputs": [
    {
     "data": {
      "text/plain": [
       "'my name is Tom. I am age years old. I live at address'"
      ]
     },
     "execution_count": 3,
     "metadata": {},
     "output_type": "execute_result"
    }
   ],
   "source": [
    "unknownprops = {\n",
    "    \"name\": \"Tom\",\n",
    "    \"who\": \"lets\",\n",
    "    \"are\": \"see\",\n",
    "    \"you\": \"what happens\"\n",
    "}\n",
    "\n",
    "cmd = \"my name is {name}. I am age years old. I live at address\"\n",
    "cmd.format(**unknownprops)"
   ]
  },
  {
   "cell_type": "markdown",
   "metadata": {},
   "source": [
    "## Replacement of a dictionary of strings with variables"
   ]
  },
  {
   "cell_type": "code",
   "execution_count": 4,
   "metadata": {},
   "outputs": [
    {
     "name": "stdout",
     "output_type": "stream",
     "text": [
      "{1: 'my name is Tom. I am 99 years old. I live at City center, Washington', 2: 'Hi, I am Tom, and I am 99 years old. Now I am living at City center, Washington', 3: 'Ola, I am Tom, and I am 99 years old. Now I am living at City center, Washington'}\n"
     ]
    }
   ],
   "source": [
    "details = {\n",
    "    \"name\": \"Tom\",\n",
    "    \"age\": 99,\n",
    "    \"address\": \"City center, Washington\"\n",
    "}\n",
    "\n",
    "cmds = {\n",
    "    1: \"my name is {name}. I am {age} years old. I live at {address}\",\n",
    "    2: \"Hi, I am {name}, and I am {age} years old. Now I am living at {address}\",\n",
    "    3: \"Ola, I am {name}, and I am {age} years old. Now I am living at {address}\"\n",
    "}\n",
    "\n",
    "for key in cmds:\n",
    "    cmds[key] = cmds[key].format(**details) \n",
    "    \n",
    "print(cmds) "
   ]
  }
 ],
 "metadata": {
  "kernelspec": {
   "display_name": "Python 3",
   "language": "python",
   "name": "python3"
  },
  "language_info": {
   "codemirror_mode": {
    "name": "ipython",
    "version": 3
   },
   "file_extension": ".py",
   "mimetype": "text/x-python",
   "name": "python",
   "nbconvert_exporter": "python",
   "pygments_lexer": "ipython3",
   "version": "3.7.3"
  }
 },
 "nbformat": 4,
 "nbformat_minor": 2
}
