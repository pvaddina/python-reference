{
 "cells": [
  {
   "cell_type": "code",
   "execution_count": 4,
   "metadata": {},
   "outputs": [],
   "source": [
    "import re"
   ]
  },
  {
   "cell_type": "markdown",
   "metadata": {},
   "source": [
    "# Substitution\n",
    "## String substitution using dictionary"
   ]
  },
  {
   "cell_type": "code",
   "execution_count": 5,
   "metadata": {},
   "outputs": [
    {
     "data": {
      "text/plain": [
       "'e = mc^2'"
      ]
     },
     "execution_count": 5,
     "metadata": {},
     "output_type": "execute_result"
    }
   ],
   "source": [
    "ip = { \"lhs\": \"e\", \"rhs\": \"mc^2\" }   \n",
    "formula = \"{lhs} = {rhs}\"  \n",
    "formula.format(**ip) "
   ]
  },
  {
   "cell_type": "markdown",
   "metadata": {},
   "source": [
    "## Substitute part of a string"
   ]
  },
  {
   "cell_type": "code",
   "execution_count": 6,
   "metadata": {},
   "outputs": [
    {
     "data": {
      "text/plain": [
       "'Namespace'"
      ]
     },
     "execution_count": 6,
     "metadata": {},
     "output_type": "execute_result"
    }
   ],
   "source": [
    "s = \"This is a space\"\n",
    "s.replace('This is a ', 'Name')"
   ]
  },
  {
   "cell_type": "code",
   "execution_count": 7,
   "metadata": {},
   "outputs": [
    {
     "name": "stdout",
     "output_type": "stream",
     "text": [
      "s1=Pluto is a planet\n",
      "s2=I love pluto\n",
      "s3=Is jupiter also not a planet anymore\n",
      "s4=Earth is the most beautiful planet \n"
     ]
    }
   ],
   "source": [
    "s = \"Pluto is not a planet anymore\"\n",
    "s1 = re.sub(\"not a.*$\", \"a planet\", s)\n",
    "s2 = re.sub(\".*not a.*$\", \"I love pluto\", s)\n",
    "pattern = \"not a\"\n",
    "s3 = re.sub(\".*\"+pattern, \"Is jupiter also not a\", s)\n",
    "s4 = re.sub(\".*\"+pattern+\".*$\", \"Earth is the most beautiful planet \", s)\n",
    "print(\"s1={}\\ns2={}\\ns3={}\\ns4={}\".format(s1,s2,s3,s4))"
   ]
  },
  {
   "cell_type": "markdown",
   "metadata": {},
   "source": [
    "## Stripping whitespaces"
   ]
  },
  {
   "cell_type": "code",
   "execution_count": 8,
   "metadata": {},
   "outputs": [
    {
     "data": {
      "text/plain": [
       "'Jupyter'"
      ]
     },
     "execution_count": 8,
     "metadata": {},
     "output_type": "execute_result"
    }
   ],
   "source": [
    "'   Jupyter       '.strip()"
   ]
  },
  {
   "cell_type": "code",
   "execution_count": 9,
   "metadata": {},
   "outputs": [
    {
     "data": {
      "text/plain": [
       "'Jupyter Notebook    is really             cool'"
      ]
     },
     "execution_count": 9,
     "metadata": {},
     "output_type": "execute_result"
    }
   ],
   "source": [
    "'  Jupyter Notebook    is really             cool       '.strip()"
   ]
  },
  {
   "cell_type": "markdown",
   "metadata": {},
   "source": [
    "# String searching\n",
    "## Search from backwards"
   ]
  },
  {
   "cell_type": "code",
   "execution_count": 20,
   "metadata": {},
   "outputs": [
    {
     "data": {
      "text/plain": [
       "2"
      ]
     },
     "execution_count": 20,
     "metadata": {},
     "output_type": "execute_result"
    }
   ],
   "source": [
    "s = \"c:/users/name/Desktop/temp/logs/routing name.txt\"\n",
    "s.find(r'/')"
   ]
  },
  {
   "cell_type": "code",
   "execution_count": 50,
   "metadata": {},
   "outputs": [
    {
     "name": "stdout",
     "output_type": "stream",
     "text": [
      "31\n",
      "c:/users/name/Desktop/temp/logs\n",
      "/\n",
      "/routing name.txt\n",
      "/routing name.txt\n",
      "/routing name\n",
      "routing name.txt\n"
     ]
    }
   ],
   "source": [
    "s = \"c:/users/name/Desktop/temp/logs/routing name.txt\"\n",
    "idx = s.rfind(r'/')\n",
    "print(idx)\n",
    "print(s[0:idx])\n",
    "print(s[idx])\n",
    "print(s[idx:])\n",
    "print(s[idx:99999999])\n",
    "print(s[idx:s.rfind('.')])\n",
    "print(s[idx+1:])"
   ]
  },
  {
   "cell_type": "code",
   "execution_count": 48,
   "metadata": {},
   "outputs": [
    {
     "name": "stdout",
     "output_type": "stream",
     "text": [
      "31\n"
     ]
    }
   ],
   "source": [
    "s = r\"c:\\users\\name\\Desktop\\temp\\logs\\routing name.txt\"\n",
    "print(s.rfind('\\\\'))"
   ]
  },
  {
   "cell_type": "markdown",
   "metadata": {},
   "source": [
    "# String splitting\n",
    "## Using split function"
   ]
  },
  {
   "cell_type": "code",
   "execution_count": 38,
   "metadata": {
    "scrolled": true
   },
   "outputs": [
    {
     "name": "stdout",
     "output_type": "stream",
     "text": [
      "['This', 'is', 'a', 'string']\n"
     ]
    }
   ],
   "source": [
    "ip = \"This is a string\"\n",
    "ipList = ip.split(\" \")\n",
    "print(ipList)"
   ]
  },
  {
   "cell_type": "code",
   "execution_count": 39,
   "metadata": {},
   "outputs": [
    {
     "name": "stdout",
     "output_type": "stream",
     "text": [
      "['ls']\n"
     ]
    }
   ],
   "source": [
    "ip = \"ls \"\n",
    "ipList = ip.split(\" \")\n",
    "ipList = [idx for idx in ipList if len(idx)>0]\n",
    "print(ipList)"
   ]
  },
  {
   "cell_type": "markdown",
   "metadata": {},
   "source": [
    "# String formatting"
   ]
  },
  {
   "cell_type": "markdown",
   "metadata": {},
   "source": [
    "Stripping leading characters. But here the exact length of the leading characters should be known else, this could backfire."
   ]
  },
  {
   "cell_type": "code",
   "execution_count": 11,
   "metadata": {
    "scrolled": true
   },
   "outputs": [
    {
     "name": "stdout",
     "output_type": "stream",
     "text": [
      "cd dir1 && cd dir1.1 \n",
      "cd dir1 && cd dir1.1 &\n"
     ]
    }
   ],
   "source": [
    "# Stripping leading substring\n",
    "seperator1 = \"&& \"\n",
    "seperator2 = \"&&\"\n",
    "s = \"cd dir1 && cd dir1.1 && \"\n",
    "print(s[:-len(seperator1)]); print(s[:-len(seperator2)])"
   ]
  },
  {
   "cell_type": "markdown",
   "metadata": {},
   "source": [
    "Using Split functions"
   ]
  },
  {
   "cell_type": "code",
   "execution_count": 12,
   "metadata": {},
   "outputs": [
    {
     "name": "stdout",
     "output_type": "stream",
     "text": [
      "['cd car ', ' cd wheels ', ' cd tyres ', ' cd summer-tyres ', ' ']\n",
      "['cd car ', ' cd wheels && cd tyres && cd summer-tyres && ']\n",
      "['cd car && cd wheels && cd tyres ', ' cd summer-tyres ', ' ']\n",
      "cd car && cd wheels && cd tyres && cd summer-tyres \n"
     ]
    }
   ],
   "source": [
    "seperator = \"&&\"\n",
    "s = \"cd car && cd wheels && cd tyres && cd summer-tyres && \"\n",
    "print(s.split('&&'))\n",
    "print(s.split('&&', 1))\n",
    "print(s.rsplit('&&', 2))\n",
    "\n",
    "# Doing a reverse split, with max of 1 split operation will result in two strings, \n",
    "# where the resulting first item is the one that is needed\n",
    "s = s.rsplit('&&',1)[0]\n",
    "print(s)"
   ]
  },
  {
   "cell_type": "markdown",
   "metadata": {},
   "source": [
    "## Number conversion"
   ]
  },
  {
   "cell_type": "markdown",
   "metadata": {},
   "source": [
    "Printing a value in HEX"
   ]
  },
  {
   "cell_type": "code",
   "execution_count": 13,
   "metadata": {
    "scrolled": true
   },
   "outputs": [
    {
     "name": "stdout",
     "output_type": "stream",
     "text": [
      "Lower case formatting: 0x1b5\n",
      "Upper case formatting: 0x1B5\n",
      "Specfied number of digits filled with white spaces: 0x       1B5\n",
      "Specified number of digits filled with zeros: 0x00000001B5\n"
     ]
    }
   ],
   "source": [
    "val = 437\n",
    "print(\"Lower case formatting: 0x{0:x}\".format(val))\n",
    "print(\"Upper case formatting: 0x{0:X}\".format(val))\n",
    "print(\"Specfied number of digits filled with white spaces: 0x{0:10X}\".format(val))\n",
    "print(\"Specified number of digits filled with zeros: 0x{0:010X}\".format(val))"
   ]
  },
  {
   "cell_type": "markdown",
   "metadata": {},
   "source": [
    "Printing a value in Decimal"
   ]
  },
  {
   "cell_type": "code",
   "execution_count": 14,
   "metadata": {},
   "outputs": [
    {
     "name": "stdout",
     "output_type": "stream",
     "text": [
      "Lower case formatting: 437\n",
      "Specfied number of digits filled with white spaces:        437\n",
      "Specified number of digits filled with zeros: 0000000437\n"
     ]
    }
   ],
   "source": [
    "print(\"Lower case formatting: {0:d}\".format(val))\n",
    "print(\"Specfied number of digits filled with white spaces: {0:10d}\".format(val))\n",
    "print(\"Specified number of digits filled with zeros: {0:010d}\".format(val))"
   ]
  },
  {
   "cell_type": "markdown",
   "metadata": {},
   "source": [
    "Printing a value in Binary"
   ]
  },
  {
   "cell_type": "code",
   "execution_count": 15,
   "metadata": {},
   "outputs": [
    {
     "name": "stdout",
     "output_type": "stream",
     "text": [
      "Lower case formatting: 110110101\n",
      "Specfied number of digits filled with white spaces:            110110101\n",
      "Specified number of digits filled with zeros: 00000000000110110101\n"
     ]
    }
   ],
   "source": [
    "print(\"Lower case formatting: {0:b}\".format(val))\n",
    "print(\"Specfied number of digits filled with white spaces: {0:20b}\".format(val))\n",
    "print(\"Specified number of digits filled with zeros: {0:020b}\".format(val))"
   ]
  },
  {
   "cell_type": "markdown",
   "metadata": {},
   "source": [
    "# Regular expression search"
   ]
  },
  {
   "cell_type": "code",
   "execution_count": 16,
   "metadata": {},
   "outputs": [
    {
     "name": "stdout",
     "output_type": "stream",
     "text": [
      "<re.Match object; span=(0, 57), match='This is a test string. But this part if not a tes>\n",
      "True\n",
      "True\n",
      "True\n"
     ]
    }
   ],
   "source": [
    "s = \"This is a test string. But this part if not a test string\"\n",
    "\n",
    "print(re.match('.*test string', s, re.DOTALL))\n",
    "\n",
    "res = lambda m: True if m else False\n",
    "print(res(re.match('.*test string', s, re.DOTALL)))\n",
    "print(res(re.match('.*test string.*$', s, re.DOTALL)))\n",
    "print(res(re.match('.*test string$', s, re.DOTALL)))"
   ]
  }
 ],
 "metadata": {
  "kernelspec": {
   "display_name": "Python 3",
   "language": "python",
   "name": "python3"
  },
  "language_info": {
   "codemirror_mode": {
    "name": "ipython",
    "version": 3
   },
   "file_extension": ".py",
   "mimetype": "text/x-python",
   "name": "python",
   "nbconvert_exporter": "python",
   "pygments_lexer": "ipython3",
   "version": "3.8.5"
  }
 },
 "nbformat": 4,
 "nbformat_minor": 2
}
