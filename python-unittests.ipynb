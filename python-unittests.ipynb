{
 "cells": [
  {
   "cell_type": "code",
   "execution_count": 1,
   "metadata": {
    "_cell_guid": "b1076dfc-b9ad-4769-8c92-a6c4dae69d19",
    "_uuid": "8f2839f25d086af736a60e9eeb907d3b93b6e0e5"
   },
   "outputs": [],
   "source": [
    "import unittest\n",
    "import numpy as np"
   ]
  },
  {
   "cell_type": "code",
   "execution_count": 2,
   "metadata": {
    "_cell_guid": "79c7e3d0-c299-4dcb-8224-4455121ee9b0",
    "_uuid": "d629ff2d2480ee46fbb7e2d37f6b5fab8052498a"
   },
   "outputs": [],
   "source": [
    "class Calculator:\n",
    "    def Add(self,arg1,arg2):\n",
    "        return arg1+arg2;\n",
    "    \n",
    "    def Sub(self,arg1,arg2):\n",
    "        return arg1-arg2;\n",
    "    \n",
    "    def Mul(self,arg1,arg2):\n",
    "        return arg1*arg2;\n",
    "    \n",
    "    def SqRoot(self,arg1):\n",
    "        return np.sqrt(arg1)"
   ]
  },
  {
   "cell_type": "code",
   "execution_count": 3,
   "metadata": {},
   "outputs": [],
   "source": [
    "class TestAdd(unittest.TestCase):\n",
    "    def test_Integers(self):\n",
    "        calc = Calculator()\n",
    "        self.assertEqual(3+4, calc.Add(3,4))\n",
    "    \n",
    "    def test_Floats(self):\n",
    "        calc = Calculator()\n",
    "        self.assertEqual(3.453+4.54747, calc.Add(3.453,4.54747))\n",
    "        \n",
    "    def test_Strings(self):\n",
    "        calc = Calculator()\n",
    "        self.assertRaises(TypeError, calc.Add, \"jupyter\", 23) # Expect a TypeError exception here\n",
    "        \n",
    "    def test_Strings2(self):\n",
    "        calc = Calculator()\n",
    "        self.assertEqual(\"Jupyter is a planet\", calc.Add(\"Jupyter\", \" is a planet\"))"
   ]
  },
  {
   "cell_type": "code",
   "execution_count": 4,
   "metadata": {},
   "outputs": [],
   "source": [
    "class TestSub(unittest.TestCase):\n",
    "    def test_Integers(self):\n",
    "        calc = Calculator()\n",
    "        self.assertEqual(43-11, calc.Sub(43,11))\n",
    "    \n",
    "    def test_Floats(self):\n",
    "        calc = Calculator()\n",
    "        self.assertEqual(3.453-4.54747, calc.Sub(3.453,4.54747))\n",
    "        \n",
    "    def test_Strings(self):\n",
    "        calc = Calculator()\n",
    "        self.assertRaises(TypeError, calc.Sub, \"jupyter\", \" is a planet\") # Expect a TypeError exception here"
   ]
  },
  {
   "cell_type": "code",
   "execution_count": 5,
   "metadata": {},
   "outputs": [
    {
     "name": "stderr",
     "output_type": "stream",
     "text": [
      ".......\n",
      "----------------------------------------------------------------------\n",
      "Ran 7 tests in 0.036s\n",
      "\n",
      "OK\n"
     ]
    },
    {
     "data": {
      "text/plain": [
       "<unittest.main.TestProgram at 0x1f673a0a3c8>"
      ]
     },
     "execution_count": 5,
     "metadata": {},
     "output_type": "execute_result"
    }
   ],
   "source": [
    "# 1. Does not work on KAGGLE Notebooks, but works on Jupyter notebooks\n",
    "# https://stackoverflow.com/questions/37895781/unable-to-run-unittests-main-function-in-ipython-jupyter-notebook/38012249#38012249\n",
    "# unittest.main(argv=['first-arg-is-ignored'], exit=False)\n",
    "\n",
    "# 2. Works on KAGGLE and Jupyter notebooks\n",
    "# suite = unittest.TestLoader().loadTestsFromTestCase(TestAdd)\n",
    "# unittest.TextTestRunner().run(suite)\n",
    "\n",
    "# 3. Works only in Jupyter notebooks\n",
    "unittest.main(argv=['first-arg-is-ignored'], exit=False)"
   ]
  }
 ],
 "metadata": {
  "kernelspec": {
   "display_name": "Python 3",
   "language": "python",
   "name": "python3"
  },
  "language_info": {
   "codemirror_mode": {
    "name": "ipython",
    "version": 3
   },
   "file_extension": ".py",
   "mimetype": "text/x-python",
   "name": "python",
   "nbconvert_exporter": "python",
   "pygments_lexer": "ipython3",
   "version": "3.7.3"
  }
 },
 "nbformat": 4,
 "nbformat_minor": 1
}
