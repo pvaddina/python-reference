{
 "cells": [
  {
   "cell_type": "code",
   "execution_count": 12,
   "id": "3e80431c",
   "metadata": {},
   "outputs": [],
   "source": [
    "import pickle"
   ]
  },
  {
   "cell_type": "code",
   "execution_count": 2,
   "id": "95c7b499",
   "metadata": {},
   "outputs": [],
   "source": [
    "class Test(object):\n",
    "    def __init__(self):\n",
    "        self.id = 123;\n",
    "        self.name = \"One two three\"\n",
    "        self.kids = ['kid1', 'kid2', 'kid3']\n",
    "        \n",
    "    def Print(self):\n",
    "        print(self.id, self.name, self.kids)"
   ]
  },
  {
   "cell_type": "code",
   "execution_count": 3,
   "id": "2b1ef4d8",
   "metadata": {},
   "outputs": [
    {
     "name": "stdout",
     "output_type": "stream",
     "text": [
      "123 One two three ['kid1', 'kid2', 'kid3']\n"
     ]
    }
   ],
   "source": [
    "t = Test()\n",
    "t.Print()"
   ]
  },
  {
   "cell_type": "markdown",
   "id": "48be970d",
   "metadata": {},
   "source": [
    "# Convert to string and back"
   ]
  },
  {
   "cell_type": "code",
   "execution_count": 4,
   "id": "12e306dc",
   "metadata": {},
   "outputs": [
    {
     "name": "stdout",
     "output_type": "stream",
     "text": [
      "b'\\x80\\x04\\x95[\\x00\\x00\\x00\\x00\\x00\\x00\\x00\\x8c\\x08__main__\\x94\\x8c\\x04Test\\x94\\x93\\x94)\\x81\\x94}\\x94(\\x8c\\x02id\\x94K{\\x8c\\x04name\\x94\\x8c\\rOne two three\\x94\\x8c\\x04kids\\x94]\\x94(\\x8c\\x04kid1\\x94\\x8c\\x04kid2\\x94\\x8c\\x04kid3\\x94eub.'\n"
     ]
    }
   ],
   "source": [
    "tasStr = pickle.dumps(t)\n",
    "print(tasStr)"
   ]
  },
  {
   "cell_type": "code",
   "execution_count": 5,
   "id": "2ed9ae47",
   "metadata": {},
   "outputs": [
    {
     "name": "stdout",
     "output_type": "stream",
     "text": [
      "123 One two three ['kid1', 'kid2', 'kid3']\n"
     ]
    }
   ],
   "source": [
    "tObj = pickle.loads(tasStr)\n",
    "tObj.Print()"
   ]
  },
  {
   "cell_type": "markdown",
   "id": "022c5948",
   "metadata": {},
   "source": [
    "# Serialize to file and back"
   ]
  },
  {
   "cell_type": "code",
   "execution_count": 8,
   "id": "7236f87a",
   "metadata": {},
   "outputs": [],
   "source": [
    "pickle.dump(t, open(\"test.bin\", 'wb'))"
   ]
  },
  {
   "cell_type": "code",
   "execution_count": 10,
   "id": "a61ae78d",
   "metadata": {},
   "outputs": [
    {
     "name": "stdout",
     "output_type": "stream",
     "text": [
      "123 One two three ['kid1', 'kid2', 'kid3']\n"
     ]
    }
   ],
   "source": [
    "tObjFromFile = pickle.load(open(\"test.bin\", 'rb'))\n",
    "tObjFromFile.Print()"
   ]
  }
 ],
 "metadata": {
  "kernelspec": {
   "display_name": "Python 3",
   "language": "python",
   "name": "python3"
  },
  "language_info": {
   "codemirror_mode": {
    "name": "ipython",
    "version": 3
   },
   "file_extension": ".py",
   "mimetype": "text/x-python",
   "name": "python",
   "nbconvert_exporter": "python",
   "pygments_lexer": "ipython3",
   "version": "3.8.5"
  }
 },
 "nbformat": 4,
 "nbformat_minor": 5
}
