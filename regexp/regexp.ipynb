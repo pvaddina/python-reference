{
 "cells": [
  {
   "cell_type": "code",
   "execution_count": 3,
   "id": "f18d0f5c",
   "metadata": {},
   "outputs": [],
   "source": [
    "import re"
   ]
  },
  {
   "cell_type": "code",
   "execution_count": 4,
   "id": "afba21ac",
   "metadata": {},
   "outputs": [],
   "source": [
    "def parseandprint(pattern,sList,fn):\n",
    "    for s in sList:\n",
    "        retvalues = fn(pattern, s)\n",
    "        print(retvalues)   "
   ]
  },
  {
   "cell_type": "code",
   "execution_count": 5,
   "id": "7bccafeb",
   "metadata": {},
   "outputs": [
    {
     "name": "stdout",
     "output_type": "stream",
     "text": [
      "['      ']\n",
      "['']\n",
      "['  ']\n"
     ]
    }
   ],
   "source": [
    "e1 = \"      test string\"\n",
    "e2 = \"no leading spaces\"\n",
    "e3 = \"  some spaces\"\n",
    "pattern = \"^ {0,10}\"\n",
    "parseandprint(pattern,[e1,e2,e3],re.findall)"
   ]
  },
  {
   "cell_type": "code",
   "execution_count": 6,
   "id": "2431256e",
   "metadata": {},
   "outputs": [
    {
     "name": "stdout",
     "output_type": "stream",
     "text": [
      "['', 'test string']\n",
      "['', 'no leading spaces']\n",
      "['', 'some spaces']\n"
     ]
    }
   ],
   "source": [
    "parseandprint(pattern,[e1,e2,e3],re.split)"
   ]
  },
  {
   "cell_type": "code",
   "execution_count": 7,
   "id": "e8cb76f3",
   "metadata": {},
   "outputs": [
    {
     "name": "stdout",
     "output_type": "stream",
     "text": [
      "<re.Match object; span=(0, 6), match='      '>\n",
      "<re.Match object; span=(0, 0), match=''>\n",
      "<re.Match object; span=(0, 2), match='  '>\n"
     ]
    }
   ],
   "source": [
    "parseandprint(pattern,[e1,e2,e3],re.search)"
   ]
  },
  {
   "cell_type": "markdown",
   "id": "1c44ed66",
   "metadata": {},
   "source": [
    "# Read list of items"
   ]
  },
  {
   "cell_type": "code",
   "execution_count": 33,
   "id": "07c80515",
   "metadata": {},
   "outputs": [
    {
     "name": "stdout",
     "output_type": "stream",
     "text": [
      "['352-2323, 343', '232-3454, 4545', '345-88, 99', '232-3454, 4545']\n"
     ]
    }
   ],
   "source": [
    "s1 = \"[(352-2323, 343), (232-3454, 4545), (345-88, 99), (232-3454, 4545)]\"\n",
    "pattern = \"\\d+-\\d+, \\d+\"\n",
    "print(re.findall(pattern, s1))"
   ]
  },
  {
   "cell_type": "code",
   "execution_count": 35,
   "id": "81a4104a",
   "metadata": {},
   "outputs": [
    {
     "name": "stdout",
     "output_type": "stream",
     "text": [
      "['2.343-465.2323, 0.343', '345.987-88.73343, 99.0998', '345.987-88.73343, 4545']\n"
     ]
    }
   ],
   "source": [
    "s2 = \"[(2.343-465.2323, 0.343), (34.232-3454, 0.4545), (345.987-88.73343, 99.0998), (345.987-88.73343, 4545)]\"\n",
    "pattern = \"\\d+\\.\\d+-\\d+\\.\\d+, \\d+\\.?\\d+\"\n",
    "print(re.findall(pattern, s2))"
   ]
  },
  {
   "cell_type": "code",
   "execution_count": 42,
   "id": "ec25d952",
   "metadata": {},
   "outputs": [
    {
     "name": "stdout",
     "output_type": "stream",
     "text": [
      "['2.343', '465.2323', '0.343']\n",
      "['34.232', '3454', '0.4545']\n",
      "['345.987', '88.73343', '99.0998']\n",
      "['9836.45', '8343.546', '4545']\n"
     ]
    }
   ],
   "source": [
    "s3 = \"[(2.343-465.2323, 0.343), (34.232-3454, 0.4545), (345.987-88.73343, 99.0998), (9836.45-8343.546, 4545)]\"\n",
    "pattern = \"\\d+\\.\\d+-\\d+\\.?\\d+, \\d+\\.?\\d+\"\n",
    "for p in re.findall(pattern,s3):\n",
    "    nums = re.findall(\"\\d+\\.?\\d+\", p)\n",
    "    print(nums)"
   ]
  },
  {
   "cell_type": "code",
   "execution_count": 46,
   "id": "86fee004",
   "metadata": {},
   "outputs": [
    {
     "name": "stdout",
     "output_type": "stream",
     "text": [
      "0==>2.343, 1==>465.2323, 2==>0.343\n",
      "0==>34.232, 1==>3454, 2==>0.4545\n",
      "0==>345.987, 1==>88.73343, 2==>99.0998\n",
      "0==>9836.45, 1==>8343.546, 2==>4545\n"
     ]
    }
   ],
   "source": [
    "s4 = \"[(2.343-465.2323, 0.343), (34.232-3454, 0.4545), (345.987-88.73343, 99.0998), (9836.45-8343.546, 4545)]\"\n",
    "pattern = \"\\(.*?-.*?, .*?\\)\"\n",
    "for p in re.findall(pattern,s3):\n",
    "    nums = re.findall(\"\\d+\\.?\\d+\", p)\n",
    "    print(\"0==>{}, 1==>{}, 2==>{}\".format(nums[0], nums[1], nums[2]))"
   ]
  },
  {
   "cell_type": "markdown",
   "id": "e3e37545",
   "metadata": {},
   "source": [
    "# Greedy vs Non-Greedy\n",
    "[Python docs reference on this subject](https://docs.python.org/3/howto/regex.html#greedy-versus-non-greedy)"
   ]
  },
  {
   "cell_type": "code",
   "execution_count": 9,
   "id": "7cfa7520",
   "metadata": {},
   "outputs": [
    {
     "name": "stdout",
     "output_type": "stream",
     "text": [
      "<html><head><title>Title</title>\n"
     ]
    }
   ],
   "source": [
    "s = '<html><head><title>Title</title>'\n",
    "print(re.match('<.*>', s).group())"
   ]
  },
  {
   "cell_type": "code",
   "execution_count": 10,
   "id": "3de11f47",
   "metadata": {},
   "outputs": [
    {
     "name": "stdout",
     "output_type": "stream",
     "text": [
      "<html>\n"
     ]
    }
   ],
   "source": [
    "print(re.match('<.*?>', s).group())"
   ]
  },
  {
   "cell_type": "code",
   "execution_count": 11,
   "id": "6fb28397",
   "metadata": {},
   "outputs": [
    {
     "name": "stdout",
     "output_type": "stream",
     "text": [
      "<html>\n"
     ]
    }
   ],
   "source": [
    "print(re.search('<.*?>', s).group())"
   ]
  },
  {
   "cell_type": "code",
   "execution_count": 12,
   "id": "daa16d22",
   "metadata": {},
   "outputs": [
    {
     "name": "stdout",
     "output_type": "stream",
     "text": [
      "nongreedy= ['', 'html', '', 'head', '', 'title', 'Title', '/title', '']\n",
      "greedy= ['', 'html><head><title>Title</title', '']\n"
     ]
    }
   ],
   "source": [
    "s = '<html><head><title>Title</title>'\n",
    "nongreedy = re.split('<(.*?)>', s)   # Will only search until the next >\n",
    "greedy = re.split('<(.*)>', s)       # Will keep searching until the last > is found\n",
    "print(\"nongreedy=\", nongreedy)\n",
    "print(\"greedy=\", greedy)"
   ]
  },
  {
   "cell_type": "code",
   "execution_count": 13,
   "id": "1b0276d1",
   "metadata": {},
   "outputs": [],
   "source": [
    "s1 = '   HTML_TAG,(some props):SOURCE1 (id/name)(11/\"one one\")[some test, props]       -> HTML_DESTNATION1 (id/name)(12/\"one two\")'\n",
    "s2 = 'CSS_TAG,(some props):     SOURCE2 (id/name)(21/\"two one\")[minf,maxf,minp,maxp]   ->DESTNATION2 (id/name)(22/\"two two\")[dest,properties,34]'\n",
    "s3 = '       QVRT_TAG,:SOURCE3 (id/name)(31/\"three one\")(T)[TProps]-> DESTNATION3 (id/name)(32/\"three two\")'\n",
    "\n",
    "def MatchAndPrint(p):\n",
    "    lStr = [s1, s2, s3]\n",
    "    for s in lStr:\n",
    "        res = re.match(p,s)\n",
    "        if res:\n",
    "            print(res.groups())\n",
    "        else:\n",
    "            print(\"Cannot match the pattern\")"
   ]
  },
  {
   "cell_type": "code",
   "execution_count": 14,
   "id": "8bc12e01",
   "metadata": {},
   "outputs": [
    {
     "name": "stdout",
     "output_type": "stream",
     "text": [
      "('HTML_TAG', ',(some props):SOURCE1 (id/name)(11/\"one one\")[some test, props]       -> HTML_DESTNATION1 (id/name)(12/\"one two\")')\n",
      "('CSS_TAG', ',(some props):     SOURCE2 (id/name)(21/\"two one\")[minf,maxf,minp,maxp]   ->DESTNATION2 (id/name)(22/\"two two\")[dest,properties,34]')\n",
      "('QVRT_TAG', ',:SOURCE3 (id/name)(31/\"three one\")(T)[TProps]-> DESTNATION3 (id/name)(32/\"three two\")')\n"
     ]
    }
   ],
   "source": [
    "MatchAndPrint(\"^.*?([A-Z].*_TAG)(.*)\")"
   ]
  },
  {
   "cell_type": "code",
   "execution_count": 15,
   "id": "088c487e",
   "metadata": {},
   "outputs": [
    {
     "name": "stdout",
     "output_type": "stream",
     "text": [
      "('HTML_TAG', 'SOURCE1', '(id/name)(11/\"one one\")[some test, props]       -> HTML_DESTNATION1 (id/name)(12/\"one two\")')\n",
      "('CSS_TAG', 'SOURCE2', '(id/name)(21/\"two one\")[minf,maxf,minp,maxp]   ->DESTNATION2 (id/name)(22/\"two two\")[dest,properties,34]')\n",
      "('QVRT_TAG', 'SOURCE3', '(id/name)(31/\"three one\")(T)[TProps]-> DESTNATION3 (id/name)(32/\"three two\")')\n"
     ]
    }
   ],
   "source": [
    "MatchAndPrint(\"^.*?([A-Z].*_TAG).*?:.*?([A-Z].*?) (.*)\")"
   ]
  },
  {
   "cell_type": "code",
   "execution_count": 16,
   "id": "42cd4460",
   "metadata": {},
   "outputs": [
    {
     "name": "stdout",
     "output_type": "stream",
     "text": [
      "('HTML_TAG', 'SOURCE1')\n",
      "('CSS_TAG', 'SOURCE2')\n",
      "('QVRT_TAG', 'SOURCE3')\n"
     ]
    }
   ],
   "source": [
    "MatchAndPrint(\"^.*?([A-Z].*_TAG).*?:.*?([A-Z].*?) \")"
   ]
  },
  {
   "cell_type": "code",
   "execution_count": 17,
   "id": "55ccc7bf",
   "metadata": {},
   "outputs": [
    {
     "name": "stdout",
     "output_type": "stream",
     "text": [
      "('HTML_TAG', 'SOURCE1', '11', 'one one', 'some test, props')\n",
      "('CSS_TAG', 'SOURCE2', '22', 'two two', 'dest,properties,34')\n",
      "('QVRT_TAG', 'SOURCE3', '31', 'three one', 'TProps')\n"
     ]
    }
   ],
   "source": [
    "MatchAndPrint(\"^.*?([A-Z].*_TAG).*?:.*?([A-Z].*?) .*\\((..)\\/\\\"(.*)\\\"\\).*\\[(.*)\\]\")"
   ]
  },
  {
   "cell_type": "code",
   "execution_count": 18,
   "id": "c89e0040",
   "metadata": {},
   "outputs": [
    {
     "name": "stdout",
     "output_type": "stream",
     "text": [
      "('HTML_TAG', 'SOURCE1', '11', 'one one', 'some test, props', 'HTML_DESTNATION1')\n",
      "('CSS_TAG', 'SOURCE2', '21', 'two one', 'minf,maxf,minp,maxp', 'DESTNATION2')\n",
      "('QVRT_TAG', 'SOURCE3', '31', 'three one', 'TProps', 'DESTNATION3')\n"
     ]
    }
   ],
   "source": [
    "MatchAndPrint(\"^.*?([A-Z].*_TAG).*?:.*?([A-Z].*?) .*\\((..)\\/\\\"(.*)\\\"\\).*\\[(.*)\\].*->.*?([A-Z].*?) .*\")"
   ]
  },
  {
   "cell_type": "code",
   "execution_count": 19,
   "id": "d01f7103",
   "metadata": {},
   "outputs": [
    {
     "name": "stdout",
     "output_type": "stream",
     "text": [
      "('HTML_TAG', 'SOURCE1', '11', 'one one', 'some test, props', 'HTML_DESTNATION1', '12', 'one two')\n",
      "('CSS_TAG', 'SOURCE2', '21', 'two one', 'minf,maxf,minp,maxp', 'DESTNATION2', '22', 'two two')\n",
      "('QVRT_TAG', 'SOURCE3', '31', 'three one', 'TProps', 'DESTNATION3', '32', 'three two')\n"
     ]
    }
   ],
   "source": [
    "MatchAndPrint(\"^.*?([A-Z].*_TAG).*?:.*?([A-Z].*?) .*\\((..)\\/\\\"(.*)\\\"\\).*\\[(.*)\\].*->.*?([A-Z].*?) .*\\((..)\\/\\\"(.*)\\\"\\)\")"
   ]
  },
  {
   "cell_type": "code",
   "execution_count": 20,
   "id": "c3bd353d",
   "metadata": {},
   "outputs": [
    {
     "name": "stdout",
     "output_type": "stream",
     "text": [
      "Cannot match the pattern\n",
      "('CSS_TAG', 'SOURCE2', '21', 'two one', 'minf,maxf,minp,maxp', 'DESTNATION2', '22', 'two two', 'dest', 'properties', '34')\n",
      "Cannot match the pattern\n"
     ]
    }
   ],
   "source": [
    "MatchAndPrint(\"^.*?([A-Z].*_TAG).*?:.*?([A-Z].*?) .*\\((..)\\/\\\"(.*)\\\"\\).*\\[(.*)\\].*->.*?([A-Z].*?) .*\\((..)\\/\\\"(.*)\\\"\\).*\\[(.*),(.*),(.*)\\]\")"
   ]
  }
 ],
 "metadata": {
  "kernelspec": {
   "display_name": "Python 3",
   "language": "python",
   "name": "python3"
  },
  "language_info": {
   "codemirror_mode": {
    "name": "ipython",
    "version": 3
   },
   "file_extension": ".py",
   "mimetype": "text/x-python",
   "name": "python",
   "nbconvert_exporter": "python",
   "pygments_lexer": "ipython3",
   "version": "3.8.5"
  }
 },
 "nbformat": 4,
 "nbformat_minor": 5
}
