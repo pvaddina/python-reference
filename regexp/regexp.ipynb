{
 "cells": [
  {
   "cell_type": "code",
   "execution_count": 2,
   "id": "76810d46",
   "metadata": {},
   "outputs": [],
   "source": [
    "import re"
   ]
  },
  {
   "cell_type": "code",
   "execution_count": 3,
   "id": "fa7ab588",
   "metadata": {},
   "outputs": [],
   "source": [
    "def parseandprint(pattern,sList,fn):\n",
    "    for s in sList:\n",
    "        retvalues = fn(pattern, s)\n",
    "        print(retvalues)   "
   ]
  },
  {
   "cell_type": "code",
   "execution_count": 6,
   "id": "9474bf72",
   "metadata": {},
   "outputs": [
    {
     "name": "stdout",
     "output_type": "stream",
     "text": [
      "['      ']\n",
      "['']\n",
      "['  ']\n"
     ]
    }
   ],
   "source": [
    "e1 = \"      test string\"\n",
    "e2 = \"no leading spaces\"\n",
    "e3 = \"  some spaces\"\n",
    "pattern = \"^ {0,10}\"\n",
    "parseandprint(pattern,[e1,e2,e3],re.findall)"
   ]
  },
  {
   "cell_type": "code",
   "execution_count": 7,
   "id": "158fb911",
   "metadata": {},
   "outputs": [
    {
     "name": "stdout",
     "output_type": "stream",
     "text": [
      "['', 'test string']\n",
      "['', 'no leading spaces']\n",
      "['', 'some spaces']\n"
     ]
    }
   ],
   "source": [
    "parseandprint(pattern,[e1,e2,e3],re.split)"
   ]
  },
  {
   "cell_type": "code",
   "execution_count": 8,
   "id": "2e21a3f9",
   "metadata": {},
   "outputs": [
    {
     "name": "stdout",
     "output_type": "stream",
     "text": [
      "<re.Match object; span=(0, 6), match='      '>\n",
      "<re.Match object; span=(0, 0), match=''>\n",
      "<re.Match object; span=(0, 2), match='  '>\n"
     ]
    }
   ],
   "source": [
    "parseandprint(pattern,[e1,e2,e3],re.search)"
   ]
  },
  {
   "cell_type": "markdown",
   "id": "7a8c2286",
   "metadata": {},
   "source": [
    "# Greedy vs Non-Greedy\n",
    "[Python docs reference on this subject](https://docs.python.org/3/howto/regex.html#greedy-versus-non-greedy)"
   ]
  },
  {
   "cell_type": "code",
   "execution_count": 9,
   "id": "51ae9c06",
   "metadata": {},
   "outputs": [
    {
     "name": "stdout",
     "output_type": "stream",
     "text": [
      "<html><head><title>Title</title>\n"
     ]
    }
   ],
   "source": [
    "s = '<html><head><title>Title</title>'\n",
    "print(re.match('<.*>', s).group())"
   ]
  },
  {
   "cell_type": "code",
   "execution_count": 10,
   "id": "795867b8",
   "metadata": {},
   "outputs": [
    {
     "name": "stdout",
     "output_type": "stream",
     "text": [
      "<html>\n"
     ]
    }
   ],
   "source": [
    "print(re.match('<.*?>', s).group())"
   ]
  },
  {
   "cell_type": "code",
   "execution_count": 11,
   "id": "2e3ca03b",
   "metadata": {},
   "outputs": [
    {
     "name": "stdout",
     "output_type": "stream",
     "text": [
      "<html>\n"
     ]
    }
   ],
   "source": [
    "print(re.search('<.*?>', s).group())"
   ]
  },
  {
   "cell_type": "code",
   "execution_count": 16,
   "id": "fd68432c",
   "metadata": {},
   "outputs": [
    {
     "name": "stdout",
     "output_type": "stream",
     "text": [
      "nongreedy= ['', 'html', '', 'head', '', 'title', 'Title', '/title', '']\n",
      "greedy= ['', 'html><head><title>Title</title', '']\n"
     ]
    }
   ],
   "source": [
    "s = '<html><head><title>Title</title>'\n",
    "nongreedy = re.split('<(.*?)>', s)   # Will only search until the next >\n",
    "greedy = re.split('<(.*)>', s)       # Will keep searching until the last > is found\n",
    "print(\"nongreedy=\", nongreedy)\n",
    "print(\"greedy=\", greedy)"
   ]
  },
  {
   "cell_type": "code",
   "execution_count": 64,
   "id": "d2321e07",
   "metadata": {},
   "outputs": [],
   "source": [
    "s1 = '   HTML_TAG,(some props):SOURCE1 (id/name)(11/\"one one\")[some test, props]       -> HTML_DESTNATION1 (id/name)(12/\"one two\")'\n",
    "s2 = 'CSS_TAG,(some props):     SOURCE2 (id/name)(21/\"two one\")[minf,maxf,minp,maxp]   ->DESTNATION2 (id/name)(22/\"two two\")[dest,properties,34]'\n",
    "s3 = '       QVRT_TAG,:SOURCE3 (id/name)(31/\"three one\")(T)[TProps]-> DESTNATION3 (id/name)(32/\"three two\")'\n",
    "\n",
    "def MatchAndPrint(p):\n",
    "    lStr = [s1, s2, s3]\n",
    "    for s in lStr:\n",
    "        res = re.match(p,s)\n",
    "        if res:\n",
    "            print(res.groups())\n",
    "        else:\n",
    "            print(\"Cannot match the pattern\")"
   ]
  },
  {
   "cell_type": "code",
   "execution_count": 47,
   "id": "c1446064",
   "metadata": {},
   "outputs": [
    {
     "name": "stdout",
     "output_type": "stream",
     "text": [
      "('HTML_TAG', ',(some props):SOURCE1 (id/name)(11/\"one one\")[some test, props]       -> HTML_DESTNATION1 (id/name)(12/\"one two\")')\n",
      "('CSS_TAG', ',(some props):     SOURCE2 (id/name)(21/\"two one\")[minf,maxf,minp,maxp]   ->DESTNATION2 (id/name)(22/\"two two\")')\n",
      "('QVRT_TAG', ',:SOURCE3 (id/name)(31/\"three one\")(T)[TProps]-> DESTNATION3 (id/name)(32/\"three two\")')\n"
     ]
    }
   ],
   "source": [
    "MatchAndPrint(\"^.*?([A-Z].*_TAG)(.*)\")"
   ]
  },
  {
   "cell_type": "code",
   "execution_count": 48,
   "id": "bd4b7db3",
   "metadata": {},
   "outputs": [
    {
     "name": "stdout",
     "output_type": "stream",
     "text": [
      "('HTML_TAG', 'SOURCE1', '(id/name)(11/\"one one\")[some test, props]       -> HTML_DESTNATION1 (id/name)(12/\"one two\")')\n",
      "('CSS_TAG', 'SOURCE2', '(id/name)(21/\"two one\")[minf,maxf,minp,maxp]   ->DESTNATION2 (id/name)(22/\"two two\")')\n",
      "('QVRT_TAG', 'SOURCE3', '(id/name)(31/\"three one\")(T)[TProps]-> DESTNATION3 (id/name)(32/\"three two\")')\n"
     ]
    }
   ],
   "source": [
    "MatchAndPrint(\"^.*?([A-Z].*_TAG).*?:.*?([A-Z].*?) (.*)\")"
   ]
  },
  {
   "cell_type": "code",
   "execution_count": 49,
   "id": "ae67d2e8",
   "metadata": {},
   "outputs": [
    {
     "name": "stdout",
     "output_type": "stream",
     "text": [
      "('HTML_TAG', 'SOURCE1')\n",
      "('CSS_TAG', 'SOURCE2')\n",
      "('QVRT_TAG', 'SOURCE3')\n"
     ]
    }
   ],
   "source": [
    "MatchAndPrint(\"^.*?([A-Z].*_TAG).*?:.*?([A-Z].*?) \")"
   ]
  },
  {
   "cell_type": "code",
   "execution_count": 52,
   "id": "82adc0cd",
   "metadata": {},
   "outputs": [
    {
     "name": "stdout",
     "output_type": "stream",
     "text": [
      "('HTML_TAG', 'SOURCE1', '11', 'one one', 'some test, props')\n",
      "('CSS_TAG', 'SOURCE2', '21', 'two one', 'minf,maxf,minp,maxp')\n",
      "('QVRT_TAG', 'SOURCE3', '31', 'three one', 'TProps')\n"
     ]
    }
   ],
   "source": [
    "MatchAndPrint(\"^.*?([A-Z].*_TAG).*?:.*?([A-Z].*?) .*\\((..)\\/\\\"(.*)\\\"\\).*\\[(.*)\\]\")"
   ]
  },
  {
   "cell_type": "code",
   "execution_count": 53,
   "id": "031370c8",
   "metadata": {},
   "outputs": [
    {
     "name": "stdout",
     "output_type": "stream",
     "text": [
      "('HTML_TAG', 'SOURCE1', '11', 'one one', 'some test, props', 'HTML_DESTNATION1')\n",
      "('CSS_TAG', 'SOURCE2', '21', 'two one', 'minf,maxf,minp,maxp', 'DESTNATION2')\n",
      "('QVRT_TAG', 'SOURCE3', '31', 'three one', 'TProps', 'DESTNATION3')\n"
     ]
    }
   ],
   "source": [
    "MatchAndPrint(\"^.*?([A-Z].*_TAG).*?:.*?([A-Z].*?) .*\\((..)\\/\\\"(.*)\\\"\\).*\\[(.*)\\].*->.*?([A-Z].*?) .*\")"
   ]
  },
  {
   "cell_type": "code",
   "execution_count": 56,
   "id": "32974871",
   "metadata": {},
   "outputs": [
    {
     "name": "stdout",
     "output_type": "stream",
     "text": [
      "('HTML_TAG', 'SOURCE1', '11', 'one one', 'some test, props', 'HTML_DESTNATION1', '12', 'one two')\n",
      "('CSS_TAG', 'SOURCE2', '21', 'two one', 'minf,maxf,minp,maxp', 'DESTNATION2', '22', 'two two')\n",
      "('QVRT_TAG', 'SOURCE3', '31', 'three one', 'TProps', 'DESTNATION3', '32', 'three two')\n"
     ]
    }
   ],
   "source": [
    "MatchAndPrint(\"^.*?([A-Z].*_TAG).*?:.*?([A-Z].*?) .*\\((..)\\/\\\"(.*)\\\"\\).*\\[(.*)\\].*->.*?([A-Z].*?) .*\\((..)\\/\\\"(.*)\\\"\\)\")"
   ]
  },
  {
   "cell_type": "code",
   "execution_count": 62,
   "id": "21975ea0",
   "metadata": {},
   "outputs": [
    {
     "ename": "AttributeError",
     "evalue": "'NoneType' object has no attribute 'groups'",
     "output_type": "error",
     "traceback": [
      "\u001b[0;31m---------------------------------------------------------------------------\u001b[0m",
      "\u001b[0;31mAttributeError\u001b[0m                            Traceback (most recent call last)",
      "\u001b[0;32m<ipython-input-62-0846380005d6>\u001b[0m in \u001b[0;36m<module>\u001b[0;34m\u001b[0m\n\u001b[0;32m----> 1\u001b[0;31m \u001b[0mMatchAndPrint\u001b[0m\u001b[0;34m(\u001b[0m\u001b[0;34m\"^.*?([A-Z].*_TAG).*?:.*?([A-Z].*?) .*\\((..)\\/\\\"(.*)\\\"\\).*\\[(.*)\\].*->.*?([A-Z].*?) .*\\((..)\\/\\\"(.*)\\\"\\).*\\[(.*),(.*),(.*)\\]\"\u001b[0m\u001b[0;34m)\u001b[0m\u001b[0;34m\u001b[0m\u001b[0;34m\u001b[0m\u001b[0m\n\u001b[0m",
      "\u001b[0;32m<ipython-input-46-6c4dcd8432fb>\u001b[0m in \u001b[0;36mMatchAndPrint\u001b[0;34m(p)\u001b[0m\n\u001b[1;32m      6\u001b[0m     \u001b[0mlStr\u001b[0m \u001b[0;34m=\u001b[0m \u001b[0;34m[\u001b[0m\u001b[0ms1\u001b[0m\u001b[0;34m,\u001b[0m \u001b[0ms2\u001b[0m\u001b[0;34m,\u001b[0m \u001b[0ms3\u001b[0m\u001b[0;34m]\u001b[0m\u001b[0;34m\u001b[0m\u001b[0;34m\u001b[0m\u001b[0m\n\u001b[1;32m      7\u001b[0m     \u001b[0;32mfor\u001b[0m \u001b[0ms\u001b[0m \u001b[0;32min\u001b[0m \u001b[0mlStr\u001b[0m\u001b[0;34m:\u001b[0m\u001b[0;34m\u001b[0m\u001b[0;34m\u001b[0m\u001b[0m\n\u001b[0;32m----> 8\u001b[0;31m         \u001b[0mprint\u001b[0m\u001b[0;34m(\u001b[0m\u001b[0mre\u001b[0m\u001b[0;34m.\u001b[0m\u001b[0mmatch\u001b[0m\u001b[0;34m(\u001b[0m\u001b[0mp\u001b[0m\u001b[0;34m,\u001b[0m\u001b[0ms\u001b[0m\u001b[0;34m)\u001b[0m\u001b[0;34m.\u001b[0m\u001b[0mgroups\u001b[0m\u001b[0;34m(\u001b[0m\u001b[0;34m)\u001b[0m\u001b[0;34m)\u001b[0m\u001b[0;34m\u001b[0m\u001b[0;34m\u001b[0m\u001b[0m\n\u001b[0m",
      "\u001b[0;31mAttributeError\u001b[0m: 'NoneType' object has no attribute 'groups'"
     ]
    }
   ],
   "source": [
    "MatchAndPrint(\"^.*?([A-Z].*_TAG).*?:.*?([A-Z].*?) .*\\((..)\\/\\\"(.*)\\\"\\).*\\[(.*)\\].*->.*?([A-Z].*?) .*\\((..)\\/\\\"(.*)\\\"\\).*\\[(.*),(.*),(.*)\\]\")"
   ]
  }
 ],
 "metadata": {
  "kernelspec": {
   "display_name": "Python 3",
   "language": "python",
   "name": "python3"
  },
  "language_info": {
   "codemirror_mode": {
    "name": "ipython",
    "version": 3
   },
   "file_extension": ".py",
   "mimetype": "text/x-python",
   "name": "python",
   "nbconvert_exporter": "python",
   "pygments_lexer": "ipython3",
   "version": "3.8.5"
  }
 },
 "nbformat": 4,
 "nbformat_minor": 5
}
