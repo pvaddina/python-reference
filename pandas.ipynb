{
 "cells": [
  {
   "cell_type": "code",
   "execution_count": 1,
   "metadata": {},
   "outputs": [],
   "source": [
    "import numpy as np\n",
    "import pandas as pd"
   ]
  },
  {
   "cell_type": "markdown",
   "metadata": {},
   "source": [
    "# Series"
   ]
  },
  {
   "cell_type": "code",
   "execution_count": 2,
   "metadata": {},
   "outputs": [
    {
     "name": "stdout",
     "output_type": "stream",
     "text": [
      "a=0     34\n",
      "1     23\n",
      "2     56\n",
      "3     76\n",
      "4    212\n",
      "5     56\n",
      "6    776\n",
      "dtype: int64\n",
      "Index=RangeIndex(start=0, stop=7, step=1), Values=[ 34  23  56  76 212  56 776]\n",
      "\n",
      "a[3]=76\n",
      "Slicing is also same as in numpy a[2:6]=2     56\n",
      "3     76\n",
      "4    212\n",
      "5     56\n",
      "dtype: int64\n"
     ]
    }
   ],
   "source": [
    "# Trivial Series data object with default indices\n",
    "a = pd.Series([34,23,56,76,212,56,776])\n",
    "print(\"a={}\".format(a))\n",
    "print(\"Index={}, Values={}\\n\".format(a.index, a.values))\n",
    "\n",
    "# Accessing individual elements of a series with default indices\n",
    "print(\"a[3]={}\".format(a[3]))\n",
    "print(\"Slicing is also same as in numpy a[2:6]={}\".format(a[2:6]))"
   ]
  },
  {
   "cell_type": "code",
   "execution_count": 3,
   "metadata": {},
   "outputs": [
    {
     "name": "stdout",
     "output_type": "stream",
     "text": [
      "a=A      34\n",
      "B      23\n",
      "C      56\n",
      "D      76\n",
      "E     212\n",
      "F      56\n",
      "NA    776\n",
      "dtype: int64\n",
      "Index=Index(['A', 'B', 'C', 'D', 'E', 'F', 'NA'], dtype='object'), Values=[ 34  23  56  76 212  56 776]\n",
      "\n",
      "a[3]=76\n",
      "a[NA]=776\n",
      "Slicing is also same as in numpy a[2:6]=C     56\n",
      "D     76\n",
      "E    212\n",
      "F     56\n",
      "dtype: int64\n",
      "Slicing is also same as in numpy a[B:E]=B     23\n",
      "C     56\n",
      "D     76\n",
      "E    212\n",
      "dtype: int64\n"
     ]
    }
   ],
   "source": [
    "# Series object with custom indices\n",
    "a = pd.Series([34,23,56,76,212,56,776], index=[\"A\",\"B\",\"C\",\"D\",\"E\",\"F\",\"NA\"])\n",
    "\n",
    "print(\"a={}\".format(a))\n",
    "print(\"Index={}, Values={}\\n\".format(a.index, a.values))\n",
    "\n",
    "# Accessing individual elements of a series with default indices\n",
    "print(\"a[3]={}\".format(a[3]))\n",
    "print(\"a[NA]={}\".format(a[\"NA\"]))\n",
    "print(\"Slicing is also same as in numpy a[2:6]={}\".format(a[2:6]))\n",
    "print(\"Slicing is also same as in numpy a[B:E]={}\".format(a[\"B\":\"E\"]))"
   ]
  },
  {
   "cell_type": "markdown",
   "metadata": {},
   "source": [
    "# DataFrame"
   ]
  },
  {
   "cell_type": "code",
   "execution_count": 4,
   "metadata": {},
   "outputs": [
    {
     "name": "stdout",
     "output_type": "stream",
     "text": [
      "               Origin  Length  Num-Countries  Local-Significance  Test\n",
      "brahmaputra     china  324325              8                   7   NaN\n",
      "ganga           india  453445              6                   9   9.0\n",
      "indus        pakistan    2132              2                   8   NaN\n",
      "mekong          tibet     343              2                   5   5.0\n",
      "mississippi        us    5435              1                   4   4.0\n",
      "nile            egypt   10434              3                  10  10.0\n",
      "yangtze         india    1213              9                   6   6.0\n",
      "Indices=Index(['brahmaputra', 'ganga', 'indus', 'mekong', 'mississippi', 'nile',\n",
      "       'yangtze'],\n",
      "      dtype='object')\n",
      "Values=\n",
      "[['china' 324325 8 7 nan]\n",
      " ['india' 453445 6 9 9.0]\n",
      " ['pakistan' 2132 2 8 nan]\n",
      " ['tibet' 343 2 5 5.0]\n",
      " ['us' 5435 1 4 4.0]\n",
      " ['egypt' 10434 3 10 10.0]\n",
      " ['india' 1213 9 6 6.0]]\n",
      "\n",
      "rivers['Origin']=\n",
      "brahmaputra       china\n",
      "ganga             india\n",
      "indus          pakistan\n",
      "mekong            tibet\n",
      "mississippi          us\n",
      "nile              egypt\n",
      "yangtze           india\n",
      "Name: Origin, dtype: object\n",
      "\n",
      "rivers['ganga':'nile']=\n",
      "               Origin  Length  Num-Countries  Local-Significance  Test\n",
      "ganga           india  453445              6                   9   9.0\n",
      "indus        pakistan    2132              2                   8   NaN\n",
      "mekong          tibet     343              2                   5   5.0\n",
      "mississippi        us    5435              1                   4   4.0\n",
      "nile            egypt   10434              3                  10  10.0\n",
      "\n",
      "rivers[rivers.Length > 343]=\n",
      "               Origin  Length  Num-Countries  Local-Significance  Test\n",
      "brahmaputra     china  324325              8                   7   NaN\n",
      "ganga           india  453445              6                   9   9.0\n",
      "indus        pakistan    2132              2                   8   NaN\n",
      "mississippi        us    5435              1                   4   4.0\n",
      "nile            egypt   10434              3                  10  10.0\n",
      "yangtze         india    1213              9                   6   6.0\n",
      "\n",
      "\n",
      "row 'ganga' of rivers=\n",
      "Origin                 india\n",
      "Length                453445\n",
      "Num-Countries              6\n",
      "Local-Significance         9\n",
      "Test                       9\n",
      "Name: ganga, dtype: object\n"
     ]
    }
   ],
   "source": [
    "corigin = pd.Series([\"egypt\",\"india\",\"pakistan\", \"china\",\"india\", \"tibet\",\"us\"], index=[\"nile\",\"ganga\",\"indus\",\"brahmaputra\",\"yangtze\",\"mekong\",\"mississippi\"])\n",
    "length = pd.Series([10434,453445,2132,324325,1213,343,5435], index=[\"nile\",\"ganga\",\"indus\",\"brahmaputra\",\"yangtze\",\"mekong\",\"mississippi\"])\n",
    "ncountries = pd.Series([3,6,2,8,9,2,1], index=[\"nile\",\"ganga\",\"indus\",\"brahmaputra\",\"yangtze\",\"mekong\",\"mississippi\"])\n",
    "significance = pd.Series([10,9,8,7,6,5,4], index=[\"nile\",\"ganga\",\"indus\",\"brahmaputra\",\"yangtze\",\"mekong\",\"mississippi\"])\n",
    "test = pd.Series([10,9,6,5,4], index=[\"nile\",\"ganga\",\"yangtze\",\"mekong\",\"mississippi\"]) # Notice in sufficient data in this column\n",
    "\n",
    "rivers=pd.DataFrame({\"Origin\":corigin, \"Length\":length, \"Num-Countries\":ncountries, \"Local-Significance\":significance, \"Test\":test})\n",
    "print(rivers)\n",
    "\n",
    "# Accessing all the indices and values\n",
    "print(\"Indices={}\\nValues=\\n{}\\n\".format(rivers.index, rivers.values))\n",
    "print(\"rivers['Origin']=\\n{}\\n\".format(rivers['Origin']))\n",
    "\n",
    "# Access part of the dataframe\n",
    "print(\"rivers['ganga':'nile']=\\n{}\\n\".format(rivers['ganga':'nile']))\n",
    "\n",
    "# Accessing via a mask\n",
    "print(\"rivers[rivers.Length > 343]=\\n{}\\n\\n\".format(rivers[rivers.Length > 343]))\n",
    "\n",
    "# Accessing an entire row\n",
    "print(\"row 'ganga' of rivers=\\n{}\".format(rivers.T['ganga']))"
   ]
  },
  {
   "cell_type": "code",
   "execution_count": 5,
   "metadata": {},
   "outputs": [
    {
     "data": {
      "text/html": [
       "<div>\n",
       "<style scoped>\n",
       "    .dataframe tbody tr th:only-of-type {\n",
       "        vertical-align: middle;\n",
       "    }\n",
       "\n",
       "    .dataframe tbody tr th {\n",
       "        vertical-align: top;\n",
       "    }\n",
       "\n",
       "    .dataframe thead th {\n",
       "        text-align: right;\n",
       "    }\n",
       "</style>\n",
       "<table border=\"1\" class=\"dataframe\">\n",
       "  <thead>\n",
       "    <tr style=\"text-align: right;\">\n",
       "      <th></th>\n",
       "      <th>A</th>\n",
       "      <th>B</th>\n",
       "      <th>C</th>\n",
       "      <th>D</th>\n",
       "    </tr>\n",
       "  </thead>\n",
       "  <tbody>\n",
       "    <tr>\n",
       "      <th>0</th>\n",
       "      <td>9</td>\n",
       "      <td>58</td>\n",
       "      <td>14</td>\n",
       "      <td>15</td>\n",
       "    </tr>\n",
       "    <tr>\n",
       "      <th>1</th>\n",
       "      <td>99</td>\n",
       "      <td>39</td>\n",
       "      <td>9</td>\n",
       "      <td>26</td>\n",
       "    </tr>\n",
       "  </tbody>\n",
       "</table>\n",
       "</div>"
      ],
      "text/plain": [
       "    A   B   C   D\n",
       "0   9  58  14  15\n",
       "1  99  39   9  26"
      ]
     },
     "execution_count": 5,
     "metadata": {},
     "output_type": "execute_result"
    }
   ],
   "source": [
    "a = pd.DataFrame(np.random.randint(1,100,size=(2,4)), columns=list('ABCD'))\n",
    "a"
   ]
  },
  {
   "cell_type": "markdown",
   "metadata": {},
   "source": [
    "## Addition"
   ]
  },
  {
   "cell_type": "code",
   "execution_count": 6,
   "metadata": {},
   "outputs": [
    {
     "name": "stdout",
     "output_type": "stream",
     "text": [
      "a=\n",
      "   A1  A2  A3\n",
      "0  17   8  17\n",
      "1  13   1   1\n",
      "\n",
      "b=\n",
      "    0   1   2\n",
      "0   2  17  19\n",
      "1  13  19  18\n",
      "2  10  19  11\n",
      "3  12   6  18\n",
      "4   4  16  19\n",
      "\n",
      "a+b=\n",
      "   A1  A2  A3   0   1   2\n",
      "0 NaN NaN NaN NaN NaN NaN\n",
      "1 NaN NaN NaN NaN NaN NaN\n",
      "2 NaN NaN NaN NaN NaN NaN\n",
      "3 NaN NaN NaN NaN NaN NaN\n",
      "4 NaN NaN NaN NaN NaN NaN\n",
      "\n",
      "\n",
      "b=\n",
      "   A1  A2  A3\n",
      "0   9  15   3\n",
      "1   7  18  12\n",
      "2  16   8  14\n",
      "3  13  19  18\n",
      "4  10   4   3\n",
      "\n",
      "a+b=\n",
      "     A1    A2    A3\n",
      "0  26.0  23.0  20.0\n",
      "1  20.0  19.0  13.0\n",
      "2   NaN   NaN   NaN\n",
      "3   NaN   NaN   NaN\n",
      "4   NaN   NaN   NaN\n",
      "\n",
      "a+b(with zero filling)=\n",
      "     A1    A2    A3\n",
      "0  26.0  23.0  20.0\n",
      "1  20.0  19.0  13.0\n",
      "2  16.0   8.0  14.0\n",
      "3  13.0  19.0  18.0\n",
      "4  10.0   4.0   3.0\n"
     ]
    }
   ],
   "source": [
    "a = pd.DataFrame(np.random.randint(1,20,size=(2,3)), columns=['A1', 'A2', 'A3'])\n",
    "b = pd.DataFrame(np.random.randint(1,20,size=(5,3)))\n",
    "print(\"a=\\n{}\\n\\nb=\\n{}\\n\\na+b=\\n{}\\n\\n\".format(a,b,a+b))\n",
    "\n",
    "b = pd.DataFrame(np.random.randint(1,20,size=(5,3)), columns=['A1', 'A2', 'A3'])\n",
    "print(\"b=\\n{}\\n\\na+b=\\n{}\\n\\na+b(with zero filling)=\\n{}\".format(b,a+b,a.add(b,fill_value=0)))"
   ]
  },
  {
   "cell_type": "markdown",
   "metadata": {},
   "source": [
    "## From numpy arrays"
   ]
  },
  {
   "cell_type": "code",
   "execution_count": 7,
   "metadata": {},
   "outputs": [
    {
     "name": "stdout",
     "output_type": "stream",
     "text": [
      "a=\n",
      "            A         B\n",
      "ID1  0.290654  0.808280\n",
      "ID2  0.685215  0.026085\n",
      "ID3  0.843341  0.442259\n",
      "\n",
      "b=\n",
      "     A  B\n",
      "ID1  4  5\n",
      "ID2  1  1\n",
      "ID3  3  1\n",
      "\n",
      "a['A']=\n",
      "ID1    0.290654\n",
      "ID2    0.685215\n",
      "ID3    0.843341\n",
      "Name: A, dtype: float64\n",
      "\n",
      "Indices of a=\n",
      "Index(['ID1', 'ID2', 'ID3'], dtype='object')\n",
      "Accessing an index is fine, i[2]=ID3\n"
     ]
    }
   ],
   "source": [
    "a = pd.DataFrame(np.random.rand(3,2), columns=[\"A\", \"B\"], index=[\"ID1\",\"ID2\",\"ID3\"])\n",
    "b = pd.DataFrame(np.random.randint(6,size=(3,2)), columns=[\"A\", \"B\"], index=[\"ID1\",\"ID2\",\"ID3\"])\n",
    "print(\"a=\\n{}\\n\\nb=\\n{}\\n\".format(a,b))\n",
    "print(\"a['A']=\\n{}\".format(a[\"A\"])) # Note the difference to the structured arrays of numpy. In case of structured\n",
    "                                    # arrays of numpy, the rows can be accessed by indexing where as in this case\n",
    "                                    # it is not possible\n",
    "\n",
    "# Note pandas index object is immutable. They can be accessed but cannot be modified\n",
    "i = a.index\n",
    "print(\"\\nIndices of a=\\n{}\".format(i))\n",
    "print(\"Accessing an index is fine, i[2]={}\".format(i[2]))\n",
    "# But changing an index value is not allowed ... The following will give an error\n",
    "#i[2] = \"New Label\""
   ]
  },
  {
   "cell_type": "markdown",
   "metadata": {},
   "source": [
    "# Accessing using indexes: loc, iloc"
   ]
  },
  {
   "cell_type": "code",
   "execution_count": 8,
   "metadata": {
    "scrolled": true
   },
   "outputs": [
    {
     "name": "stdout",
     "output_type": "stream",
     "text": [
      "A      34\n",
      "B      23\n",
      "C      56\n",
      "D      76\n",
      "E     212\n",
      "F      56\n",
      "NA    776\n",
      "dtype: int64\n",
      "a.loc[C]=56, a.iloc[2]=56\n"
     ]
    }
   ],
   "source": [
    "# Series data\n",
    "a = pd.Series([34,23,56,76,212,56,776], index=[\"A\",\"B\",\"C\",\"D\",\"E\",\"F\",\"NA\"])\n",
    "print(a)\n",
    "# Notice the 'i' in iloc which stands for implicit\n",
    "print(\"a.loc[C]={}, a.iloc[2]={}\".format(a.loc[\"C\"], a.iloc[2]))"
   ]
  },
  {
   "cell_type": "markdown",
   "metadata": {},
   "source": [
    "# Dealing with NaN values"
   ]
  },
  {
   "cell_type": "code",
   "execution_count": 9,
   "metadata": {},
   "outputs": [
    {
     "name": "stdout",
     "output_type": "stream",
     "text": [
      "a=0    0.0\n",
      "1    NaN\n",
      "2    2.0\n",
      "3    NaN\n",
      "4    4.0\n",
      "5    NaN\n",
      "6    6.0\n",
      "7    NaN\n",
      "8    8.0\n",
      "dtype: float64\n",
      "\n",
      "a.dropna()=0    0.0\n",
      "2    2.0\n",
      "4    4.0\n",
      "6    6.0\n",
      "8    8.0\n",
      "dtype: float64\n",
      "\n",
      "a.fillna(437)=0      0.0\n",
      "1    437.0\n",
      "2      2.0\n",
      "3    437.0\n",
      "4      4.0\n",
      "5    437.0\n",
      "6      6.0\n",
      "7    437.0\n",
      "8      8.0\n",
      "dtype: float64\n",
      "\n",
      "\n",
      "a=    A   B   C   D   E   F\n",
      "0  24   6  21  37   7  13\n",
      "1  20  39  42  48  16  11\n",
      "2  24   1  26  43   3  49\n",
      "3  31  31  10  31   3  48\n",
      "\n",
      "\n",
      "a=    A   B   C   D   E   F     2\n",
      "0  24   6  21  37   7  13   1.0\n",
      "1  20  39  42  48  16  11   5.0\n",
      "2  24   1  26  43   3  49  99.0\n",
      "3  31  31  10  31   3  48   NaN\n"
     ]
    }
   ],
   "source": [
    "# Example-1: Series data\n",
    "a = pd.Series(range(9))\n",
    "for idx in [1,3,5,7]:\n",
    "    a[idx] = np.nan\n",
    "\n",
    "print(\"a={}\\n\\na.dropna()={}\\n\\na.fillna(437)={}\".format(a, a.dropna(), a.fillna(437)))\n",
    "\n",
    "\n",
    "# Example-2: DataFrames\n",
    "a = pd.DataFrame(np.random.randint(1,50,size=(4,6)), columns=['A', 'B', 'C', 'D', 'E', 'F'])\n",
    "print(\"\\n\\na={}\".format(a))\n",
    "a[2] = pd.Series([1, 5, 99, np.nan, 33, np.nan])\n",
    "print(\"\\n\\na={}\".format(a))"
   ]
  },
  {
   "cell_type": "markdown",
   "metadata": {},
   "source": [
    "# MultiIndex\n",
    "## DataFrame"
   ]
  },
  {
   "cell_type": "code",
   "execution_count": 10,
   "metadata": {},
   "outputs": [
    {
     "name": "stdout",
     "output_type": "stream",
     "text": [
      "pop=\n",
      "                 Population\n",
      "California 2000    33871648\n",
      "           2010    37253956\n",
      "New York   2000    18976457\n",
      "           2010    19378102\n",
      "Texas      2000    20851820\n",
      "           2010    25145561\n",
      "\n",
      "pop[\"Population\"]=\n",
      "California  2000    33871648\n",
      "            2010    37253956\n",
      "New York    2000    18976457\n",
      "            2010    19378102\n",
      "Texas       2000    20851820\n",
      "            2010    25145561\n",
      "Name: Population, dtype: int64\n",
      "\n",
      "pop.Population=\n",
      "California  2000    33871648\n",
      "            2010    37253956\n",
      "New York    2000    18976457\n",
      "            2010    19378102\n",
      "Texas       2000    20851820\n",
      "            2010    25145561\n",
      "Name: Population, dtype: int64\n"
     ]
    }
   ],
   "source": [
    "# Creating a DataFrame\n",
    "index = [('California', 2000), ('California', 2010), ('New York', 2000), ('New York', 2010), ('Texas', 2000), ('Texas', 2010)]\n",
    "populations = [33871648, 37253956, 18976457, 19378102, 20851820, 25145561]\n",
    "newIndex = pd.MultiIndex.from_tuples(index)\n",
    "pop = pd.DataFrame(populations, index=newIndex, columns=[\"Population\"])\n",
    "print(\"pop=\\n{}\\n\\npop[\\\"Population\\\"]=\\n{}\\n\\npop.Population=\\n{}\".format(pop, pop[\"Population\"], pop.Population))"
   ]
  },
  {
   "cell_type": "code",
   "execution_count": 19,
   "metadata": {},
   "outputs": [
    {
     "data": {
      "text/html": [
       "<div>\n",
       "<style scoped>\n",
       "    .dataframe tbody tr th:only-of-type {\n",
       "        vertical-align: middle;\n",
       "    }\n",
       "\n",
       "    .dataframe tbody tr th {\n",
       "        vertical-align: top;\n",
       "    }\n",
       "\n",
       "    .dataframe thead th {\n",
       "        text-align: right;\n",
       "    }\n",
       "</style>\n",
       "<table border=\"1\" class=\"dataframe\">\n",
       "  <thead>\n",
       "    <tr style=\"text-align: right;\">\n",
       "      <th></th>\n",
       "      <th></th>\n",
       "      <th>data1</th>\n",
       "      <th>data2</th>\n",
       "    </tr>\n",
       "  </thead>\n",
       "  <tbody>\n",
       "    <tr>\n",
       "      <th rowspan=\"2\" valign=\"top\">a</th>\n",
       "      <th>1</th>\n",
       "      <td>0.971156</td>\n",
       "      <td>0.438832</td>\n",
       "    </tr>\n",
       "    <tr>\n",
       "      <th>2</th>\n",
       "      <td>0.488923</td>\n",
       "      <td>0.389730</td>\n",
       "    </tr>\n",
       "    <tr>\n",
       "      <th>b</th>\n",
       "      <th>3</th>\n",
       "      <td>0.897265</td>\n",
       "      <td>0.972312</td>\n",
       "    </tr>\n",
       "    <tr>\n",
       "      <th>c</th>\n",
       "      <th>4</th>\n",
       "      <td>0.685634</td>\n",
       "      <td>0.898333</td>\n",
       "    </tr>\n",
       "  </tbody>\n",
       "</table>\n",
       "</div>"
      ],
      "text/plain": [
       "        data1     data2\n",
       "a 1  0.971156  0.438832\n",
       "  2  0.488923  0.389730\n",
       "b 3  0.897265  0.972312\n",
       "c 4  0.685634  0.898333"
      ]
     },
     "execution_count": 19,
     "metadata": {},
     "output_type": "execute_result"
    }
   ],
   "source": [
    "df = pd.DataFrame(np.random.rand(4, 2), index=[['a', 'a', 'b', 'c'], [1, 2, 3, 4]], columns=['data1', 'data2'])\n",
    "df"
   ]
  },
  {
   "cell_type": "markdown",
   "metadata": {},
   "source": [
    "## Series"
   ]
  },
  {
   "cell_type": "code",
   "execution_count": 46,
   "metadata": {},
   "outputs": [
    {
     "name": "stdout",
     "output_type": "stream",
     "text": [
      "pop=\n",
      "California  2000    33871648\n",
      "            2010    37253956\n",
      "New York    2000    18976457\n",
      "            2010    19378102\n",
      "Texas       2000    20851820\n",
      "            2015    25145561\n",
      "dtype: int64\n",
      "\n",
      "pop[:,2015]=\n",
      "Texas    25145561\n",
      "dtype: int64\n",
      "\n",
      "pop.unstack()=\n",
      "                  2000        2010        2015\n",
      "California  33871648.0  37253956.0         NaN\n",
      "New York    18976457.0  19378102.0         NaN\n",
      "Texas       20851820.0         NaN  25145561.0\n",
      "\n",
      "pop_df=\n",
      "                    total  under18\n",
      "California 2000  33871648  9267089\n",
      "           2010  37253956  9284094\n",
      "New York   2000  18976457  4687374\n",
      "           2010  19378102  4318033\n",
      "Texas      2000  20851820  5906301\n",
      "           2015  25145561  6879014\n",
      "\n",
      "pop['Texas',2015]=\n",
      "25145561\n",
      "\n",
      "pop['Texas':'California']=\n",
      "Series([], dtype: int64)\n",
      "\n",
      "pop['California':'Texas']=\n",
      "California  2000    33871648\n",
      "            2010    37253956\n",
      "New York    2000    18976457\n",
      "            2010    19378102\n",
      "Texas       2000    20851820\n",
      "            2015    25145561\n",
      "dtype: int64\n",
      "\n"
     ]
    }
   ],
   "source": [
    "# Creating a Series\n",
    "index = [('California', 2000), ('California', 2010), ('New York', 2000), ('New York', 2010), ('Texas', 2000), ('Texas', 2015)]\n",
    "populations = [33871648, 37253956, 18976457, 19378102, 20851820, 25145561]\n",
    "newIndex = pd.MultiIndex.from_tuples(index)\n",
    "pop = pd.Series(populations, index=newIndex)\n",
    "print(\"pop=\\n{}\\n\\npop[:,2015]=\\n{}\\n\\npop.unstack()=\\n{}\\n\".format(pop, pop[:,2015], pop.unstack()))\n",
    "\n",
    "# Creating a DataFrame using a series\n",
    "pop_df = pd.DataFrame({'total': pop, 'under18': [9267089, 9284094, 4687374, 4318033, 5906301, 6879014]})\n",
    "print(\"pop_df=\\n{}\\n\".format(pop_df))\n",
    "# Note if the DataFrame has more than 1 columns, then indexing as shown below is not possible\n",
    "#print(\"pop_df['Texas',2015]=\\n{}\".format(pop_df['Texas',2015]))\n",
    "print(\"pop['Texas',2015]=\\n{}\\n\".format(pop['Texas',2015]))\n",
    "print(\"pop['Texas':'California']=\\n{}\\n\".format(pop['Texas':'California']))\n",
    "print(\"pop['California':'Texas']=\\n{}\\n\".format(pop['California':'Texas']))"
   ]
  },
  {
   "cell_type": "code",
   "execution_count": null,
   "metadata": {},
   "outputs": [],
   "source": []
  }
 ],
 "metadata": {
  "kernelspec": {
   "display_name": "Python 3",
   "language": "python",
   "name": "python3"
  },
  "language_info": {
   "codemirror_mode": {
    "name": "ipython",
    "version": 3
   },
   "file_extension": ".py",
   "mimetype": "text/x-python",
   "name": "python",
   "nbconvert_exporter": "python",
   "pygments_lexer": "ipython3",
   "version": "3.7.3"
  }
 },
 "nbformat": 4,
 "nbformat_minor": 2
}
