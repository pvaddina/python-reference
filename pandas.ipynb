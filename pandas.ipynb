{
 "cells": [
  {
   "cell_type": "code",
   "execution_count": 2,
   "metadata": {},
   "outputs": [],
   "source": [
    "import numpy as np\n",
    "import pandas as pd"
   ]
  },
  {
   "cell_type": "markdown",
   "metadata": {},
   "source": [
    "# Series"
   ]
  },
  {
   "cell_type": "code",
   "execution_count": 3,
   "metadata": {},
   "outputs": [
    {
     "name": "stdout",
     "output_type": "stream",
     "text": [
      "a=0     34\n",
      "1     23\n",
      "2     56\n",
      "3     76\n",
      "4    212\n",
      "5     56\n",
      "6    776\n",
      "dtype: int64\n",
      "Index=RangeIndex(start=0, stop=7, step=1), Values=[ 34  23  56  76 212  56 776]\n",
      "\n",
      "a[3]=76\n",
      "Slicing is also same as in numpy a[2:6]=2     56\n",
      "3     76\n",
      "4    212\n",
      "5     56\n",
      "dtype: int64\n"
     ]
    }
   ],
   "source": [
    "# Trivial Series data object with default indices\n",
    "a = pd.Series([34,23,56,76,212,56,776])\n",
    "print(\"a={}\".format(a))\n",
    "print(\"Index={}, Values={}\\n\".format(a.index, a.values))\n",
    "\n",
    "# Accessing individual elements of a series with default indices\n",
    "print(\"a[3]={}\".format(a[3]))\n",
    "print(\"Slicing is also same as in numpy a[2:6]={}\".format(a[2:6]))"
   ]
  },
  {
   "cell_type": "code",
   "execution_count": 4,
   "metadata": {},
   "outputs": [
    {
     "name": "stdout",
     "output_type": "stream",
     "text": [
      "a=A      34\n",
      "B      23\n",
      "C      56\n",
      "D      76\n",
      "E     212\n",
      "F      56\n",
      "NA    776\n",
      "dtype: int64\n",
      "Index=Index(['A', 'B', 'C', 'D', 'E', 'F', 'NA'], dtype='object'), Values=[ 34  23  56  76 212  56 776]\n",
      "\n",
      "a[3]=76\n",
      "a[NA]=776\n",
      "Slicing is also same as in numpy a[2:6]=C     56\n",
      "D     76\n",
      "E    212\n",
      "F     56\n",
      "dtype: int64\n",
      "Slicing is also same as in numpy a[B:E]=B     23\n",
      "C     56\n",
      "D     76\n",
      "E    212\n",
      "dtype: int64\n"
     ]
    }
   ],
   "source": [
    "# Series object with custom indices\n",
    "a = pd.Series([34,23,56,76,212,56,776], index=[\"A\",\"B\",\"C\",\"D\",\"E\",\"F\",\"NA\"])\n",
    "\n",
    "print(\"a={}\".format(a))\n",
    "print(\"Index={}, Values={}\\n\".format(a.index, a.values))\n",
    "\n",
    "# Accessing individual elements of a series with default indices\n",
    "print(\"a[3]={}\".format(a[3]))\n",
    "print(\"a[NA]={}\".format(a[\"NA\"]))\n",
    "print(\"Slicing is also same as in numpy a[2:6]={}\".format(a[2:6]))\n",
    "print(\"Slicing is also same as in numpy a[B:E]={}\".format(a[\"B\":\"E\"]))"
   ]
  },
  {
   "cell_type": "markdown",
   "metadata": {},
   "source": [
    "## DataFrame"
   ]
  },
  {
   "cell_type": "code",
   "execution_count": 14,
   "metadata": {},
   "outputs": [
    {
     "name": "stdout",
     "output_type": "stream",
     "text": [
      "               Origin  Length  Num-Countries  Local-Significance  Test\n",
      "brahmaputra     china  324325              8                   7   NaN\n",
      "ganga           india  453445              6                   9   9.0\n",
      "indus        pakistan    2132              2                   8   NaN\n",
      "mekong          tibet     343              2                   5   5.0\n",
      "mississippi        us    5435              1                   4   4.0\n",
      "nile            egypt   10434              3                  10  10.0\n",
      "yangtze         india    1213              9                   6   6.0\n",
      "Indices=Index(['brahmaputra', 'ganga', 'indus', 'mekong', 'mississippi', 'nile',\n",
      "       'yangtze'],\n",
      "      dtype='object')\n",
      "Values=[['china' 324325 8 7 nan]\n",
      " ['india' 453445 6 9 9.0]\n",
      " ['pakistan' 2132 2 8 nan]\n",
      " ['tibet' 343 2 5 5.0]\n",
      " ['us' 5435 1 4 4.0]\n",
      " ['egypt' 10434 3 10 10.0]\n",
      " ['india' 1213 9 6 6.0]]\n",
      "\n",
      "rivers['Origin']=brahmaputra       china\n",
      "ganga             india\n",
      "indus          pakistan\n",
      "mekong            tibet\n",
      "mississippi          us\n",
      "nile              egypt\n",
      "yangtze           india\n",
      "Name: Origin, dtype: object\n",
      "\n"
     ]
    }
   ],
   "source": [
    "corigin = pd.Series([\"egypt\",\"india\",\"pakistan\", \"china\",\"india\", \"tibet\",\"us\"], index=[\"nile\",\"ganga\",\"indus\",\"brahmaputra\",\"yangtze\",\"mekong\",\"mississippi\"])\n",
    "length = pd.Series([10434,453445,2132,324325,1213,343,5435], index=[\"nile\",\"ganga\",\"indus\",\"brahmaputra\",\"yangtze\",\"mekong\",\"mississippi\"])\n",
    "ncountries = pd.Series([3,6,2,8,9,2,1], index=[\"nile\",\"ganga\",\"indus\",\"brahmaputra\",\"yangtze\",\"mekong\",\"mississippi\"])\n",
    "significance = pd.Series([10,9,8,7,6,5,4], index=[\"nile\",\"ganga\",\"indus\",\"brahmaputra\",\"yangtze\",\"mekong\",\"mississippi\"])\n",
    "test = pd.Series([10,9,6,5,4], index=[\"nile\",\"ganga\",\"yangtze\",\"mekong\",\"mississippi\"]) # Notice in sufficient data in this column\n",
    "\n",
    "rivers=pd.DataFrame({\"Origin\":corigin, \"Length\":length, \"Num-Countries\":ncountries, \"Local-Significance\":significance, \"Test\":test})\n",
    "print(rivers)\n",
    "\n",
    "# Accessing all the indices and values\n",
    "print(\"Indices={}\\nValues={}\\n\".format(rivers.index, rivers.values))\n",
    "print(\"rivers['Origin']={}\\n\".format(rivers['Origin']))"
   ]
  },
  {
   "cell_type": "markdown",
   "metadata": {},
   "source": [
    "## From numpy arrays"
   ]
  },
  {
   "cell_type": "code",
   "execution_count": 37,
   "metadata": {},
   "outputs": [
    {
     "name": "stdout",
     "output_type": "stream",
     "text": [
      "a=\n",
      "            A         B\n",
      "ID1  0.780158  0.922878\n",
      "ID2  0.114365  0.066713\n",
      "ID3  0.505939  0.985914\n",
      "\n",
      "b=\n",
      "     A  B\n",
      "ID1  1  1\n",
      "ID2  0  3\n",
      "ID3  1  3\n",
      "\n",
      "a['A']=\n",
      "ID1    0.780158\n",
      "ID2    0.114365\n",
      "ID3    0.505939\n",
      "Name: A, dtype: float64\n",
      "\n",
      "Indices of a=\n",
      "Index(['ID1', 'ID2', 'ID3'], dtype='object')\n",
      "Accessing an index is fine, i[2]=ID3\n"
     ]
    }
   ],
   "source": [
    "a = pd.DataFrame(np.random.rand(3,2), columns=[\"A\", \"B\"], index=[\"ID1\",\"ID2\",\"ID3\"])\n",
    "b = pd.DataFrame(np.random.randint(6,size=(3,2)), columns=[\"A\", \"B\"], index=[\"ID1\",\"ID2\",\"ID3\"])\n",
    "print(\"a=\\n{}\\n\\nb=\\n{}\\n\".format(a,b))\n",
    "print(\"a['A']=\\n{}\".format(a[\"A\"])) # Note the difference to the structured arrays of numpy. In case of structured\n",
    "                                    # arrays of numpy, the rows can be accessed by indexing where as in this case\n",
    "                                    # it is not possible\n",
    "\n",
    "# Note pandas index object is immutable. They can be accessed but cannot be modified\n",
    "i = a.index\n",
    "print(\"\\nIndices of a=\\n{}\".format(i))\n",
    "print(\"Accessing an index is fine, i[2]={}\".format(i[2]))\n",
    "# But changing an index value is not allowed ... The following will give an error\n",
    "#i[2] = \"New Label\""
   ]
  },
  {
   "cell_type": "markdown",
   "metadata": {},
   "source": [
    "# Accessing using indexes: loc, iloc, ix"
   ]
  },
  {
   "cell_type": "code",
   "execution_count": 47,
   "metadata": {},
   "outputs": [
    {
     "name": "stdout",
     "output_type": "stream",
     "text": [
      "A      34\n",
      "B      23\n",
      "C      56\n",
      "D      76\n",
      "E     212\n",
      "F      56\n",
      "NA    776\n",
      "dtype: int64\n",
      "a.loc[C]=56\n"
     ]
    }
   ],
   "source": [
    "# Series data\n",
    "a = pd.Series([34,23,56,76,212,56,776], index=[\"A\",\"B\",\"C\",\"D\",\"E\",\"F\",\"NA\"])\n",
    "print(a)\n",
    "# Notice the 'i' in iloc which stands for implicit\n",
    "print(\"a.loc[C]={}\".format(a.loc[\"C\"]))"
   ]
  }
 ],
 "metadata": {
  "kernelspec": {
   "display_name": "Python 3",
   "language": "python",
   "name": "python3"
  },
  "language_info": {
   "codemirror_mode": {
    "name": "ipython",
    "version": 3
   },
   "file_extension": ".py",
   "mimetype": "text/x-python",
   "name": "python",
   "nbconvert_exporter": "python",
   "pygments_lexer": "ipython3",
   "version": "3.7.3"
  }
 },
 "nbformat": 4,
 "nbformat_minor": 2
}
