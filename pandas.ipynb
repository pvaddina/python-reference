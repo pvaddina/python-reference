{
 "cells": [
  {
   "cell_type": "code",
   "execution_count": 1,
   "metadata": {},
   "outputs": [],
   "source": [
    "import numpy as np\n",
    "import pandas as pd"
   ]
  },
  {
   "cell_type": "markdown",
   "metadata": {},
   "source": [
    "# Series"
   ]
  },
  {
   "cell_type": "code",
   "execution_count": 26,
   "metadata": {},
   "outputs": [
    {
     "name": "stdout",
     "output_type": "stream",
     "text": [
      "a=0     34\n",
      "1     23\n",
      "2     56\n",
      "3     76\n",
      "4    212\n",
      "5     56\n",
      "6    776\n",
      "dtype: int64\n",
      "Index=RangeIndex(start=0, stop=7, step=1), Values=[ 34  23  56  76 212  56 776]\n",
      "\n",
      "a[3]=76\n",
      "Slicing is also same as in numpy a[2:6]=2     56\n",
      "3     76\n",
      "4    212\n",
      "5     56\n",
      "dtype: int64\n"
     ]
    }
   ],
   "source": [
    "# Trivial Series data object with default indices\n",
    "a = pd.Series([34,23,56,76,212,56,776])\n",
    "print(\"a={}\".format(a))\n",
    "print(\"Index={}, Values={}\\n\".format(a.index, a.values))\n",
    "\n",
    "# Accessing individual elements of a series with default indices\n",
    "print(\"a[3]={}\".format(a[3]))\n",
    "print(\"Slicing is also same as in numpy a[2:6]={}\".format(a[2:6]))"
   ]
  },
  {
   "cell_type": "code",
   "execution_count": 30,
   "metadata": {},
   "outputs": [
    {
     "name": "stdout",
     "output_type": "stream",
     "text": [
      "a=A      34\n",
      "B      23\n",
      "C      56\n",
      "D      76\n",
      "E     212\n",
      "F      56\n",
      "NA    776\n",
      "dtype: int64\n",
      "Index=Index(['A', 'B', 'C', 'D', 'E', 'F', 'NA'], dtype='object'), Values=[ 34  23  56  76 212  56 776]\n",
      "\n",
      "a[3]=76\n",
      "a[NA]=776\n",
      "Slicing is also same as in numpy a[2:6]=C     56\n",
      "D     76\n",
      "E    212\n",
      "F     56\n",
      "dtype: int64\n",
      "Slicing is also same as in numpy a[B:E]=B     23\n",
      "C     56\n",
      "D     76\n",
      "E    212\n",
      "dtype: int64\n"
     ]
    }
   ],
   "source": [
    "# Series object with custom indices\n",
    "a = pd.Series([34,23,56,76,212,56,776], index=[\"A\",\"B\",\"C\",\"D\",\"E\",\"F\",\"NA\"])\n",
    "\n",
    "print(\"a={}\".format(a))\n",
    "print(\"Index={}, Values={}\\n\".format(a.index, a.values))\n",
    "\n",
    "# Accessing individual elements of a series with default indices\n",
    "print(\"a[3]={}\".format(a[3]))\n",
    "print(\"a[NA]={}\".format(a[\"NA\"]))\n",
    "print(\"Slicing is also same as in numpy a[2:6]={}\".format(a[2:6]))\n",
    "print(\"Slicing is also same as in numpy a[B:E]={}\".format(a[\"B\":\"E\"]))"
   ]
  },
  {
   "cell_type": "markdown",
   "metadata": {},
   "source": [
    "## DataFrame"
   ]
  },
  {
   "cell_type": "code",
   "execution_count": 39,
   "metadata": {},
   "outputs": [
    {
     "name": "stdout",
     "output_type": "stream",
     "text": [
      "            Country-of-Origin  Length(in KMs)  Number-of-Countries-it-flows\n",
      "nile                    egypt           10434                             3\n",
      "ganga                   india          453445                             6\n",
      "indus                pakistan            2132                             2\n",
      "brahmaputra             china          324325                             8\n",
      "yangtze                 india            1213                             9\n",
      "mekong                  tibet             343                             2\n",
      "mississippi                us            5435                             1\n",
      "Indices=Index(['nile', 'ganga', 'indus', 'brahmaputra', 'yangtze', 'mekong',\n",
      "       'mississippi'],\n",
      "      dtype='object')\n",
      "Values=[['egypt' 10434 3]\n",
      " ['india' 453445 6]\n",
      " ['pakistan' 2132 2]\n",
      " ['china' 324325 8]\n",
      " ['india' 1213 9]\n",
      " ['tibet' 343 2]\n",
      " ['us' 5435 1]]\n",
      "rivers[ganga]=nile              egypt\n",
      "ganga             india\n",
      "indus          pakistan\n",
      "brahmaputra       china\n",
      "yangtze           india\n",
      "mekong            tibet\n",
      "mississippi          us\n",
      "Name: Country-of-Origin, dtype: object\n"
     ]
    }
   ],
   "source": [
    "corigin = pd.Series([\"egypt\",\"india\",\"pakistan\", \"china\",\"india\", \"tibet\",\"us\"], index=[\"nile\",\"ganga\",\"indus\",\"brahmaputra\",\"yangtze\",\"mekong\",\"mississippi\"])\n",
    "length = pd.Series([10434,453445,2132,324325,1213,343,5435], index=[\"nile\",\"ganga\",\"indus\",\"brahmaputra\",\"yangtze\",\"mekong\",\"mississippi\"])\n",
    "ncountries = pd.Series([3,6,2,8,9,2,1], index=[\"nile\",\"ganga\",\"indus\",\"brahmaputra\",\"yangtze\",\"mekong\",\"mississippi\"])\n",
    "\n",
    "rivers=pd.DataFrame({\"Country-of-Origin\":corigin, \"Length(in KMs)\":length, \"Number-of-Countries-it-flows\":ncountries})\n",
    "print(rivers)\n",
    "\n",
    "# Accessing all the indices and values\n",
    "print(\"Indices={}\\nValues={}\".format(rivers.index, rivers.values))\n",
    "print(\"rivers[ganga]={}\".format(rivers['Country-of-Origin']))"
   ]
  }
 ],
 "metadata": {
  "kernelspec": {
   "display_name": "Python 3",
   "language": "python",
   "name": "python3"
  },
  "language_info": {
   "codemirror_mode": {
    "name": "ipython",
    "version": 3
   },
   "file_extension": ".py",
   "mimetype": "text/x-python",
   "name": "python",
   "nbconvert_exporter": "python",
   "pygments_lexer": "ipython3",
   "version": "3.7.3"
  }
 },
 "nbformat": 4,
 "nbformat_minor": 2
}
