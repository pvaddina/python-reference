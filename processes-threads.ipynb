{
 "cells": [
  {
   "cell_type": "markdown",
   "metadata": {},
   "source": [
    "# Processes and Threads"
   ]
  },
  {
   "cell_type": "markdown",
   "metadata": {},
   "source": [
    "## Different ways of calling an external process\n",
    "\n",
    "```python\n",
    "from subprocess import call \n",
    "import subprocess \n",
    "import os \n",
    "call(command) \n",
    "#subprocess.run(command, stdout=subprocess.PIPE)    #do_fork(command) \n",
    "#subprocess.Popen(command, stdout=subprocess.PIPE) \n",
    "```"
   ]
  },
  {
   "cell_type": "markdown",
   "metadata": {},
   "source": [
    "## Starting a new process  \n",
    "\n",
    "```python\n",
    "from multiprocessing import Process  \n",
    "\n",
    "def process_def(command): \n",
    "    subprocess.Popen(command, stdout=subprocess.PIPE)   \n",
    "\n",
    "def do_fork(process_args): \n",
    "    p = Process(target=process_def, args=(process_args,)) \n",
    "    p.start()  \n",
    "```"
   ]
  },
  {
   "cell_type": "markdown",
   "metadata": {},
   "source": [
    "# Method to check if a program exists in the first place \n",
    "\n",
    "```python\n",
    "try: \n",
    "  out = subprocess.check_output(['cmake', '--version']) \n",
    "except OSError: \n",
    "  raise RuntimeError(\"CMake must be installed to build the following extensions: \" + \", \".join(e.name for e in self.extensions)) \n",
    "```"
   ]
  }
 ],
 "metadata": {
  "kernelspec": {
   "display_name": "Python 3",
   "language": "python",
   "name": "python3"
  },
  "language_info": {
   "codemirror_mode": {
    "name": "ipython",
    "version": 3
   },
   "file_extension": ".py",
   "mimetype": "text/x-python",
   "name": "python",
   "nbconvert_exporter": "python",
   "pygments_lexer": "ipython3",
   "version": "3.7.3"
  }
 },
 "nbformat": 4,
 "nbformat_minor": 2
}
