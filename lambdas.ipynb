{
 "cells": [
  {
   "cell_type": "markdown",
   "id": "8d09c2bb",
   "metadata": {},
   "source": [
    "# Lambdas with if statement"
   ]
  },
  {
   "cell_type": "code",
   "execution_count": 10,
   "id": "5d75cb0c",
   "metadata": {},
   "outputs": [
    {
     "name": "stdout",
     "output_type": "stream",
     "text": [
      "value=0\n",
      "value=0\n",
      "value=0\n",
      "value=0\n",
      "value=0\n",
      "value=0\n",
      "value=0\n",
      "value=0\n",
      "value=0\n",
      "value=0\n",
      "value=0\n",
      "value=1200\n",
      "value=0\n",
      "value=0\n",
      "value=0\n",
      "value=0\n",
      "value=0\n",
      "value=0\n",
      "value=0\n",
      "value=0\n",
      "value=0\n",
      "value=0\n",
      "value=0\n",
      "value=1200\n",
      "value=0\n",
      "value=0\n",
      "value=0\n",
      "value=0\n",
      "value=0\n",
      "value=0\n",
      "value=0\n",
      "value=0\n",
      "value=0\n",
      "value=0\n",
      "value=0\n"
     ]
    }
   ],
   "source": [
    "intervalVal = lambda month,frequency,baseval: baseval*frequency if (month%frequency==0) else 0\n",
    "for m in range(1,36):\n",
    "    print(\"value={}\".format(intervalVal(m,12,100)))"
   ]
  }
 ],
 "metadata": {
  "kernelspec": {
   "display_name": "Python 3 (ipykernel)",
   "language": "python",
   "name": "python3"
  },
  "language_info": {
   "codemirror_mode": {
    "name": "ipython",
    "version": 3
   },
   "file_extension": ".py",
   "mimetype": "text/x-python",
   "name": "python",
   "nbconvert_exporter": "python",
   "pygments_lexer": "ipython3",
   "version": "3.9.7"
  }
 },
 "nbformat": 4,
 "nbformat_minor": 5
}
